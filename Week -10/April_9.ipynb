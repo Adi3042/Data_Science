{
 "cells": [
  {
   "cell_type": "markdown",
   "id": "35dbf914-b634-4291-8a67-35570bd21a57",
   "metadata": {},
   "source": [
    "<div class=\"alert alert-block alert-info\" align=\"center\" style=\"padding: 10px;\">    \n",
    "    <h1><b><u>Naive Bayes-1</u></b></h1>\n",
    "</div>\n",
    "\n",
    "\n",
    "**Q1. What is Bayes' theorem?**\n",
    "\n",
    "(i). Bayes’ theorem describes the probability of occurrence of an event related to any condition. \n",
    "\n",
    "(ii). It is also considered for the case of conditional probability. \n",
    "\n",
    "(iii). Bayes theorem is also known as the formula for the probability of “causes”.\n",
    "\n",
    "---\n",
    "\n",
    "**Q2. What is the formula for Bayes' theorem?**"
   ]
  },
  {
   "attachments": {
    "320459c9-7722-4835-b9fd-fbc048ebaf8d.png": {
     "image/png": "[encoded data removed]"
    }
   },
   "cell_type": "markdown",
   "id": "1cac1370-c63a-419d-8232-cb6d4061b2c7",
   "metadata": {},
   "source": [
    "![Bayes-Theorem.png](attachment:320459c9-7722-4835-b9fd-fbc048ebaf8d.png)"
   ]
  },
  {
   "cell_type": "markdown",
   "id": "339b1735-862d-4a7c-9a77-23c89b203bd7",
   "metadata": {},
   "source": [
    "**Where:-**\n",
    "\n",
    "(i). P(A∣B) is the posterior probability of hypothesis A being true given evidence B.\n",
    "\n",
    "(ii). P(B∣A) is the probability of observing evidence B given that hypothesis A is true (likelihood).\n",
    "\n",
    "(iii). P(A) is the prior probability of hypothesis A being true (prior belief).\n",
    "\n",
    "(iv). P(B) is the probability of observing evidence B (marginal likelihood).\n",
    "\n",
    "---\n",
    "\n",
    "**Q3. How is Bayes theorem used in practice?**\n",
    "\n",
    "Bayes theorem is used in various fields, including statistics, machine learning, and data analysis, to update beliefs or probabilities based on new information.\n",
    "\n",
    "In practice, it can be applied to solve problems related to classification, prediction, filtering, and more. \n",
    "\n",
    "Common applications include spam email filtering, medical diagnosis, and Bayesian inference in statistics.\n",
    "\n",
    "---\n",
    "\n",
    "**Q4. What is the relationship between Bayes theorem and conditional probability?**\n",
    "\n",
    "**Conditional Probability (P(A|B)):**\n",
    "\n",
    "Conditional probability is the probability of event A occurring given that event B has occurred. \n",
    "\n",
    "It expresses how the probability of one event depends on the occurrence or knowledge of another event.\n",
    "\n",
    "Bayes theorem is a mathematical formula that describes how to calculate conditional probabilities. \n",
    "\n",
    "It relates the probability of an event occurring given new evidence (posterior probability) to the probability of the evidence given\n",
    "the event (likelihood), the initial belief about the event (prior probability), and the overall probability of the evidence. \n",
    "\n",
    "Bayes theorem is a way to update beliefs based on new information and is a fundamental concept in probability theory and Bayesian statistics.\n",
    "\n",
    "---\n",
    "\n",
    "**Q5. How do you choose which type of Naive Bayes classifier to use for any given problem?**\n",
    "\n",
    "The choice of which type of Naive Bayes classifier to use depends on the nature of the data and the assumptions you can make about the \n",
    "independence of features. \n",
    "    \n",
    "There are three common types of Naive Bayes classifiers:-\n",
    "\n",
    "**Gaussian Naive Bayes:**\n",
    "\n",
    "Suitable for continuous data, assuming features are normally distributed.\n",
    "\n",
    "**Multinomial Naive Bayes:**\n",
    "\n",
    "Typically used for discrete data like text, where features represent word counts or frequencies.\n",
    "\n",
    "**Bernoulli Naive Bayes:**\n",
    "\n",
    "Used for binary data, where features are binary (0 or 1).\n",
    "\n",
    "You choose the type that best matches the characteristics of your data.\n",
    "\n",
    "---\n",
    "\n",
    "**Q6. Assignment:-**\n",
    "\n",
    "You have a dataset with two features, X1 and X2, and two possible classes, A and B. You want to use Naive\n",
    "Bayes to classify a new instance with features X1 = 3 and X2 = 4. The following table shows the frequency of\n",
    "each feature value for each class:-\n",
    "\n",
    "| Class | X1=1 | X1=2 | X1=3 | X2=1 | X2=2 | X2=3 | X2=4 |\n",
    "|-------|-----|-----|-----|-----|-----|-----|-----|\n",
    "| A     | 3   | 3   | 4   | 4   | 3   | 3   | 3   |\n",
    "| B     | 2   | 2   | 1   | 2   | 2   | 2   | 3   |\n",
    "\n",
    "Assuming equal prior probabilities for each class, which class would Naive Bayes predict the new instance to belong to?"
   ]
  },
  {
   "cell_type": "code",
   "execution_count": 33,
   "id": "b5d816d6-685b-47d3-ae9c-8978d152da5c",
   "metadata": {},
   "outputs": [
    {
     "name": "stdout",
     "output_type": "stream",
     "text": [
      "Predicted Class: A\n"
     ]
    }
   ],
   "source": [
    "import numpy as np\n",
    "\n",
    "data = {\n",
    "    'A': {'X1=1': 3, 'X1=2': 3, 'X1=3': 4, 'X2=1': 4, 'X2=2': 3, 'X2=3': 3, 'X2=4': 3},\n",
    "    'B': {'X1=1': 2, 'X1=2': 2, 'X1=3': 1, 'X2=1': 2, 'X2=2': 2, 'X2=3': 2, 'X2=4': 3}\n",
    "}\n",
    "\n",
    "# Prior probabilities\n",
    "prior_A = 0.5\n",
    "prior_B = 0.5\n",
    "\n",
    "# New instance with features\n",
    "new_instance = {'X1=3': 1, 'X2=4': 1}\n",
    "alpha = 1\n",
    "likelihood_A = 1.0\n",
    "likelihood_B = 1.0\n",
    "\n",
    "for feature, value in new_instance.items():\n",
    "    \n",
    "    # Calculate the likelihood for class A\n",
    "    likelihood_A *= (data['A'].get(feature, 0) + alpha) / (sum(data['A'].values()) + alpha * len(new_instance))\n",
    "\n",
    "    # Calculate the likelihood for class B in a similar manner\n",
    "    likelihood_B *= (data['B'].get(feature, 0) + alpha) / (sum(data['B'].values()) + alpha * len(new_instance))\n",
    "\n",
    "# Apply Bayes' theorem \n",
    "posterior_A = (likelihood_A * prior_A) / ((likelihood_A * prior_A) + (likelihood_B * prior_B))\n",
    "posterior_B = (likelihood_B * prior_B) / ((likelihood_A * prior_A) + (likelihood_B * prior_B))\n",
    "\n",
    "# Prediction based on the class\n",
    "if posterior_A > posterior_B:\n",
    "    predicted_class = 'A'\n",
    "else:\n",
    "    predicted_class = 'B'\n",
    "\n",
    "print(\"Predicted Class:\", predicted_class)"
   ]
  }
 ],
 "metadata": {
  "kernelspec": {
   "display_name": "Python 3 (ipykernel)",
   "language": "python",
   "name": "python3"
  },
  "language_info": {
   "codemirror_mode": {
    "name": "ipython",
    "version": 3
   },
   "file_extension": ".py",
   "mimetype": "text/x-python",
   "name": "python",
   "nbconvert_exporter": "python",
   "pygments_lexer": "ipython3",
   "version": "3.10.8"
  }
 },
 "nbformat": 4,
 "nbformat_minor": 5
}
