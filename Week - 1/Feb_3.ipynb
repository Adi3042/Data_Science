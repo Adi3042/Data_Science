{
 "cells": [
  {
   "cell_type": "markdown",
   "id": "88229157-7282-444b-bcf5-73abda242449",
   "metadata": {
    "tags": []
   },
   "source": [
    "<div class=\"alert alert-block alert-info\" align=\"center\" style=\"padding: 10px;\">\n",
    "<h1><b><u>Python-2</u></b></h1>\n",
    "</div>"
   ]
  },
  {
   "cell_type": "markdown",
   "id": "5a9fc57b-b0cc-4c31-81d4-2a01cc7b8efd",
   "metadata": {},
   "source": [
    "### **Q1. Which keyword is used to create a function? Create a function to return a list of odd numbers in the range of 1 to 25.** ###\n",
    "\n",
    "def keyword is used to create a function."
   ]
  },
  {
   "cell_type": "code",
   "execution_count": 1,
   "id": "065a5b5a-5d68-4f00-bdc3-0c66a27ad167",
   "metadata": {},
   "outputs": [],
   "source": [
    "def odd():\n",
    "    for i in range(1,26):\n",
    "        if i%2!=0:\n",
    "            print(i)"
   ]
  },
  {
   "cell_type": "code",
   "execution_count": 2,
   "id": "f2f6f0d2-84cc-4690-a7b9-d170fa7de8e3",
   "metadata": {},
   "outputs": [
    {
     "name": "stdout",
     "output_type": "stream",
     "text": [
      "1\n",
      "3\n",
      "5\n",
      "7\n",
      "9\n",
      "11\n",
      "13\n",
      "15\n",
      "17\n",
      "19\n",
      "21\n",
      "23\n",
      "25\n"
     ]
    }
   ],
   "source": [
    "odd()"
   ]
  },
  {
   "cell_type": "markdown",
   "id": "e8056687-33a1-455d-9ee5-2fc27598c6b2",
   "metadata": {},
   "source": [
    "### **Q2. Why *args and **kwargs are used in some functions? Create a function each for *args and **kwargs to demonstrate their use.**\n",
    "\n",
    "*args and **kwargs allow you to pass multiple arguments.\n",
    "\n",
    "**args** takes all the parameters that are provided in the input and packs them all into a single iterable object named args.\n",
    "\n",
    "**kwargs** works similar to *args, but instead of accepting positional arguments, it accepts keyword arguments."
   ]
  },
  {
   "cell_type": "code",
   "execution_count": 4,
   "id": "669ac149-77c3-44b2-9c96-5a5e22c97119",
   "metadata": {},
   "outputs": [],
   "source": [
    "# For Example:--\n",
    "# Function using *args\n",
    "def add(*args):\n",
    "    sum=0\n",
    "    for x in args:\n",
    "        sum+=x\n",
    "    return sum\n",
    "\n",
    "# Function using **kwargs\n",
    "def fruit(**kwargs):\n",
    "    return kwargs"
   ]
  },
  {
   "cell_type": "code",
   "execution_count": 5,
   "id": "e74a8b97-26aa-482e-b3a9-1c4685c32eb3",
   "metadata": {},
   "outputs": [
    {
     "name": "stdout",
     "output_type": "stream",
     "text": [
      "55\n"
     ]
    }
   ],
   "source": [
    "print(add(1,2,3,4,5,6,7,8,9,10))"
   ]
  },
  {
   "cell_type": "code",
   "execution_count": 6,
   "id": "8d89db6d-2d21-4166-9b39-016181029061",
   "metadata": {},
   "outputs": [
    {
     "name": "stdout",
     "output_type": "stream",
     "text": [
      "{'grapes': 5, 'mango': 7, 'watermelon': 8, 'apple': 9, 'orange': 11}\n"
     ]
    }
   ],
   "source": [
    "print(fruit(grapes=5, mango=7, watermelon=8,apple=9,orange=11))"
   ]
  },
  {
   "cell_type": "markdown",
   "id": "fed32e38-0242-49cb-a9a5-f60e007fc832",
   "metadata": {},
   "source": [
    "### **Q3. What is an iterator in Python? Name the method used to initialize the iterator object and the method used for iteration. Use these methods to print the first five elements of the given list [2, 4, 6, 8, 10, 12, 14, 16, 18, 20].**\n",
    "\n",
    "**Iterator:**\n",
    "- An object through which we can go to the next element and return the data is called an iterator.\n",
    "- The `iter()` method is used to create the iterator over the iterable object.\n",
    "- The `next()` method returns the next item from the iterator.\n",
    "Examples of iterable objects are: List, Tuple, Dictionary.\n",
    "\n",
    "The iterator object is initialized using the `iter()` method.\n",
    "The method used for iteration is the `next()` method.\n",
    "\n",
    "**Example:**"
   ]
  },
  {
   "cell_type": "code",
   "execution_count": 7,
   "id": "0fb39f49-1444-4bd9-98bb-97a109008b35",
   "metadata": {},
   "outputs": [
    {
     "name": "stdout",
     "output_type": "stream",
     "text": [
      "2\n",
      "4\n",
      "6\n",
      "8\n",
      "10\n"
     ]
    }
   ],
   "source": [
    "# Create an iterator for the list\n",
    "my_list = [2, 4, 6, 8, 10, 12, 14, 16, 18, 20]\n",
    "my_iterator = iter(my_list)\n",
    "\n",
    "# Print the first five elements using the next() method\n",
    "for _ in range(5):\n",
    "    print(next(my_iterator))"
   ]
  },
  {
   "cell_type": "markdown",
   "id": "d58c7506-4bfc-4e49-a87c-15db94f3e0b4",
   "metadata": {},
   "source": [
    "### **Q4. What is a generator function in Python? Why is the `yield` keyword used? Give an example of a generator function.** ###\n",
    "\n",
    "**Generator Function:**\n",
    "A Python generator function allows you to declare a function that behaves like an iterator, providing a faster and easier way to create iterators.\n",
    "\n",
    "The `yield` keyword is used to create a generator function.\n",
    "\n",
    "**Example:**"
   ]
  },
  {
   "cell_type": "code",
   "execution_count": 10,
   "id": "d7bea5b0-ce2e-44d0-ad79-cd6c9e006991",
   "metadata": {},
   "outputs": [
    {
     "name": "stdout",
     "output_type": "stream",
     "text": [
      "0\n",
      "1\n",
      "1\n",
      "2\n",
      "3\n",
      "5\n",
      "8\n",
      "13\n",
      "21\n",
      "34\n"
     ]
    }
   ],
   "source": [
    "def fibb(n):\n",
    "    a, b = 0, 1\n",
    "    for i in range(n):\n",
    "        yield a\n",
    "        a, b = b, a + b\n",
    "\n",
    "# Using the generator function to generate Fibonacci numbers\n",
    "fibonacci_generator = fibb(10)\n",
    "for num in fibonacci_generator:\n",
    "    print(num)"
   ]
  },
  {
   "cell_type": "markdown",
   "id": "ce0e2cf7-2583-4a97-af72-6709fc409d78",
   "metadata": {},
   "source": [
    "### **Q5. Create a generator function for prime numbers less than 1000. Use the `next()` method to print the first 20 prime numbers.**"
   ]
  },
  {
   "cell_type": "code",
   "execution_count": 11,
   "id": "f70da4ed-a630-491d-aed0-4be8bc29e1ab",
   "metadata": {},
   "outputs": [
    {
     "name": "stdout",
     "output_type": "stream",
     "text": [
      "2\n",
      "3\n",
      "5\n",
      "7\n",
      "11\n",
      "13\n",
      "17\n",
      "19\n",
      "23\n",
      "29\n",
      "31\n",
      "37\n",
      "41\n",
      "43\n",
      "47\n",
      "53\n",
      "59\n",
      "61\n",
      "67\n",
      "71\n"
     ]
    }
   ],
   "source": [
    "def prime_numbers():\n",
    "    for i in range(2, 1000):\n",
    "        if i > 1:\n",
    "            for j in range(2, i):\n",
    "                if i % j == 0:\n",
    "                    break\n",
    "            else:\n",
    "                yield i\n",
    "\n",
    "prime = prime_numbers()\n",
    "for _ in range(20):\n",
    "    print(next(prime))"
   ]
  },
  {
   "cell_type": "markdown",
   "id": "0e92bd93-b81b-49e0-a64d-ebcd42099729",
   "metadata": {},
   "source": [
    "### **6. Write a python program to print the first 10 Fibonacci numbers using a while loop.** ###"
   ]
  },
  {
   "cell_type": "code",
   "execution_count": 12,
   "id": "bf68a522-50c4-40f9-8722-5b7653b88613",
   "metadata": {},
   "outputs": [
    {
     "name": "stdout",
     "output_type": "stream",
     "text": [
      "0\n",
      "1\n",
      "1\n",
      "2\n",
      "3\n",
      "5\n",
      "8\n",
      "13\n",
      "21\n",
      "34\n"
     ]
    }
   ],
   "source": [
    "a,b=0,1\n",
    "n=1\n",
    "while(n<=10):\n",
    "    print(a)\n",
    "    a,b=b,a+b\n",
    "    n+= 1"
   ]
  },
  {
   "cell_type": "markdown",
   "id": "6074d7a3-8fac-4612-8ed5-8d1b6e798664",
   "metadata": {},
   "source": [
    "### **Q7. Write a List Comprehension to iterate through the given string: ‘pwskills’.** ###\n",
    "### **Expected output: ['p', 'w', 's', 'k', 'i', 'l', 'l', 's']** ###"
   ]
  },
  {
   "cell_type": "code",
   "execution_count": 13,
   "id": "d47e8808-fb7e-4412-9ada-10e46e70f117",
   "metadata": {},
   "outputs": [
    {
     "name": "stdout",
     "output_type": "stream",
     "text": [
      "['p', 'w', 's', 'k', 'i', 'l', 'l', 's']\n"
     ]
    }
   ],
   "source": [
    "list=[i for i in \"pwskills\"]\n",
    "print(list)"
   ]
  },
  {
   "cell_type": "markdown",
   "id": "959370cf-a832-4658-920f-7cc840fb062d",
   "metadata": {},
   "source": [
    "### **Q8. Write a python program to check whether a given number is Palindrome or not using a while loop.** ###"
   ]
  },
  {
   "cell_type": "code",
   "execution_count": 14,
   "id": "58c173bc-3764-4199-af91-e887bda2f61e",
   "metadata": {},
   "outputs": [
    {
     "name": "stdin",
     "output_type": "stream",
     "text": [
      "Enter the no =  151\n"
     ]
    },
    {
     "name": "stdout",
     "output_type": "stream",
     "text": [
      "Palindrome\n"
     ]
    }
   ],
   "source": [
    "num=input(\"Enter the no = \")\n",
    "if num[::-1]==num:\n",
    "    print(\"Palindrome\")\n",
    "else:\n",
    "    print(\"Not Palindrome\")"
   ]
  },
  {
   "cell_type": "markdown",
   "id": "9b57a767-a2d2-45fe-864e-7c201611333b",
   "metadata": {},
   "source": [
    "### **Q9. Write a code to print odd numbers from 1 to 100 using list comprehension.** ###"
   ]
  },
  {
   "cell_type": "code",
   "execution_count": 1,
   "id": "beeb6fc1-ef25-44ab-9871-b931ceee5a80",
   "metadata": {},
   "outputs": [
    {
     "name": "stdout",
     "output_type": "stream",
     "text": [
      "[1, 2, 3, 4, 5, 6, 7, 8, 9, 10, 11, 12, 13, 14, 15, 16, 17, 18, 19, 20, 21, 22, 23, 24, 25, 26, 27, 28, 29, 30, 31, 32, 33, 34, 35, 36, 37, 38, 39, 40, 41, 42, 43, 44, 45, 46, 47, 48, 49, 50, 51, 52, 53, 54, 55, 56, 57, 58, 59, 60, 61, 62, 63, 64, 65, 66, 67, 68, 69, 70, 71, 72, 73, 74, 75, 76, 77, 78, 79, 80, 81, 82, 83, 84, 85, 86, 87, 88, 89, 90, 91, 92, 93, 94, 95, 96, 97, 98, 99, 100]\n",
      "[1, 3, 5, 7, 9, 11, 13, 15, 17, 19, 21, 23, 25, 27, 29, 31, 33, 35, 37, 39, 41, 43, 45, 47, 49, 51, 53, 55, 57, 59, 61, 63, 65, 67, 69, 71, 73, 75, 77, 79, 81, 83, 85, 87, 89, 91, 93, 95, 97, 99]\n"
     ]
    }
   ],
   "source": [
    "# Avoid using 'list' as a variable name, choose a different name\n",
    "my_list = [i for i in range(1, 101)]\n",
    "print(my_list)\n",
    "\n",
    "filtered_list = list(filter(lambda x: x % 2 != 0, my_list))\n",
    "print(filtered_list)"
   ]
  }
 ],
 "metadata": {
  "kernelspec": {
   "display_name": "Python 3 (ipykernel)",
   "language": "python",
   "name": "python3"
  },
  "language_info": {
   "codemirror_mode": {
    "name": "ipython",
    "version": 3
   },
   "file_extension": ".py",
   "mimetype": "text/x-python",
   "name": "python",
   "nbconvert_exporter": "python",
   "pygments_lexer": "ipython3",
   "version": "3.10.8"
  }
 },
 "nbformat": 4,
 "nbformat_minor": 5
}
