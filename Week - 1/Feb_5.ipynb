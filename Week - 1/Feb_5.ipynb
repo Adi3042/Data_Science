{
 "cells": [
  {
   "cell_type": "markdown",
   "id": "d0851cff-bc9e-4c8f-b36a-13dc12bfa008",
   "metadata": {},
   "source": [
    "<div class=\"alert alert-block alert-info\" align=\"center\" style=\"padding: 10px;\">\n",
    "<h1><b><u>Python-4</u></b></h1>\n",
    "</div>"
   ]
  },
  {
   "cell_type": "markdown",
   "id": "abf74b6d-ea45-4208-b217-d7fad3130191",
   "metadata": {},
   "source": [
    "### **Q1. Explain Class and Object with respect to Object-Oriented Programming. Give a suitable example.**\n",
    "\n",
    "In object-oriented programming, a class is a blueprint or a template for creating objects that have similar properties and behaviors. An object, on the other hand, is an instance of a class that has its own state (data) and behavior (methods).\n",
    "\n",
    "A class defines the attributes and methods that an object will have. Attributes are the data or properties of an object, such as its name, color, size, etc. Methods are the actions that an object can perform, such as changing its state or displaying information about itself.\n",
    "\n",
    "**Example:**"
   ]
  },
  {
   "cell_type": "code",
   "execution_count": 1,
   "id": "6cd57939-a68a-4654-b0a2-58d6ded3c805",
   "metadata": {},
   "outputs": [
    {
     "name": "stdout",
     "output_type": "stream",
     "text": [
      "150\n"
     ]
    }
   ],
   "source": [
    "class Car:\n",
    "    def __init__(self, make, model, year):\n",
    "        self.make = make\n",
    "        self.model = model\n",
    "        self.year = year\n",
    "        self.speed = 0\n",
    "    \n",
    "    def accelerate(self, speed_increase):\n",
    "        self.speed += speed_increase\n",
    "    \n",
    "    def brake(self, speed_decrease):\n",
    "        self.speed -= speed_decrease\n",
    "    \n",
    "    def get_speed(self):\n",
    "        return self.speed\n",
    "\n",
    "my_car = Car(\"Toyota\", \"FORTUNER\", 2022)\n",
    "my_car.accelerate(200)\n",
    "my_car.brake(50)\n",
    "print(my_car.get_speed())"
   ]
  },
  {
   "cell_type": "markdown",
   "id": "cdcc3f50-6bf6-4338-9ef2-e09359f76806",
   "metadata": {},
   "source": [
    "### **Q2. Name the four pillars of OOPs.**\n",
    "\n",
    "The four pillars of object-oriented programming are:\n",
    "\n",
    "1. **Encapsulation:** \n",
    "\n",
    "2. **Abstraction:** \n",
    "\n",
    "3. **Inheritance:** \n",
    "\n",
    "4. **Polymorphism:** \n",
    "\n",
    "### **Q3. Explain why the `__init__()` function is used. Give a suitable example.**\n",
    "\n",
    "In object-oriented programming, the `__init__()` function is used as a constructor method for a class. It is called when an object of the class is created and is used to initialize the attributes of the object with default or specified values.\n",
    "\n",
    "**Example:**"
   ]
  },
  {
   "cell_type": "code",
   "execution_count": 2,
   "id": "a48589b5-267a-4ac9-a0ef-db417077d4bc",
   "metadata": {},
   "outputs": [
    {
     "name": "stdout",
     "output_type": "stream",
     "text": [
      "Aditya\n",
      "20\n",
      "Sudhanshu\n",
      "35\n"
     ]
    }
   ],
   "source": [
    "class Person:\n",
    "    def __init__(self, name, age):\n",
    "        self.name = name\n",
    "        self.age = age\n",
    "\n",
    "person1 = Person(\"Aditya\", 20)\n",
    "person2 = Person(\"Sudhanshu\", 35)\n",
    "\n",
    "print(person1.name)\n",
    "print(person1.age)\n",
    "print(person2.name)\n",
    "print(person2.age)"
   ]
  },
  {
   "cell_type": "markdown",
   "id": "6d865686-d2d6-4c55-9801-0c50036fdb10",
   "metadata": {},
   "source": [
    "### **Q4. Why is `self` used in OOPs?**\n",
    "\n",
    "In object-oriented programming (OOP), `self` is a reference to the instance of a class, which is used to access its attributes and methods. It is a convention in OOP to use the name `self` as the first parameter in class methods, although you can use any variable name.\n",
    "\n",
    "Using `self` is important because it allows you to differentiate between instance variables and local variables within a method. It ensures that when you access attributes or call methods within a class, you are referring to the specific instance of the class that the method is operating on.\n",
    "\n",
    "\n",
    "### **Q5. What is inheritance?**\n",
    "\n",
    "Inheritance is a fundamental concept in object-oriented programming that allows a class to inherit properties and behavior from a parent class. The child class, also known as the subclass, can add its own unique features or override existing ones inherited from the parent class, while still maintaining the characteristics of the parent class.\n",
    "\n",
    "There are three types of inheritance in Python:\n",
    "\n",
    "1. **Single Inheritance:** In single inheritance, a subclass inherits properties and behavior from a single parent class.\n",
    "\n",
    "2. **Multiple Inheritance:** In multiple inheritance, a subclass inherits properties and behavior from multiple parent classes.\n",
    "\n",
    "3. **Multilevel Inheritance:** In multilevel inheritance, a subclass inherits properties and behavior from a parent class, which in turn inherits from another parent class.\n",
    "\n",
    "**Example**"
   ]
  },
  {
   "cell_type": "code",
   "execution_count": 3,
   "id": "5faa1a04-6833-49d1-81b5-592446d0dc33",
   "metadata": {},
   "outputs": [
    {
     "name": "stdout",
     "output_type": "stream",
     "text": [
      "Lucy\n",
      "Woof!\n"
     ]
    }
   ],
   "source": [
    "#Single Inheritance\n",
    "\n",
    "class Animal:\n",
    "    def __init__(self, name):\n",
    "        self.name = name\n",
    "    \n",
    "    def speak(self):\n",
    "        pass\n",
    "\n",
    "class Dog(Animal):\n",
    "    def speak(self):\n",
    "        return \"Woof!\"\n",
    "\n",
    "my_dog = Dog(\"Lucy\")\n",
    "print(my_dog.name)\n",
    "print(my_dog.speak())"
   ]
  },
  {
   "cell_type": "code",
   "execution_count": 4,
   "id": "c37482bc-eb1f-416f-82ec-d4fd7021f055",
   "metadata": {},
   "outputs": [
    {
     "name": "stdout",
     "output_type": "stream",
     "text": [
      "50\n",
      "red\n"
     ]
    }
   ],
   "source": [
    "#Multiple Inheritance\n",
    "\n",
    "class Shape:\n",
    "    def __init__(self, color):\n",
    "        self.color = color\n",
    "    \n",
    "    def draw(self):\n",
    "        pass\n",
    "\n",
    "class Rectangle(Shape):\n",
    "    def __init__(self, width, height, color):\n",
    "        Shape.__init__(self, color)\n",
    "        self.width = width\n",
    "        self.height = height\n",
    "    \n",
    "    def area(self):\n",
    "        return self.width * self.height\n",
    "\n",
    "class ColoredShape(Shape):\n",
    "    def __init__(self, color):\n",
    "        self.color = color\n",
    "    \n",
    "    def set_color(self, color):\n",
    "        self.color = color\n",
    "\n",
    "class ColoredRectangle(Rectangle, ColoredShape):\n",
    "    pass\n",
    "\n",
    "my_rect = ColoredRectangle(5, 10, \"blue\")\n",
    "print(my_rect.area())\n",
    "my_rect.set_color(\"red\")\n",
    "print(my_rect.color)"
   ]
  },
  {
   "cell_type": "code",
   "execution_count": 5,
   "id": "b7a4d9e5-7a1c-42b8-9cec-3dd4b2ffa5cc",
   "metadata": {},
   "outputs": [
    {
     "name": "stdout",
     "output_type": "stream",
     "text": [
      "Tesla Model S (2022), 4 doors, 100-kWh battery\n"
     ]
    }
   ],
   "source": [
    "# Multilevel Inheritance\n",
    "\n",
    "class Vehicle:\n",
    "    def __init__(self, make, model, year):\n",
    "        self.make = make\n",
    "        self.model = model\n",
    "        self.year = year\n",
    "    \n",
    "    def get_info(self):\n",
    "        return f\"{self.make} {self.model} ({self.year})\"\n",
    "\n",
    "class Car(Vehicle):\n",
    "    def __init__(self, make, model, year, num_doors):\n",
    "        Vehicle.__init__(self, make, model, year)\n",
    "        self.num_doors = num_doors\n",
    "    \n",
    "    def get_info(self):\n",
    "        return f\"{Vehicle.get_info(self)}, {self.num_doors} doors\"\n",
    "\n",
    "class ElectricCar(Car):\n",
    "    def __init__(self, make, model, year, num_doors, battery_size):\n",
    "        Car.__init__(self, make, model, year, num_doors)\n",
    "        self.battery_size = battery_size\n",
    "    \n",
    "    def get_info(self):\n",
    "        return f\"{Car.get_info(self)}, {self.battery_size}-kWh battery\"\n",
    "\n",
    "my_car = ElectricCar(\"Tesla\", \"Model S\", 2022, 4, 100)\n",
    "print(my_car.get_info())"
   ]
  }
 ],
 "metadata": {
  "kernelspec": {
   "display_name": "Python 3 (ipykernel)",
   "language": "python",
   "name": "python3"
  },
  "language_info": {
   "codemirror_mode": {
    "name": "ipython",
    "version": 3
   },
   "file_extension": ".py",
   "mimetype": "text/x-python",
   "name": "python",
   "nbconvert_exporter": "python",
   "pygments_lexer": "ipython3",
   "version": "3.10.8"
  }
 },
 "nbformat": 4,
 "nbformat_minor": 5
}
