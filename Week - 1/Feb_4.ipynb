{
 "cells": [
  {
   "cell_type": "markdown",
   "id": "bdd549f9-b5bd-4636-a6e9-6a2680cd16b4",
   "metadata": {},
   "source": [
    "<div class=\"alert alert-block alert-info\" align=\"center\" style=\"padding: 10px;\">\n",
    "<h1><b><u>Python-3</u></b></h1>\n",
    "</div>"
   ]
  },
  {
   "cell_type": "markdown",
   "id": "19403f6f-0250-4522-8fba-ebdc6fc0514c",
   "metadata": {},
   "source": [
    "### **Q1. Create a python program to sort the given list of tuples based on integer value using a lambda function.** ###\n",
    "- **[('Sachin Tendulkar', 34357), ('Ricky Ponting', 27483), ('Jack Kallis', 25534), ('Virat Kohli', 24936)]**"
   ]
  },
  {
   "cell_type": "code",
   "execution_count": 2,
   "id": "c619226f-7041-4646-8322-1c66f26bc8bd",
   "metadata": {},
   "outputs": [
    {
     "name": "stdout",
     "output_type": "stream",
     "text": [
      "[('Virat Kohli', 24936), ('Jack Kallis', 25534), ('Ricky Ponting', 27483), ('Sachin Tendulkar', 34357)]\n"
     ]
    }
   ],
   "source": [
    "l=[('Sachin Tendulkar', 34357), ('Ricky Ponting', 27483), ('Jack Kallis', 25534), ('Virat Kohli', 24936)]\n",
    "l1=sorted(l,key=lambda x:x[1])\n",
    "print(l1)"
   ]
  },
  {
   "cell_type": "markdown",
   "id": "ce39ced0-4f5a-4761-8746-15e17a0109bd",
   "metadata": {},
   "source": [
    "### **Q2. Write a Python Program to find the squares of all the numbers in the given list of integers using lambda and map functions.** ###\n",
    "- **[1, 2, 3, 4, 5, 6, 7, 8, 9, 10]**"
   ]
  },
  {
   "cell_type": "code",
   "execution_count": 1,
   "id": "683e49cd-7dd0-437c-ae97-e7775c06b615",
   "metadata": {},
   "outputs": [
    {
     "name": "stdout",
     "output_type": "stream",
     "text": [
      "[1, 4, 9, 16, 25, 36, 49, 64, 81, 100]\n"
     ]
    }
   ],
   "source": [
    "l=[1, 2, 3, 4, 5, 6, 7, 8, 9, 10]\n",
    "l1=list(map(lambda x:x**2,l))\n",
    "print(l1)"
   ]
  },
  {
   "cell_type": "markdown",
   "id": "c0c69e4f-f94c-4421-863a-417b1699c61d",
   "metadata": {},
   "source": [
    "### **Q3. Write a python program to convert the given list of integers into a tuple of strings. Use map and lambda functions** ###\n",
    "- **Given String: [1, 2, 3, 4, 5, 6, 7, 8, 9, 10]**\n",
    "- **Expected output: ('1', '2', '3', '4', '5', '6', '7', '8', '9', '10')**"
   ]
  },
  {
   "cell_type": "code",
   "execution_count": 4,
   "id": "871c40ea-9e3a-458a-9fee-01edd60ba203",
   "metadata": {},
   "outputs": [
    {
     "name": "stdout",
     "output_type": "stream",
     "text": [
      "('1', '2', '3', '4', '5', '6', '7', '8', '9', '10')\n"
     ]
    }
   ],
   "source": [
    "l=[1, 2, 3, 4, 5, 6, 7, 8, 9, 10]\n",
    "l2=tuple(map(lambda x:str(x),l))\n",
    "print(l2)"
   ]
  },
  {
   "cell_type": "markdown",
   "id": "48b89b2a-0d7f-484e-a877-2ecc3fc7110f",
   "metadata": {},
   "source": [
    "### **Q4. Write a python program using reduce function to compute the product of a list containing numbers from 1 to 25.** ###"
   ]
  },
  {
   "cell_type": "code",
   "execution_count": 5,
   "id": "c00c47f9-1cae-40a1-9125-f43120883b8e",
   "metadata": {},
   "outputs": [
    {
     "name": "stdout",
     "output_type": "stream",
     "text": [
      "15511210043330985984000000\n"
     ]
    }
   ],
   "source": [
    "from functools import reduce\n",
    "l1=reduce((lambda x,y:x*y),[x for x in range(1,26)])\n",
    "print(l1)"
   ]
  },
  {
   "cell_type": "markdown",
   "id": "caf3f707-5770-4e55-8b35-f4c4ab46c0e4",
   "metadata": {},
   "source": [
    "### **Q5. Write a python program to filter the numbers in a given list that are divisible by 2 and 3 using the filter function.** ###\n",
    "- **[2, 3, 6, 9, 27, 60, 90, 120, 55, 46]**"
   ]
  },
  {
   "cell_type": "code",
   "execution_count": 6,
   "id": "acbbcd4e-bbb1-4526-a660-e02ad0a3a724",
   "metadata": {},
   "outputs": [
    {
     "name": "stdout",
     "output_type": "stream",
     "text": [
      "[2, 3, 6, 9, 27, 60, 90, 120, 46]\n"
     ]
    }
   ],
   "source": [
    "l=[2, 3, 6, 9, 27, 60, 90, 120, 55, 46]\n",
    "l1=list(filter(lambda x:(x%2==0 or x%3==0) , l))\n",
    "print(l1)"
   ]
  },
  {
   "cell_type": "markdown",
   "id": "42494e6a-0a7a-423c-953b-336026c5892f",
   "metadata": {},
   "source": [
    "### **Q6. Write a python program to find palindromes in the given list of strings using lambda and filter function.** ###\n",
    "- **['python', 'php', 'aba', 'radar', 'level']**"
   ]
  },
  {
   "cell_type": "code",
   "execution_count": 7,
   "id": "96f47375-f9c4-446f-8664-7d82860976c8",
   "metadata": {},
   "outputs": [
    {
     "name": "stdout",
     "output_type": "stream",
     "text": [
      "['php', 'aba', 'radar', 'level']\n"
     ]
    }
   ],
   "source": [
    "l=['python', 'php', 'aba', 'radar', 'level']\n",
    "print(list(filter(lambda x:(x==x[::-1]),l)))"
   ]
  }
 ],
 "metadata": {
  "kernelspec": {
   "display_name": "Python 3 (ipykernel)",
   "language": "python",
   "name": "python3"
  },
  "language_info": {
   "codemirror_mode": {
    "name": "ipython",
    "version": 3
   },
   "file_extension": ".py",
   "mimetype": "text/x-python",
   "name": "python",
   "nbconvert_exporter": "python",
   "pygments_lexer": "ipython3",
   "version": "3.10.8"
  }
 },
 "nbformat": 4,
 "nbformat_minor": 5
}
