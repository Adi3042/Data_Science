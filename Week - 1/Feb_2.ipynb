{
 "cells": [
  {
   "cell_type": "markdown",
   "id": "af7b730a-98ec-450c-8316-f835af973fa9",
   "metadata": {},
   "source": [
    "<div class=\"alert alert-block alert-info\" align=\"center\" style=\"padding: 10px;\">\n",
    "<h1><b><u>Python-1</u></b></h1>\n",
    "</div>"
   ]
  },
  {
   "cell_type": "markdown",
   "id": "161f1db7-8146-4071-bbf1-1f317205a03c",
   "metadata": {},
   "source": [
    "### **Q1. Explain with an example when to use a `for` loop and a `while` loop.** ###\n",
    "\n",
    "**For Loop:**\n",
    "1. It is used when the number of iterations is known.\n",
    "2. In case of no condition, the loop is repeated infinite times.\n",
    "3. Initialization is not repeated.\n",
    "4. Statement of Iteration is written after running.\n",
    "5. Initialization can be in or out of the loop.\n",
    "6. The nature of the increment is simple.\n",
    "7. Used when initialization is simple.\n",
    "\n",
    "**While Loop:**\n",
    "1. It is used when the number of iterations is not known.\n",
    "2. In case of no condition, an error will be shown.\n",
    "3. Initialization is repeated if carried out during the stage of checking.\n",
    "4. It can be written at any place.\n",
    "5. Initialization is always out of the loop.\n",
    "6. The nature of the increment is complex.\n",
    "7. Used when initialization is complex."
   ]
  },
  {
   "cell_type": "markdown",
   "id": "806d035c-792c-4b56-85f2-bcb28a5c176a",
   "metadata": {},
   "source": [
    "### **Q2. Write a python program to print the sum and product of the first 10 natural numbers using for and while loop.** ###"
   ]
  },
  {
   "cell_type": "code",
   "execution_count": 1,
   "id": "69921081-3250-4b8b-b9d6-0a18564f86dd",
   "metadata": {},
   "outputs": [
    {
     "name": "stdout",
     "output_type": "stream",
     "text": [
      "Sum of 10 Natural No. =  55\n",
      "Product of 10 Natural No. =  3628800\n",
      "Sum of 10 Natural Numbers =  55\n",
      "Product of 10 Natural Numbers =  3628800\n"
     ]
    }
   ],
   "source": [
    "# Using WHILE loop:-\n",
    "n=10\n",
    "sum=0\n",
    "product=1\n",
    "while(n!=0):\n",
    "\tsum+=n\n",
    "\tproduct*=n\n",
    "\tn-=1\n",
    "print(\"Sum of 10 Natural No. = \",sum)\n",
    "print(\"Product of 10 Natural No. = \",product)\n",
    "\n",
    "# Using FOR Loop:-\n",
    "sum=0\n",
    "product=1\n",
    "for i in range(1,11):\n",
    "    sum+=i\n",
    "    product*=i\n",
    "print(\"Sum of 10 Natural Numbers = \",sum)\n",
    "print(\"Product of 10 Natural Numbers = \",product)"
   ]
  },
  {
   "cell_type": "markdown",
   "id": "80de962b-8fbe-4732-9071-b8a5cc9a7ae3",
   "metadata": {},
   "source": [
    "### **Q3. Create a python program to compute the electricity bill for a household. The per-unit charges in rupees are as follows: For the first 100 units, the user will be charged Rs. 4.5 per unit, for the next 100 units, the user will be charged Rs. 6 per unit, and for the next 100 units, the user will be charged Rs. 10 per unit, After 300 units and above the user will be charged Rs. 20 per unit.** ###"
   ]
  },
  {
   "cell_type": "code",
   "execution_count": 2,
   "id": "cefc4dd3-5788-448d-b7af-d2af34529404",
   "metadata": {},
   "outputs": [
    {
     "name": "stdin",
     "output_type": "stream",
     "text": [
      "Enter the Electricity Consumed =  460\n"
     ]
    },
    {
     "name": "stdout",
     "output_type": "stream",
     "text": [
      "The Total electricity bill =  5250.0\n"
     ]
    }
   ],
   "source": [
    "units=int(input(\"Enter the Electricity Consumed = \"))\n",
    "calculated_bill=0\n",
    "if (units <= 100):\n",
    "\tcalculated_bill=units * 4.5\n",
    "elif (units <= 200):\n",
    "\tcalculated_bill=((100 * 4.5) +(units - 100) * 6)\n",
    "elif (units <= 300):\n",
    "\tcalculated_bill=((100 * 4.5) +(100 * 6) +(units - 200) * 10)\n",
    "else:\n",
    "\tcalculated_bill=((100 * 4.5) +(100 * 6) +(100 * 10) +(units - 300) * 20)\n",
    "print(\"The Total electricity bill = \",calculated_bill)"
   ]
  },
  {
   "cell_type": "markdown",
   "id": "ee7471cd-021a-45e9-9293-be4a71cf9ae0",
   "metadata": {},
   "source": [
    "### **Q4. Create a list of numbers from 1 to 100. Use for loop and while loop to calculate the cube of each number and if the cube of that number is divisible by 4 or 5 then append that number in a list and print that list.** ###"
   ]
  },
  {
   "cell_type": "code",
   "execution_count": 3,
   "id": "67383a03-f7a1-4bfc-9896-97367205da6b",
   "metadata": {},
   "outputs": [
    {
     "name": "stdout",
     "output_type": "stream",
     "text": [
      "[8, 64, 125, 216, 512, 1000, 1728, 2744, 3375, 4096, 5832, 8000, 10648, 13824, 15625, 17576, 21952, 27000, 32768, 39304, 42875, 46656, 54872, 64000, 74088, 85184, 91125, 97336, 110592, 125000, 140608, 157464, 166375, 175616, 195112, 216000, 238328, 262144, 274625, 287496, 314432, 343000, 373248, 405224, 421875, 438976, 474552, 512000, 551368, 592704, 614125, 636056, 681472, 729000, 778688, 830584, 857375, 884736, 941192, 1000000]\n"
     ]
    }
   ],
   "source": [
    "list1=[i**3 for i in range(1,101)]\n",
    "new_list=list(filter(lambda x:(x%4==0 or x%5==0),list1))\n",
    "print(new_list)"
   ]
  },
  {
   "cell_type": "markdown",
   "id": "7ef287d0-af1f-42bd-8064-de7837dd253a",
   "metadata": {},
   "source": [
    "### **Q5. Write a program to filter count vowels in the below-given string.** ###\n",
    "### **string = \"I want to become a data scientist\"** ###"
   ]
  },
  {
   "cell_type": "code",
   "execution_count": 4,
   "id": "5589dd27-d0e3-4f65-8c79-7fe49714bd5f",
   "metadata": {},
   "outputs": [
    {
     "name": "stdout",
     "output_type": "stream",
     "text": [
      "Total Number of Vowels in this String =  12\n"
     ]
    }
   ],
   "source": [
    "str1 = \"I want to become a data scientist\"\n",
    "str1=str1.lower()\n",
    "vowels = 0\n",
    "for i in str1:\n",
    "    if(i == 'a' or i == 'e' or i == 'i' or i == 'o' or i == 'u'):\n",
    "        vowels+=1\n",
    "print(\"Total Number of Vowels in this String = \", vowels)"
   ]
  }
 ],
 "metadata": {
  "kernelspec": {
   "display_name": "Python 3 (ipykernel)",
   "language": "python",
   "name": "python3"
  },
  "language_info": {
   "codemirror_mode": {
    "name": "ipython",
    "version": 3
   },
   "file_extension": ".py",
   "mimetype": "text/x-python",
   "name": "python",
   "nbconvert_exporter": "python",
   "pygments_lexer": "ipython3",
   "version": "3.10.8"
  }
 },
 "nbformat": 4,
 "nbformat_minor": 5
}
