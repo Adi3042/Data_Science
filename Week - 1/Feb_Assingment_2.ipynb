{
 "cells": [
  {
   "cell_type": "markdown",
   "id": "78e6365e-db57-4f3a-8ba4-930d7ca8032a",
   "metadata": {},
   "source": [
    "<div class=\"alert alert-block alert-info\" align=\"center\" style=\"padding: 10px;\">\n",
    "<h1><b><u>Python-6</u></b></h1>\n",
    "</div>"
   ]
  },
  {
   "cell_type": "markdown",
   "id": "199720fb-c1ba-4bcd-923d-47416534a6d4",
   "metadata": {},
   "source": [
    "### **Q1. Write a program to accept percentage from the user and display the grade according to the following criteria:** ###\n",
    "\n",
    "**Criteria** | **Grade**\n",
    "---- | ----\n",
    " 90 | A\n",
    " 80 and <=90 | B\n",
    " 60 and <=80 | C\n",
    " below 60 | D"
   ]
  },
  {
   "cell_type": "code",
   "execution_count": 3,
   "id": "19219bf4-292e-46f0-a59f-0b26b4138aac",
   "metadata": {},
   "outputs": [
    {
     "name": "stdin",
     "output_type": "stream",
     "text": [
      "Enter the Percentage =  55\n"
     ]
    },
    {
     "name": "stdout",
     "output_type": "stream",
     "text": [
      "Grade D\n"
     ]
    }
   ],
   "source": [
    "per=int(input(\"Enter the Percentage = \"))\n",
    "if(per>90):\n",
    "    print(\"Grade A\")\n",
    "elif (per>80 and per<=90):\n",
    "    print(\"Grade B\")\n",
    "elif (per<=80 and per>=60):\n",
    "    print(\"Grade C\")\n",
    "else:\n",
    "    print(\"Grade D\")"
   ]
  },
  {
   "cell_type": "markdown",
   "id": "280cddf1-a29c-49e0-99f2-13f0ff2beef3",
   "metadata": {},
   "source": [
    "### **Q2. Write a program to accept the cost price of a bike and display the road tax to be paid according to the following criteria:** ###\n",
    "\n",
    "**Cost Price (in Rs)** | **Tax**\n",
    "---- | ----\n",
    "50000 and <=100000 | 15%\n",
    "50000 | 10%\n",
    "5% | Others"
   ]
  },
  {
   "cell_type": "code",
   "execution_count": 4,
   "id": "415444dc-bf61-4085-b6fe-306d54b4fc16",
   "metadata": {},
   "outputs": [
    {
     "name": "stdin",
     "output_type": "stream",
     "text": [
      "Enter the Cost Price(in Rs) :  151000\n"
     ]
    },
    {
     "name": "stdout",
     "output_type": "stream",
     "text": [
      "Tax to be paid = 15%\n"
     ]
    }
   ],
   "source": [
    "costprice=int(input(\"Enter the Cost Price(in Rs) : \"))\n",
    "if (costprice>100000):\n",
    "    print(\"Tax to be paid = 15%\")\n",
    "elif (costprice>50000 and costprice<=100000):\n",
    "    print(\"Tax to be paid = 10%\")\n",
    "else:\n",
    "    print(\"Tax to be paid = 5%\")"
   ]
  },
  {
   "cell_type": "markdown",
   "id": "72cefdae-a6e6-4284-8118-d705aec0f222",
   "metadata": {},
   "source": [
    "### **Q3. Accept any city from the user and display monuments of that city.** ###\n",
    "\n",
    "**City** | **Monument**\n",
    "---- | ----\n",
    "Delhi | Red Fort\n",
    "Agra | Taj Mahal\n",
    "Jaipur | Jal Mahal"
   ]
  },
  {
   "cell_type": "code",
   "execution_count": 5,
   "id": "69b5d28c-9a75-4bf1-9d72-3fc35763b24b",
   "metadata": {},
   "outputs": [
    {
     "name": "stdin",
     "output_type": "stream",
     "text": [
      "Enter the city :  jaipur\n"
     ]
    },
    {
     "name": "stdout",
     "output_type": "stream",
     "text": [
      "Jai Mahal\n"
     ]
    }
   ],
   "source": [
    "city=input(\"Enter the city : \")\n",
    "if (city==\"Delhi\" or city==\"delhi\"):\n",
    "    print(\"Monument : Red Fort\")\n",
    "elif (city==\"Agra\" or city==\"agra\"):\n",
    "    print(\"Monument : Taj Mahal\")\n",
    "elif (city==\"Jaipur\" or city==\"jaipur\"):\n",
    "    print(\"Jai Mahal\")\n",
    "else:\n",
    "    print(\"Please enter valid city!!!\")"
   ]
  },
  {
   "cell_type": "markdown",
   "id": "0b0f1b8d-6f8c-44a1-9f7b-4bb80c44d24d",
   "metadata": {},
   "source": [
    "### **Q4. Check how many times a given number can be divided by 3 before it is less than or equal to 10.** ###"
   ]
  },
  {
   "cell_type": "code",
   "execution_count": 6,
   "id": "ab644e4e-d6dc-4c13-bc93-f1b08b73aac5",
   "metadata": {},
   "outputs": [
    {
     "name": "stdin",
     "output_type": "stream",
     "text": [
      "Enter a number =  51\n"
     ]
    },
    {
     "name": "stdout",
     "output_type": "stream",
     "text": [
      "No of times divided by 3 =  2\n"
     ]
    }
   ],
   "source": [
    "no=int(input(\"Enter a number = \"))\n",
    "temp=0\n",
    "while (no>10):\n",
    "    no/=3\n",
    "    temp+=1\n",
    "print(\"No of times divided by 3 = \",temp)"
   ]
  },
  {
   "cell_type": "markdown",
   "id": "bc1b0853-a3fe-4b01-ac65-355d37143e42",
   "metadata": {},
   "source": [
    "### **Q5. Why and When to Use a While Loop in Python with a Detailed Description and Example** ###\n",
    "\n",
    "A while loop repeats a block of code an unknown number of times until a condition is no longer met. It is useful when you don't know how many times you want a block of code to execute. The loop continues executing as long as the specified condition remains true.\n",
    "\n",
    "A Boolean condition is a condition that evaluates to either True or False.\n",
    "\n",
    "A while loop always first checks the condition before running. If the condition evaluates to True, then the loop will execute the code within the loop's body and continue to do so while the condition remains True. It will keep executing the desired set of code statements until that condition is no longer True.\n",
    "\n",
    "**Example:**\n",
    "\n",
    "This example creates an infinite loop that will continuously print \"I am always true.\"\n",
    "\n",
    "```python\n",
    "while True:\n",
    "    print(\"I am always true\")\n"
   ]
  },
  {
   "cell_type": "markdown",
   "id": "453d25dd-0430-4ef6-ae70-99aec8ac3c48",
   "metadata": {},
   "source": [
    "### **Q6. Use Nested while Loop to print 3 patterns.** ###"
   ]
  },
  {
   "cell_type": "code",
   "execution_count": 7,
   "id": "70ccb927-07ff-472a-9dd3-b06ff8f61f3e",
   "metadata": {},
   "outputs": [
    {
     "name": "stdout",
     "output_type": "stream",
     "text": [
      "1 \n",
      "1 2 \n",
      "1 2 3 \n",
      "1 2 3 4 \n",
      "1 2 3 4 5 \n"
     ]
    }
   ],
   "source": [
    "# (i). Pattern\n",
    "i=1\n",
    "while i<=5:\n",
    "    j=1\n",
    "    while j<=i:\n",
    "        print(j,end=\" \")\n",
    "        j=j+1\n",
    "    print(\"\")\n",
    "    i=i+1"
   ]
  },
  {
   "cell_type": "code",
   "execution_count": 8,
   "id": "560b4214-92b6-410f-8554-c9cb5085a7eb",
   "metadata": {},
   "outputs": [
    {
     "name": "stdout",
     "output_type": "stream",
     "text": [
      "0 1 2 3 \n",
      "0 2 4 6 \n",
      "0 3 6 9 \n",
      "0 4 8 12 \n"
     ]
    }
   ],
   "source": [
    "# (ii). Pattern\n",
    "i = 1\n",
    "while i <= 4 :\n",
    "    j = 0\n",
    "    while  j <= 3 :\n",
    "        print(i*j, end=\" \")\n",
    "        j += 1\n",
    "    print()\n",
    "    i += 1"
   ]
  },
  {
   "cell_type": "code",
   "execution_count": 9,
   "id": "77b59c22-6683-4827-bf98-54c1454ba7e8",
   "metadata": {},
   "outputs": [
    {
     "name": "stdout",
     "output_type": "stream",
     "text": [
      "0 0 0 0 0 0 \n",
      "0 1 2 3 4 5 \n",
      "0 2 4 6 8 10 \n",
      "0 3 6 9 12 15 \n",
      "\n",
      "0 0 0 0 0 0 \n",
      "0 2 4 6 8 10 \n",
      "0 4 8 12 16 20 \n",
      "0 6 12 18 24 30 \n",
      "\n",
      "0 0 0 0 0 0 \n",
      "0 3 6 9 12 15 \n",
      "0 6 12 18 24 30 \n",
      "0 9 18 27 36 45 \n",
      "\n",
      "0 0 0 0 0 0 \n",
      "0 4 8 12 16 20 \n",
      "0 8 16 24 32 40 \n",
      "0 12 24 36 48 60 \n",
      "\n"
     ]
    }
   ],
   "source": [
    "# (iii). Pattern\n",
    "i = 1\n",
    "while i <= 4 :\n",
    "    j = 0\n",
    "    while  j <= 3 :\n",
    "        k = 0\n",
    "        while  k <= 5 :\n",
    "            print(i*j*k, end=\" \")\n",
    "            k += 1\n",
    "        print()\n",
    "        j += 1\n",
    "    print()\n",
    "    i += 1"
   ]
  },
  {
   "cell_type": "markdown",
   "id": "866c4f73-2069-4c2c-9094-1b9aa719df63",
   "metadata": {},
   "source": [
    "### **Q7. Reverse while Loop to display numbers from 10 to 1** ###"
   ]
  },
  {
   "cell_type": "code",
   "execution_count": 10,
   "id": "a73c91dd-271e-4e36-a2f4-ea13ef076d04",
   "metadata": {},
   "outputs": [
    {
     "name": "stdout",
     "output_type": "stream",
     "text": [
      "10\n",
      "9\n",
      "8\n",
      "7\n",
      "6\n",
      "5\n",
      "4\n",
      "3\n",
      "2\n",
      "1\n"
     ]
    }
   ],
   "source": [
    "n=10\n",
    "while(n>0):\n",
    "    print(n)\n",
    "    n-=1"
   ]
  },
  {
   "cell_type": "markdown",
   "id": "3f7bc913-3166-4174-83f7-d922665a587c",
   "metadata": {},
   "source": [
    "### **Q8. Reverse while Loop to display numbers from 10 to 1** ###"
   ]
  },
  {
   "cell_type": "code",
   "execution_count": 11,
   "id": "3a7207d6-8dd5-43bb-b097-237aa508d818",
   "metadata": {},
   "outputs": [
    {
     "name": "stdout",
     "output_type": "stream",
     "text": [
      "10\n",
      "9\n",
      "8\n",
      "7\n",
      "6\n",
      "5\n",
      "4\n",
      "3\n",
      "2\n",
      "1\n"
     ]
    }
   ],
   "source": [
    "n=10\n",
    "while(n>0):\n",
    "    print(n)\n",
    "    n-=1"
   ]
  }
 ],
 "metadata": {
  "kernelspec": {
   "display_name": "Python 3 (ipykernel)",
   "language": "python",
   "name": "python3"
  },
  "language_info": {
   "codemirror_mode": {
    "name": "ipython",
    "version": 3
   },
   "file_extension": ".py",
   "mimetype": "text/x-python",
   "name": "python",
   "nbconvert_exporter": "python",
   "pygments_lexer": "ipython3",
   "version": "3.10.8"
  }
 },
 "nbformat": 4,
 "nbformat_minor": 5
}
