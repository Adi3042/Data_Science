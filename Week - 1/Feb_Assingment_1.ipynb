{
 "cells": [
  {
   "cell_type": "markdown",
   "id": "20718587-0c1b-4567-8191-aba959c19f99",
   "metadata": {},
   "source": [
    "<div class=\"alert alert-block alert-info\" align=\"center\" style=\"padding: 10px;\">\n",
    "<h1><b><u>Python-5</u></b></h1>\n",
    "</div>"
   ]
  },
  {
   "cell_type": "markdown",
   "id": "b270bf7a-6fc9-48ad-a0fb-23325e3d87e0",
   "metadata": {},
   "source": [
    "### **Q1. Who developed Python Programming Language?** ###\n",
    "Python was developed by Guido van Rossum.\n",
    "\n",
    "### **Q2. Which type of Programming does Python support?** ###\n",
    "Python is an interpreted, interactive, object-oriented programming language.\n",
    "\n",
    "### **Q3. Is Python case sensitive when dealing with identifiers?** ###\n",
    "Yes, Python is case-sensitive.\n",
    "\n",
    "### **Q4. What is the correct extension of the Python file?** ###\n",
    "The correct extension for Python source code files is .py.\n",
    "\n",
    "### **Q5. Is Python code compiled or interpreted?** ###\n",
    "Python code is interpreted.\n",
    "\n",
    "### **Q6. Name a few blocks of code used to define in Python language?** ###\n",
    "Indentation is used to define a block of code in Python.\n",
    "\n",
    "### **Q7. State a character used to give single-line comments in Python?** ###\n",
    "\"#\" is used for single-line comments in Python.\n",
    "\n",
    "### **Q8. Mention functions which can help us to find the version of Python that we are currently working on?** ###\n",
    "You can use the following command in the terminal to find the version of Python: `python --version`.\n",
    "\n",
    "### **Q9. Python supports the creation of anonymous functions at runtime, using a construct called?** ###\n",
    "It uses a construct called \"lambda.\"\n",
    "\n",
    "### **Q10. What does pip stand for in Python?** ###\n",
    "pip stands for \"Package Installer for Python.\"\n",
    "\n",
    "### **Q11. Mention a few built-in functions in Python?** ###\n",
    "Some built-in functions of Python include `list()`, `len()`, `capitalize()`, and `lower()`.\n",
    "\n",
    "### **Q12. What is the maximum possible length of an identifier in Python?** ###\n",
    "An identifier can have a maximum length of 79 characters in Python.\n",
    "\n",
    "### **Q13. What are the benefits of using Python?** ###\n",
    "Some benefits of using Python include being simple to use and understand, being free and open-source, having an extensive library, being dynamically typed, offering portability, and having a supportive community.\n",
    "\n",
    "### **Q14. How is memory managed in Python?** ###\n",
    "Python uses a portion of the memory for internal use and non-object memory.\n",
    "\n",
    "### **Q15. How to install Python on Windows and set path variables?** ###\n",
    "1. First, download the Python .exe file from the Python official website of the latest version.\n",
    "2. Second, run the installer as an administrator, tick all the checkboxes, and select \"add to path.\"\n",
    "3. Third, follow the installation process.\n",
    "\n",
    "### **Q16. Is indentation required in Python?** ###\n",
    "Yes, Python requires indentation."
   ]
  }
 ],
 "metadata": {
  "kernelspec": {
   "display_name": "Python 3 (ipykernel)",
   "language": "python",
   "name": "python3"
  },
  "language_info": {
   "codemirror_mode": {
    "name": "ipython",
    "version": 3
   },
   "file_extension": ".py",
   "mimetype": "text/x-python",
   "name": "python",
   "nbconvert_exporter": "python",
   "pygments_lexer": "ipython3",
   "version": "3.10.8"
  }
 },
 "nbformat": 4,
 "nbformat_minor": 5
}
