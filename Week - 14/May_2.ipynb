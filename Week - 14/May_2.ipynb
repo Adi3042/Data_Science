{
 "cells": [
  {
   "cell_type": "markdown",
   "id": "9d3a4ce7-df76-4c7b-9df2-2621aa28e8e9",
   "metadata": {},
   "source": [
    "<div class=\"alert alert-block alert-info\" align=\"center\" style=\"padding: 10px;\">\n",
    "<h1><b><u>Anomaly Detection-1</u></b></h1>\n",
    "</div>"
   ]
  },
  {
   "cell_type": "markdown",
   "id": "ba0f9279-4d87-4632-bc3d-f2a3316686f6",
   "metadata": {},
   "source": [
    "**Q1. What is anomaly detection and what is its purpose?**\n",
    "\n",
    "Anomaly detection, also known as outlier detection, identifies data points significantly different from the majority.\n",
    "Purpose: Detect rare, unusual, or abnormal instances, used in fraud detection, security, and quality control.\n",
    "\n",
    "---\n",
    "**Q2. What are the key challenges in anomaly detection?**\n",
    "\n",
    "- Lack of Anomalous Data\n",
    "- Imbalanced Datasets\n",
    "- Concept Drift\n",
    "- Feature Engineering\n",
    "- Interpretability\n",
    "\n",
    "---\n",
    "**Q3. How does unsupervised anomaly detection differ from supervised anomaly detection?**\n",
    "\n",
    "- **Unsupervised:** No labeled anomalies; relies on inherent data characteristics.\n",
    "- **Supervised:** Uses labeled data to train models to distinguish normal from anomalous instances.\n",
    "\n",
    "---\n",
    "**Q4. What are the main categories of anomaly detection algorithms?**\n",
    "\n",
    "- Statistical Methods\n",
    "- Distance-Based Methods\n",
    "- Density-Based Methods\n",
    "- Clustering Methods\n",
    "- Machine Learning-Based Methods\n",
    "\n",
    "---\n",
    "**Q5. What are the main assumptions made by distance-based anomaly detection methods?**\n",
    "\n",
    "- **Isolation Assumption:** Anomalies are isolated and distant from normal data.\n",
    "- **Low Density Assumption:** Anomalies have lower local data point density.\n",
    "\n",
    "---\n",
    "**Q6. How does the LOF algorithm compute anomaly scores?**\n",
    "\n",
    "LOF compares a point's local density to its k-nearest neighbors.\n",
    "Lower LOF indicates similarity to neighbors, while higher LOF suggests anomaly.\n",
    "\n",
    "---\n",
    "**Q7. What are the key parameters of the Isolation Forest algorithm?**\n",
    "\n",
    "- **n_estimators:** Number of isolation trees.\n",
    "- **max_samples:** Number of data points to sample when building trees.\n",
    "- **contamination:** Expected proportion of anomalies.\n",
    "\n",
    "---\n",
    "**Q8. If a data point has only 2 neighbors of the same class within a radius of 0.5, what is its anomaly score using KNN with K=10?**\n",
    "\n",
    "The anomaly score using K-nearest neighbors (KNN) with K=10 depends on the number of anomalies within the neighborhood of the data point. In this case, if a data point has only 2 neighbors of the same class within a radius of 0.5 and K=10, it implies that there are no anomalous neighbors within the specified radius. Therefore, the anomaly score for this data point using KNN with K=10 would be relatively low, indicating that it is similar to its neighbors.\n",
    "\n",
    "---\n",
    "**Q9. Using the Isolation Forest algorithm with 100 trees and a dataset of 3000 data points, what is the anomaly score for a data point that has an average path length of 5.0 compared to the average path length of the trees?**\n",
    "\n",
    "In the Isolation Forest algorithm, the anomaly score for a data point is computed based on its average path length in multiple isolation trees. A shorter average path length indicates that the data point is easier to isolate and is more likely to be an anomaly. Conversely, a longer average path length suggests that the data point is similar to normal instances.\n",
    "\n",
    "If a data point has an average path length of 5.0 compared to the average path length of the trees, it means that on average, it took 5 splits in the isolation trees to isolate this data point. Lower average path lengths typically indicate higher anomaly scores, so a data point with an average path length of 5.0 is considered less of an anomaly compared to those with shorter path lengths. The exact interpretation may vary depending on the specific dataset and context.\n"
   ]
  }
 ],
 "metadata": {
  "kernelspec": {
   "display_name": "Python 3 (ipykernel)",
   "language": "python",
   "name": "python3"
  },
  "language_info": {
   "codemirror_mode": {
    "name": "ipython",
    "version": 3
   },
   "file_extension": ".py",
   "mimetype": "text/x-python",
   "name": "python",
   "nbconvert_exporter": "python",
   "pygments_lexer": "ipython3",
   "version": "3.10.8"
  }
 },
 "nbformat": 4,
 "nbformat_minor": 5
}
