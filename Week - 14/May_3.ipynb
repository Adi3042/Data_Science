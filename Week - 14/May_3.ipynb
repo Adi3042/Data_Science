{
 "cells": [
  {
   "cell_type": "markdown",
   "id": "54d87a57-647a-4b3d-b45e-e5152f5ae6f2",
   "metadata": {},
   "source": [
    "<div class=\"alert alert-block alert-info\" align=\"center\" style=\"padding: 10px;\">\n",
    "<h1><b><u>Anomaly Detection-2</u></b></h1>\n",
    "</div>"
   ]
  },
  {
   "cell_type": "markdown",
   "id": "9be5f5a7-1a20-4cdd-9b7a-f10f89420406",
   "metadata": {},
   "source": [
    "**Q1. What is the role of feature selection in anomaly detection?**\n",
    "\n",
    "- **Role:** Feature selection is crucial to improve the efficiency and effectiveness of anomaly detection.\n",
    "- **Purpose:** It helps identify relevant features while reducing noise, focusing on the most discriminative features.\n",
    "\n",
    "---\n",
    "**Q2. What are some common evaluation metrics for anomaly detection algorithms and how are they computed?**\n",
    "\n",
    "- **Metrics:** Common metrics include accuracy, precision, recall, F1-Score, AUC-ROC, and AUC-PR.\n",
    "- **Computation:** They are computed using formulas based on true positives (TP), false positives (FP), true negatives (TN), and false negatives (FN).\n",
    "\n",
    "---\n",
    "**Q3. What is DBSCAN and how does it work for clustering?**\n",
    "\n",
    "- **DBSCAN:** Density-Based Spatial Clustering of Applications with Noise.\n",
    "- **Working:** DBSCAN groups data points into clusters based on their density and spatial distribution, defining dense and sparse regions.\n",
    "\n",
    "---\n",
    "**Q4. How does the epsilon parameter affect the performance of DBSCAN in detecting anomalies?**\n",
    "\n",
    "- **Epsilon (eps):** Defines the radius around each data point for considering neighbors.\n",
    "- **Effect:** Smaller eps leads to denser clusters and more potential outliers; larger eps results in larger clusters and fewer outliers.\n",
    "\n",
    "---\n",
    "**Q5. What are the differences between the core, border, and noise points in DBSCAN, and how do they relate to anomaly detection?**\n",
    "\n",
    "- **Core Points:** Have sufficient neighbors within eps.\n",
    "- **Border Points:** On cluster edges with fewer neighbors than min_samples.\n",
    "- **Noise Points:** Not in any cluster, potential anomalies.\n",
    "- **Relation:** Noise points in DBSCAN may represent anomalies as they don't fit well into clusters.\n",
    "\n",
    "---\n",
    "**Q6. How does DBSCAN detect anomalies, and what are the key parameters involved in the process?**\n",
    "\n",
    "- **Detection:** DBSCAN labels noise points as potential anomalies.\n",
    "- **Parameters:** Key parameters include eps and min_samples.\n",
    "\n",
    "---\n",
    "**Q7. What is the make_circles package in scikit-learn used for?**\n",
    "\n",
    "- **Usage:** `make_circles` generates synthetic datasets with data points arranged in concentric circles.\n",
    "- **Purpose:** It is often used for testing and illustrating clustering and classification algorithms.\n",
    "\n",
    "---\n",
    "**Q8. What are local outliers and global outliers, and how do they differ from each other?**\n",
    "\n",
    "- **Local Outliers:** Outliers within local neighborhoods but not necessarily outliers globally.\n",
    "- **Global Outliers:** Outliers when considering the entire dataset.\n",
    "- **Difference:** Local outliers are detected within smaller regions, while global outliers are identified based on the entire dataset's characteristics.\n",
    "\n",
    "---\n",
    "**Q9. How can local outliers be detected using the Local Outlier Factor (LOF) algorithm?**\n",
    "\n",
    "- **LOF:** Compares a data point's local neighborhood density to its neighbors' density.\n",
    "- **Detection:** Data points with significantly lower local density are considered local outliers.\n",
    "\n",
    "---\n",
    "**Q10. How can global outliers be detected using the Isolation Forest algorithm?**\n",
    "\n",
    "- **Isolation Forest:** Identifies global outliers using random splits in a tree-based structure.\n",
    "- **Measurement:** Measures the average path length to isolate each data point, with shorter paths indicating global outliers.\n",
    "\n",
    "---\n",
    "**Q11. What are some real-world applications where local outlier detection is more appropriate than global outlier detection, and vice versa?**\n",
    "\n",
    "- **Local Outlier Detection:** Suitable for fraud detection in localized network regions, anomalies in time-series data, manufacturing line defect identification, and local sensor network health monitoring.\n",
    "- **Global Outlier Detection:** Appropriate for identifying extremely rare events like critical system failures in large IT networks, global financial data outliers, or anomalies in global climate patterns.\n"
   ]
  }
 ],
 "metadata": {
  "kernelspec": {
   "display_name": "Python 3 (ipykernel)",
   "language": "python",
   "name": "python3"
  },
  "language_info": {
   "codemirror_mode": {
    "name": "ipython",
    "version": 3
   },
   "file_extension": ".py",
   "mimetype": "text/x-python",
   "name": "python",
   "nbconvert_exporter": "python",
   "pygments_lexer": "ipython3",
   "version": "3.10.8"
  }
 },
 "nbformat": 4,
 "nbformat_minor": 5
}
