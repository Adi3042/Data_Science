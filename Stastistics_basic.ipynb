{
 "cells": [
  {
   "cell_type": "code",
   "execution_count": null,
   "id": "435660c3-e5ec-4578-9e8a-b2c123a17a28",
   "metadata": {},
   "outputs": [],
   "source": [
    "Q1. What is Statistics?"
   ]
  },
  {
   "cell_type": "code",
   "execution_count": null,
   "id": "880c503e-9af5-410a-ba16-f3d644db069b",
   "metadata": {},
   "outputs": [],
   "source": [
    "Statistics is a branch of mathematics that involves collecting, organizing, analyzing, interpreting, and presenting data. \n",
    "It provides methods and techniques to make sense of numerical information and uncover patterns, relationships, and \n",
    "insights within the data.\n",
    "\n",
    "The primary goal of statistics is to gain knowledge and understanding about a particular phenomenon or population \n",
    "based on the available data. "
   ]
  },
  {
   "cell_type": "code",
   "execution_count": null,
   "id": "8000d998-76f0-4747-9cca-10ac056da738",
   "metadata": {},
   "outputs": [],
   "source": [
    "Q2. Define the different types of statistics and give an example of when each type might be used."
   ]
  },
  {
   "cell_type": "code",
   "execution_count": null,
   "id": "2ac30ac7-6fca-4b2e-a595-db7035f51758",
   "metadata": {},
   "outputs": [],
   "source": [
    "There are two main types of statistics: descriptive statistics and inferential statistics.\n",
    "\n",
    "Descriptive Statistics:---\n",
    "    (i) Descriptive statistics summarize and describe data. \n",
    "    (ii) It includes measures like mean, median, mode, standard deviation, and graphical representations like histograms \n",
    "    and box plots. \n",
    "    (iii) It is used to provide an overview and understanding of the data.\n",
    "    Example: \n",
    "        Descriptive statistics can be used to determine the average income or measure the variability in test scores.\n",
    "\n",
    "Inferential Statistics:---\n",
    "    (i) Inferential statistics uses sample data to make inferences about a larger population. \n",
    "    (ii) It involves hypothesis testing, confidence intervals, and regression analysis. \n",
    "    (iii) It is used to draw conclusions or make predictions about the population based on limited data.\n",
    "    Example: \n",
    "        Inferential statistics can be used to test if a new drug treatment is effective, calculate confidence intervals \n",
    "        for population parameters, or analyze the relationship between variables."
   ]
  },
  {
   "cell_type": "code",
   "execution_count": null,
   "id": "9a7a4408-1110-4da8-ac31-5cf7c8fd945e",
   "metadata": {},
   "outputs": [],
   "source": [
    "Q3. What are the different types of data and how do they differ from each other? Provide an example of\n",
    "    each type of data."
   ]
  },
  {
   "cell_type": "code",
   "execution_count": null,
   "id": "54b8cf5e-96b6-4dc1-9320-a537e31046ca",
   "metadata": {},
   "outputs": [],
   "source": [
    "Data can be classified into different types based on their nature and characteristics i.e:----\n",
    "\n",
    "Nominal Data: \n",
    "    (i) Nominal data represents categories or labels without any inherent order or ranking. \n",
    "    (ii) It is qualitative in nature and cannot be mathematically manipulated. \n",
    "    \n",
    "    Examples of nominal data include:---\n",
    "        Eye color (categories: blue, brown, green)\n",
    "    \n",
    "Ordinal Data: \n",
    "    (i) Ordinal data also represents categories, but they have an inherent order or ranking. \n",
    "    (ii) The intervals between categories may not be equal. \n",
    "    \n",
    "    Examples of ordinal data include:---\n",
    "        Rating scales (categories: poor, fair, good, excellent)\n",
    "    \n",
    "Interval Data: \n",
    "    (i) Interval data represents numerical or quantitative data with equal intervals between values. \n",
    "    (ii) However, it lacks a meaningful zero point. \n",
    "    (iii)Arithmetic operations like addition and subtraction can be performed on interval data, but \n",
    "         multiplication and division are not meaningful. \n",
    "    \n",
    "    Examples of interval data include:---\n",
    "        Temperature measured in Celsius or Fahrenheit\n",
    "    \n",
    "Ratio Data: \n",
    "    (i) Ratio data is similar to interval data, but it has a meaningful zero point. \n",
    "    (ii) Ratio data allows for meaningful arithmetic operations including multiplication and division. \n",
    "    \n",
    "    Examples of ratio data include:---\n",
    "        Height in centimeters"
   ]
  },
  {
   "cell_type": "code",
   "execution_count": null,
   "id": "25eda2b2-a17c-4f39-ab75-7f6c19c996a7",
   "metadata": {},
   "outputs": [],
   "source": [
    "Q4. Categorise the following datasets with respect to quantitative and qualitative data types:\n",
    "(i) Grading in exam: A+, A, B+, B, C+, C, D, E\n",
    "(ii) Colour of mangoes: yellow, green, orange, red\n",
    "(iii) Height data of a class: [178.9, 179, 179.5, 176, 177.2, 178.3, 175.8,...]\n",
    "(iv) Number of mangoes exported by a farm: [500, 600, 478, 672, ...]"
   ]
  },
  {
   "cell_type": "code",
   "execution_count": null,
   "id": "c0c022c1-f6db-483a-ac71-2a7dbeaaf034",
   "metadata": {},
   "outputs": [],
   "source": [
    "(i) Grading in exam: A+, A, B+, B, C+, C, D, E\n",
    "        Categorization: Qualitative\n",
    "\n",
    "(ii) Colour of mangoes: yellow, green, orange, red\n",
    "        Categorization: Qualitative\n",
    "\n",
    "(iii) Height data of a class: [178.9, 179, 179.5, 176, 177.2, 178.3, 175.8,...]\n",
    "        Categorization: Quantitative\n",
    "\n",
    "(iv) Number of mangoes exported by a farm: [500, 600, 478, 672, ...]\n",
    "        Categorization: Quantitative"
   ]
  },
  {
   "cell_type": "code",
   "execution_count": null,
   "id": "bb7796d1-573e-4f93-b2f8-2310c153af60",
   "metadata": {},
   "outputs": [],
   "source": [
    "Q5. Explain the concept of levels of measurement and give an example of a variable for each level."
   ]
  },
  {
   "cell_type": "code",
   "execution_count": null,
   "id": "3ef3823f-c0f0-4c36-a059-5ee979786dce",
   "metadata": {},
   "outputs": [],
   "source": [
    "Levels of measurement refer to the different ways in which variables can be classified. \n",
    "\n",
    "There are four main levels of measurement :---\n",
    "\n",
    "    Nominal Level:---\n",
    "        (i) Variables at the nominal level are categorical and can be classified into distinct categories or groups. \n",
    "        (ii) They lack any inherent order or ranking. \n",
    "        Example :-- Eye color: blue, brown, green\n",
    "\n",
    "    Ordinal Level:---\n",
    "        (i) Variables at the ordinal level have categories with an inherent order or ranking. \n",
    "        (ii) The intervals between categories may not be equal. \n",
    "        Example :--- Rating scale: poor, fair, good, excellent\n",
    "\n",
    "    Interval Level:---\n",
    "        (i) Variables at the interval level represent numerical data with equal intervals between values. \n",
    "        (ii) However, they lack a meaningful zero point. \n",
    "        (iii) Arithmetic operations such as addition and subtraction can be performed, but multiplication and division are not meaningful. \n",
    "        Examples :--- Temperature measured in Celsius or Fahrenheit\n",
    "\n",
    "    Ratio Level: \n",
    "        (i) Variables at the ratio level are similar to interval variables but have a meaningful zero point. \n",
    "        (ii) They allow for meaningful arithmetic operations, including multiplication and division. \n",
    "        Examples include :--- Height in centimeters"
   ]
  },
  {
   "cell_type": "code",
   "execution_count": null,
   "id": "f1d8a3d8-ff23-40e1-9a4a-b9bac14eb824",
   "metadata": {},
   "outputs": [],
   "source": [
    "Q6. Why is it important to understand the level of measurement when analyzing data? Provide an\n",
    "example to illustrate your answer."
   ]
  },
  {
   "cell_type": "code",
   "execution_count": null,
   "id": "a0258675-dfad-47ea-a824-0153be9bb2bc",
   "metadata": {},
   "outputs": [],
   "source": [
    "Because it determines the appropriate statistical techniques, operations, and visualizations that can be applied to the data.\n",
    "Let us consider two scenarios:\n",
    "\n",
    "Scenario 1:\n",
    "The ages are recorded as categories: \"18-25\", \"26-35\", \"36-45\", and so on.\n",
    "\n",
    "Scenario 2:\n",
    "The ages are recorded as precise numerical values: 23, 32, 39, and so on.\n",
    "\n",
    "In Scenario 1, \n",
    "    The age variable is at the ordinal level of measurement since the categories have an inherent order. We can compute measures \n",
    "    of central tendency (such as the median) and use ranking techniques to analyze the data. \n",
    "\n",
    "In Scenario 2, \n",
    "    The age variable is at the ratio level of measurement since it represents numerical values with a meaningful zero point. \n",
    "    We can perform arithmetic operations like calculating the mean or standard deviation and interpret the results accordingly.\n",
    "    \n",
    "By understanding the level of measurement, we can select the appropriate statistical methods and techniques that align\n",
    "with the properties and characteristics of the data."
   ]
  },
  {
   "cell_type": "code",
   "execution_count": null,
   "id": "3fbf331b-108a-4016-ae5b-f0125a73bd12",
   "metadata": {},
   "outputs": [],
   "source": [
    "Q7. How nominal data type is different from ordinal data type."
   ]
  },
  {
   "cell_type": "code",
   "execution_count": null,
   "id": "96a2dd45-552a-4ac4-a349-7b045857f4a1",
   "metadata": {},
   "outputs": [],
   "source": [
    "Nominal Data:\n",
    "\n",
    "(i) Nominal data represents categories without any inherent order.\n",
    "(ii) The categories in nominal data are mutually exclusive and exhaustive.\n",
    "(iii)Examples of nominal data include eye color (blue, brown, green).\n",
    "(iv) In nominal data, it is not meaningful to perform mathematical operations.\n",
    "(v) The main statistical measures used for nominal data are frequencies and percentages.\n",
    "\n",
    "Ordinal Data:\n",
    "\n",
    "(i) Ordinal data represents categories with an inherent order.\n",
    "(ii) The categories in ordinal data have a relative position, but the intervals between categories may not be equal.\n",
    "(iii) Examples of ordinal data include rating scales (poor, fair, good, excellent).\n",
    "(iv) It is meaningful to compare the relative positions of categories, but not the magnitude of differences between them.\n",
    "(v) Statistical measures used for ordinal data include rankings, measures of central tendency."
   ]
  },
  {
   "cell_type": "code",
   "execution_count": null,
   "id": "e5a3febc-5226-4e33-be6b-e5b3b3dbb5b9",
   "metadata": {},
   "outputs": [],
   "source": [
    "Q8. Which type of plot can be used to display data in terms of range?"
   ]
  },
  {
   "cell_type": "code",
   "execution_count": null,
   "id": "a2dc7c47-8f83-424e-94df-0e6143855ef9",
   "metadata": {},
   "outputs": [],
   "source": [
    "A box plot is commonly used to display data in terms of range."
   ]
  },
  {
   "cell_type": "code",
   "execution_count": null,
   "id": "2d35b984-8b47-467f-95bc-dceee7237e06",
   "metadata": {},
   "outputs": [],
   "source": [
    "Q9. Describe the difference between descriptive and inferential statistics. Give an example of each\n",
    "type of statistics and explain how they are used."
   ]
  },
  {
   "cell_type": "code",
   "execution_count": null,
   "id": "644cd1a2-a738-475a-9138-898ae691bfb6",
   "metadata": {},
   "outputs": [],
   "source": [
    "Differences between descriptive and inferential statistics are:---\n",
    "\n",
    "Descriptive Statistics:---\n",
    "\n",
    "    Summarizes and describes data.\n",
    "    Provides an overview and understanding of data key features.\n",
    "    Focuses on organizing, presenting, and analyzing data to describe its characteristics.\n",
    "    Does not involve making inferences beyond the data itself.\n",
    "    Examples: mean, median, mode, standard deviation, histograms, bar charts.\n",
    "    \n",
    "    Used to summarize and visualize data.\n",
    "\n",
    "Inferential Statistics:\n",
    "\n",
    "    Makes inferences, predictions about a larger population based on a sample.\n",
    "    Draws conclusions beyond the specific observed data.\n",
    "    Involves statistical techniques like hypothesis testing, estimation, and determining confidence intervals.\n",
    "    Used to make reliable statements about the population.\n",
    "    Examples: t-tests, ANOVA, regression analysis.\n",
    "    \n",
    "    Used to test hypotheses, compare groups, assess relationships, and make predictions."
   ]
  },
  {
   "cell_type": "code",
   "execution_count": null,
   "id": "7454fd27-637d-472b-b4d1-a347c8f6050a",
   "metadata": {},
   "outputs": [],
   "source": [
    "Q10. What are some common measures of central tendency and variability used in statistics? Explain\n",
    "     how each measure can be used to describe a dataset."
   ]
  },
  {
   "cell_type": "code",
   "execution_count": null,
   "id": "329d53d9-8b00-4668-8be2-66368c4df855",
   "metadata": {},
   "outputs": [],
   "source": [
    "Common measures of central tendency and variability are used in statistics to summarize and describe datasets. \n",
    "Here are some commonly used measures and how they can be used:---\n",
    "\n",
    "\n",
    "Measures of Central Tendency:\n",
    "\n",
    "    Mean: Provides the average value of a dataset.\n",
    "    Median: Represents the middle value in a dataset.\n",
    "    Mode: Represents the most frequently occurring value in a dataset.\n",
    "    \n",
    "Measures of Variability:\n",
    "\n",
    "    Range: Calculates the difference between the maximum and minimum values.\n",
    "    Variance: Measures the average squared deviation from the mean.\n",
    "    Standard Deviation: Represents the square root of the variance.\n",
    "    Interquartile Range (IQR): Measures the range between the first and third quartiles."
   ]
  }
 ],
 "metadata": {
  "kernelspec": {
   "display_name": "Python 3 (ipykernel)",
   "language": "python",
   "name": "python3"
  },
  "language_info": {
   "codemirror_mode": {
    "name": "ipython",
    "version": 3
   },
   "file_extension": ".py",
   "mimetype": "text/x-python",
   "name": "python",
   "nbconvert_exporter": "python",
   "pygments_lexer": "ipython3",
   "version": "3.10.8"
  }
 },
 "nbformat": 4,
 "nbformat_minor": 5
}
