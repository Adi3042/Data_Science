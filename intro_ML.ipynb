{
 "cells": [
  {
   "cell_type": "code",
   "execution_count": null,
   "id": "6bddd9f7-8b9d-4235-ab53-b9dcadc6dc0c",
   "metadata": {},
   "outputs": [],
   "source": [
    "Q1: Explain the following with an example:\n",
    "    a) Artificial Intelligence\n",
    "    b) Machine Learning\n",
    "    c) Deep Learning"
   ]
  },
  {
   "cell_type": "code",
   "execution_count": null,
   "id": "63414d27-785e-4da0-b977-6fb88dd64771",
   "metadata": {},
   "outputs": [],
   "source": [
    "a) Artificial Intelligence:- AI is an smart application that can perform its own task without any human intervention.\n",
    "                             Eg:- Self Driing cars, alexa, robots, etc.\n",
    "    \n",
    "b) Machine Learning:- Machine Learning is a subset of artificial intelligence that provide statistical tools to analayze, \n",
    "                      visualize, predictive models, forecasting.\n",
    "                      Eg:- Amazon, Netflix, etc.\n",
    "        \n",
    "c) Deep Learning:- It is another subset of mahine learning thats main role is to mimic the human brain.\n",
    "                   It is used in Multilayered Neural Network.\n",
    "                   eg:- Object detection, Image Recognization, Chatbots, etc."
   ]
  },
  {
   "cell_type": "code",
   "execution_count": null,
   "id": "f8aa01f4-7ab0-416e-abe0-b3eba69a0451",
   "metadata": {},
   "outputs": [],
   "source": [
    "Q2- What is Supervised Learning? List some of the exampls of supervised learning."
   ]
  },
  {
   "cell_type": "code",
   "execution_count": null,
   "id": "8e80e23a-25bf-413b-b142-e6a680d8fe91",
   "metadata": {},
   "outputs": [],
   "source": [
    "Supervised Learning is a machine learning paradigm where the algorithm learns from labeled training data.\n",
    "\n",
    "Examples of Supervised Learning:- \n",
    "        Email spam detection\n",
    "        Fraud Detection\n",
    "        Predicting house prices based on thier features."
   ]
  },
  {
   "cell_type": "code",
   "execution_count": null,
   "id": "cb752179-f925-4753-aa3e-7c757b5cd420",
   "metadata": {},
   "outputs": [],
   "source": [
    "Q2- What is Unupervised Learning? List some of the exampls of unsupervised learning."
   ]
  },
  {
   "cell_type": "code",
   "execution_count": null,
   "id": "d17461b9-b896-4669-a3ad-0dae26dd314a",
   "metadata": {},
   "outputs": [],
   "source": [
    "Unsupervised learning is the training of a machine using information that is neither classified nor labeled \n",
    "and allowing the algorithm to act on that information without guidance. \n",
    "\n",
    "Examples of unsupervised Learning:-\n",
    "    Market segmentation\n",
    "    Social network analysis."
   ]
  },
  {
   "cell_type": "code",
   "execution_count": null,
   "id": "8156555d-bfaf-4428-bdbe-f0c442a03671",
   "metadata": {},
   "outputs": [],
   "source": [
    "Q4- What is the difference between AI, ML, DL, and DS?"
   ]
  },
  {
   "attachments": {
    "3bfff268-5c62-47d4-9dec-779c110ad892.webp": {
     "image/webp": "[encoded data removed]"
    }
   },
   "cell_type": "markdown",
   "id": "68c823b9-d769-43d3-b120-4c1a5a0059c1",
   "metadata": {},
   "source": [
    "![ai-ml-dl-ds-venn-diagram-banner.webp](attachment:3bfff268-5c62-47d4-9dec-779c110ad892.webp)"
   ]
  },
  {
   "cell_type": "code",
   "execution_count": null,
   "id": "3765a29b-62dc-4b86-953a-f38b85187f95",
   "metadata": {},
   "outputs": [],
   "source": [
    "Artificial Intelligence (AI):-\n",
    "    AI refers to the broader concept of machines or systems that can perform tasks that typically require human intelligence.\n",
    "    AI aims to create systems that can reason, learn, perceive, understand natural language, and interact with the environment.\n",
    "    \n",
    "Machine Learning (ML):-\n",
    "    ML is a subset of AI that focuses on the development of algorithms and models that enable computers to learn from data and make \n",
    "    predictions or decisions.\n",
    "\n",
    "Deep Learning (DL):-\n",
    "    DL is a specialized subset of machine learning that specifically deals with neural networks containing multiple layers.\n",
    "\n",
    "Data Science (DS):-\n",
    "    DS involves the application of various techniques, including statistics, ML, and AI, to extract insights and knowledge from data.\n",
    "    DS involves extracting valuable insights from data using various techniques. "
   ]
  },
  {
   "cell_type": "code",
   "execution_count": null,
   "id": "d9d1fb28-8ea0-400e-9032-006e28745413",
   "metadata": {},
   "outputs": [],
   "source": [
    "Q5- What are the main differnce between Supervised, unsupervised and semi-supervised learning?"
   ]
  },
  {
   "cell_type": "code",
   "execution_count": null,
   "id": "e8996b69-3d95-4516-bf93-8b2c10246c07",
   "metadata": {},
   "outputs": [],
   "source": [
    "Supervised Learning deals with labeled data and aims to make accurate predictions or classifications based on the provided labels.\n",
    "\n",
    "Unsupervised Learning focuses on discovering patterns and relationships within unlabeled data without explicit target values.\n",
    "\n",
    "Semi-Supervised Learning combines labeled and unlabeled data to improve model performance and leverage the benefits of both \n",
    "supervised and unsupervised approaches."
   ]
  },
  {
   "cell_type": "code",
   "execution_count": null,
   "id": "267bddc3-d060-43b6-8172-27a9c4258858",
   "metadata": {},
   "outputs": [],
   "source": [
    "Q6- What is train, test and validation split? Explain the importance of each term."
   ]
  },
  {
   "cell_type": "code",
   "execution_count": null,
   "id": "6e026a4d-ecef-4547-ba88-e7385e3a0574",
   "metadata": {},
   "outputs": [],
   "source": [
    "Training Set: \n",
    "    This is where the model learns from the data, capturing patterns and relationships. \n",
    "    A well-structured training set ensures the model ability to generalize and make accurate predictions.\n",
    "    \n",
    "Validation Set: \n",
    "    Fine-tuning the model using the validation set helps optimize hyperparameters and prevent overfitting, ensuring that the \n",
    "    model performs well on new data beyond the training set.\n",
    "    \n",
    "Test Set: \n",
    "    The test set provides an unbiased assessment of the models real-world performance, verifying its ability to generalize and \n",
    "    make reliable predictions on unseen data."
   ]
  },
  {
   "cell_type": "code",
   "execution_count": null,
   "id": "c5043dd7-bac6-4d0b-ac69-23b57542e85e",
   "metadata": {},
   "outputs": [],
   "source": [
    "Q7- How can unsupervised learning be used in anomaly detection?"
   ]
  },
  {
   "cell_type": "code",
   "execution_count": null,
   "id": "ff912f3c-e5e5-4637-868b-5fcbf8221541",
   "metadata": {},
   "outputs": [],
   "source": [
    "Anomaly detection involves identifying data points that deviate significantly from the expected or normal behavior. \n",
    "\n",
    "Unsupervised learning can be effectively used in anomaly detection by leveraging its ability to identify patterns and outliers\n",
    "within data without requiring labeled.\n",
    "\n",
    "Examples of anomalies:-\n",
    "    Isolation Forest\n",
    "    Autoencoders\n",
    "    Statistical Approaches"
   ]
  },
  {
   "cell_type": "code",
   "execution_count": null,
   "id": "cb5dd443-3d93-4da4-b982-5a21dd51010a",
   "metadata": {},
   "outputs": [],
   "source": [
    "Q8- List down some commonly used supervised learnong algorithms and unsupervised learning algorithms."
   ]
  },
  {
   "cell_type": "code",
   "execution_count": null,
   "id": "abda6b5a-7d56-4207-8072-6ae0aad7e57f",
   "metadata": {},
   "outputs": [],
   "source": [
    "Some commonly used supervised and unsupervised learning algorithms:-\n",
    "\n",
    "Supervised Learning Algorithms:-\n",
    "    \n",
    "    Linear Regression\n",
    "    Logistic Regression\n",
    "    Decision Trees\n",
    "    K-Nearest Neighbors (KNN)\n",
    "\n",
    "Unsupervised Learning Algorithms:-\n",
    "    \n",
    "    K-Means Clustering\n",
    "    Hierarchical Clustering\n",
    "    Autoencoders\n",
    "    Isolation Forest"
   ]
  }
 ],
 "metadata": {
  "kernelspec": {
   "display_name": "Python 3 (ipykernel)",
   "language": "python",
   "name": "python3"
  },
  "language_info": {
   "codemirror_mode": {
    "name": "ipython",
    "version": 3
   },
   "file_extension": ".py",
   "mimetype": "text/x-python",
   "name": "python",
   "nbconvert_exporter": "python",
   "pygments_lexer": "ipython3",
   "version": "3.10.8"
  }
 },
 "nbformat": 4,
 "nbformat_minor": 5
}
