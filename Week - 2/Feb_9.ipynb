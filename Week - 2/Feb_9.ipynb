{
 "cells": [
  {
   "cell_type": "markdown",
   "id": "1efee58e-bb5c-424a-8e80-d4581994b4a7",
   "metadata": {},
   "source": [
    "<div class=\"alert alert-block alert-info\" align=\"center\" style=\"padding: 10px;\">\n",
    "<h1><b><u>OOPs Task</u></b></h1>\n",
    "</div>"
   ]
  },
  {
   "cell_type": "markdown",
   "id": "36e8e334-0132-4649-8993-ee7b5ec90018",
   "metadata": {},
   "source": [
    "### **Q1, Create a vehicle class with an init method having instance variables as name_of_vehicle, max_speed and average_of_vehicle.** ###\n",
    "\n",
    "**Solution:-**"
   ]
  },
  {
   "cell_type": "code",
   "execution_count": 1,
   "id": "b9be719a-1962-4fad-9f32-290b5e30bcca",
   "metadata": {},
   "outputs": [],
   "source": [
    "class vehicle:\n",
    "    def __init__(self,name_of_vehicle, max_speed, average_of_vehicle):\n",
    "        self.name_of_vehicle = name_of_vehicle\n",
    "        self.max_speed = max_speed\n",
    "        self.average_of_vehicle = average_of_vehicle"
   ]
  },
  {
   "cell_type": "code",
   "execution_count": 2,
   "id": "1536830b-f7f9-49c3-bbc0-ace6d6763f52",
   "metadata": {},
   "outputs": [],
   "source": [
    "a=vehicle(\"Honda\",220,15)"
   ]
  },
  {
   "cell_type": "markdown",
   "id": "950d66e4-f4f1-40cd-aabc-5cf073353a12",
   "metadata": {},
   "source": [
    "### **Q2. Create a child class car from the vehicle class created in Que 1, which will inherit the vehicle class. Create a method named seating_capacity which takes capacity as an argument and returns the name of the vehicle and its seating capacity.** ###"
   ]
  },
  {
   "cell_type": "code",
   "execution_count": 3,
   "id": "dcf2bbfd-c6c9-43d0-84a9-5779f20a5e81",
   "metadata": {},
   "outputs": [],
   "source": [
    "class car(vehicle):\n",
    "    def capacity(self,seating_capacity):\n",
    "        self.seating_capacity = seating_capacity\n",
    "        return self.name_of_vehicle, self.seating_capacity "
   ]
  },
  {
   "cell_type": "code",
   "execution_count": 4,
   "id": "2f11a6c4-a330-44d5-82ae-15f2f5a017f1",
   "metadata": {},
   "outputs": [
    {
     "data": {
      "text/plain": [
       "('Toyota', 4)"
      ]
     },
     "execution_count": 4,
     "metadata": {},
     "output_type": "execute_result"
    }
   ],
   "source": [
    "d = car(\"Toyota\", 200, 50)\n",
    "d.capacity(4)"
   ]
  },
  {
   "cell_type": "markdown",
   "id": "b2877183-ea7b-4292-9dd8-0345d2097628",
   "metadata": {},
   "source": [
    "### **Q3. What is multiple inheritance? Write a python code to demonstrate multiple inheritance.** ###"
   ]
  },
  {
   "cell_type": "markdown",
   "id": "c043f499-95aa-41d6-8dc1-8ebb9f1541f6",
   "metadata": {},
   "source": [
    "#### **Multiple Inheritance :-** ####\n",
    "\n",
    "- When a class is derived from more than one base class it is called multiple Inheritance. \n",
    "    \n",
    "- The derived class inherits all the features of the base class."
   ]
  },
  {
   "cell_type": "code",
   "execution_count": 5,
   "id": "bfecd8aa-3df6-4813-b80f-1a4d6c598815",
   "metadata": {},
   "outputs": [
    {
     "name": "stdout",
     "output_type": "stream",
     "text": [
      "3\n",
      "-1\n",
      "2\n",
      "0.5\n"
     ]
    }
   ],
   "source": [
    "# Example\n",
    "class Cal1:  \n",
    "    def Addition(self,a,b):  \n",
    "        return a+b\n",
    "\n",
    "class Cal2:  \n",
    "    def Subtraction(self,a,b):  \n",
    "        return a-b   \n",
    "    \n",
    "class Cal3:  \n",
    "    def Multiplication(self,a,b):  \n",
    "        return a*b\n",
    "    \n",
    "class multi_inherit(Cal1,Cal2,Cal3):  \n",
    "    def Divide(self,a,b):  \n",
    "        return a/b\n",
    "    \n",
    "d = multi_inherit()  \n",
    "print(d.Addition(1,2))  \n",
    "print(d.Subtraction(1,2))\n",
    "print(d.Multiplication(1,2))  \n",
    "print(d.Divide(1,2))  "
   ]
  },
  {
   "cell_type": "markdown",
   "id": "711c54c3-ccaf-465e-81c6-761e7a44cdad",
   "metadata": {},
   "source": [
    "### **Q4. What are getter and setter in python? Create a class and create a getter and a setter method in this class.** ###\n",
    "\n",
    "- Getter:-\n",
    "        This method is used to get the access of the private variables.\n",
    "\n",
    "- Setter:-\n",
    "        This method is used to set the modified value of private varibles."
   ]
  },
  {
   "cell_type": "code",
   "execution_count": 6,
   "id": "a4de6415-b6be-4da8-a01f-7200035cb041",
   "metadata": {},
   "outputs": [],
   "source": [
    "class example:\n",
    "    def __init__(self, name, account_balance):\n",
    "        self.name = name\n",
    "        self.__account_balance = account_balance\n",
    "    \n",
    "    @property\n",
    "    def fetch_account_balance(self):\n",
    "        return self.__account_balance\n",
    "    \n",
    "    @fetch_account_balance.setter\n",
    "    def set_account_balance(self,price):\n",
    "        if price<=1000:\n",
    "             pass\n",
    "        else:\n",
    "            self.__account_balance = price"
   ]
  },
  {
   "cell_type": "code",
   "execution_count": 11,
   "id": "ec0af458-2d77-4ba7-9380-8c046ebc429f",
   "metadata": {},
   "outputs": [
    {
     "data": {
      "text/plain": [
       "4000"
      ]
     },
     "execution_count": 11,
     "metadata": {},
     "output_type": "execute_result"
    }
   ],
   "source": [
    "pw=example(\"Aditya\",4000)\n",
    "pw.fetch_account_balance"
   ]
  },
  {
   "cell_type": "code",
   "execution_count": 12,
   "id": "55e07b79-4a39-40da-a4d3-ad3e48fa1768",
   "metadata": {},
   "outputs": [
    {
     "data": {
      "text/plain": [
       "12000"
      ]
     },
     "execution_count": 12,
     "metadata": {},
     "output_type": "execute_result"
    }
   ],
   "source": [
    "pw.set_account_balance=12000\n",
    "pw.fetch_account_balance"
   ]
  },
  {
   "cell_type": "markdown",
   "id": "e8c8f250-77af-4f48-9111-6ec69271784d",
   "metadata": {},
   "source": [
    "### **Q5.What is method overriding in python? Write a python code to demonstrate method overriding.** ###\n",
    "\n",
    "#### **Method of Overridiing:-** ####\n",
    "    - Method overriding in Python occurs when a subclass defines a method with the same name and signature as a method in its superclass. "
   ]
  },
  {
   "cell_type": "code",
   "execution_count": 14,
   "id": "5d83779d-1a81-4dca-b278-a27101891e96",
   "metadata": {},
   "outputs": [],
   "source": [
    "class Animal:\n",
    "    def sound(self):\n",
    "        print(\"The animal makes a sound\")\n",
    "\n",
    "class Dog(Animal):\n",
    "    def sound(self):\n",
    "        print(\"The dog barks\")\n",
    "        \n",
    "\n",
    "animal = Animal()\n",
    "dog = Dog()"
   ]
  },
  {
   "cell_type": "code",
   "execution_count": 15,
   "id": "22e5d423-b4b5-4802-a21c-4e61ba77c1ec",
   "metadata": {},
   "outputs": [
    {
     "name": "stdout",
     "output_type": "stream",
     "text": [
      "The animal makes a sound\n"
     ]
    }
   ],
   "source": [
    "animal.sound()"
   ]
  },
  {
   "cell_type": "code",
   "execution_count": 16,
   "id": "48479209-0f5d-46fa-acf5-905fb3bcee98",
   "metadata": {},
   "outputs": [
    {
     "name": "stdout",
     "output_type": "stream",
     "text": [
      "The dog barks\n"
     ]
    }
   ],
   "source": [
    "dog.sound()"
   ]
  }
 ],
 "metadata": {
  "kernelspec": {
   "display_name": "Python 3 (ipykernel)",
   "language": "python",
   "name": "python3"
  },
  "language_info": {
   "codemirror_mode": {
    "name": "ipython",
    "version": 3
   },
   "file_extension": ".py",
   "mimetype": "text/x-python",
   "name": "python",
   "nbconvert_exporter": "python",
   "pygments_lexer": "ipython3",
   "version": "3.10.8"
  }
 },
 "nbformat": 4,
 "nbformat_minor": 5
}
