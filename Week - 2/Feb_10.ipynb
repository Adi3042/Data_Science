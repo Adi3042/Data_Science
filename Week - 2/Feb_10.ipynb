{
 "cells": [
  {
   "cell_type": "markdown",
   "id": "bfa0bdeb-18a8-4adb-aac6-dd1f6b0c13a5",
   "metadata": {},
   "source": [
    "<div class=\"alert alert-block alert-info\" align=\"center\" style=\"padding: 10px;\">\n",
    "<h1><b><u>OOPs Assignment</u></b></h1>\n",
    "</div>"
   ]
  },
  {
   "cell_type": "markdown",
   "id": "dad026e6-6afb-4344-8054-c13fae425942",
   "metadata": {
    "tags": []
   },
   "source": [
    "### **Q1. Which function is used to open a file? What are the different modes of opening a file? Explain each mode of file opening.** ###\n",
    "\n",
    "The `open(filename, mode)` function is used to open files in Python. There are several modes available to open a file:\n",
    "\n",
    "- **r**: Open a file for reading.\n",
    "- **w**: Open a file for writing. Creates a new file if it does not exist or truncates the file if it exists.\n",
    "- **x**: Open a file for exclusive creation. If the file already exists, the operation fails.\n",
    "- **a**: Open a file for appending at the end of the file without truncating it. Creates a new file if it does not exist.\n",
    "- **t**: Open in text mode.\n",
    "- **b**: Open in binary mode.\n",
    "- **+**: Open a file for updating (reading and writing).\n",
    "\n",
    "### **Q2. Why close() function is used? Why is it important to close a file?** ###\n",
    "\n",
    "The `close()` function is used to close an open file. It is essential to close a file because, in some cases, due to buffering, changes made to a file may not show until you close the file. Failing to close a file properly can result in data loss or file corruption.\n",
    "\n",
    "\n",
    "### **Q3. Write a python program to create a text file. Write ‘I want to become a Data Scientist’ in that file. Then close the file. Open this file and read the content of the file.** ###"
   ]
  },
  {
   "cell_type": "code",
   "execution_count": 1,
   "id": "b824373e-12cc-43e2-ba94-d339c4d87ea5",
   "metadata": {},
   "outputs": [
    {
     "name": "stdout",
     "output_type": "stream",
     "text": [
      "I want to become Data Scientist\n"
     ]
    }
   ],
   "source": [
    "f = open(\"test.txt\",\"w\")\n",
    "f.write(\"I want to become Data Scientist\")\n",
    "f.close()\n",
    "with open(\"test.txt\",\"r\") as f:\n",
    "    print(f.read())"
   ]
  },
  {
   "cell_type": "markdown",
   "id": "b9e8868b-b3d1-4928-a00c-0c78a36c809d",
   "metadata": {},
   "source": [
    "### **Q4. Explain the following with python code: read(), readline() and readlines().** ###\n",
    "\n",
    "In Python, you can use several methods to read from a file. Here, we will explain and demonstrate the usage of `read()`, `readline()`, and `readlines()` methods.\n",
    "\n",
    "- **`read()`:** This method reads the entire content of a file and returns it as a string.\n",
    "\n",
    "- **`readline()`:** This method reads a single line from a file and returns it as a string. If you call this method multiple times, it will keep returning the next line until it reaches the end of the file.\n",
    "\n",
    "- **`readlines()`:** This method reads all lines from a file and returns them as a list of strings.\n",
    "\n",
    "### Python Code Example"
   ]
  },
  {
   "cell_type": "code",
   "execution_count": 2,
   "id": "ab42c991-280a-4498-a6f0-d6246711f098",
   "metadata": {},
   "outputs": [
    {
     "name": "stdout",
     "output_type": "stream",
     "text": [
      "read(): This method reads the entire content of a file and returns it as a string. \n",
      " You can optionally specify the number  of characters to read. \n",
      "\n"
     ]
    }
   ],
   "source": [
    "#Program on readline()\n",
    "file = open(\"test1.txt\", \"w\")\n",
    "file.write(\"read(): This method reads the entire content of a file and returns it as a string. \\nYou can optionally specify the number  of characters to read. \\nreadline(): This method reads a single line from a file and returns it as a string. If you call this method multiple times, it will keep returning the next line until it reaches the end of the file.readlines(): This method reads all lines from a file and returns them as a list of strings. Each string in the list corresponds to a line in the file.\")\n",
    "\n",
    "with open(\"test1.txt\",\"r\") as file:\n",
    "    line1 = file.readline()\n",
    "    line2 = file.readline()\n",
    "\n",
    "print(line1,line2)"
   ]
  },
  {
   "cell_type": "code",
   "execution_count": 3,
   "id": "14522a42-2c32-4408-9e97-6ea8162c789d",
   "metadata": {},
   "outputs": [
    {
     "name": "stdout",
     "output_type": "stream",
     "text": [
      "['read(): This method reads the entire content of a file and returns it as a string. \\n', 'You can optionally specify the number  of characters to read. \\n', 'readline(): This method reads a single line from a file and returns it as a string. If you call this method multiple times, it will keep returning the next line until it reaches the end of the file.readlines(): This method reads all lines from a file and returns them as a list of strings. Each string in the list corresponds to a line in the file.']\n"
     ]
    }
   ],
   "source": [
    "#Program on readlines()\n",
    "with open(\"test1.txt\",\"r\") as file:\n",
    "    print(file.readlines())"
   ]
  },
  {
   "cell_type": "code",
   "execution_count": 4,
   "id": "d5a88304-1c90-445e-8cdb-f188e0e483b6",
   "metadata": {},
   "outputs": [
    {
     "name": "stdout",
     "output_type": "stream",
     "text": [
      "read(): This method reads the entire content of a file and returns it as a string. \n",
      "You can optionally specify the number  of characters to read. \n",
      "readline(): This method reads a single line from a file and returns it as a string. If you call this method multiple times, it will keep returning the next line until it reaches the end of the file.readlines(): This method reads all lines from a file and returns them as a list of strings. Each string in the list corresponds to a line in the file.\n"
     ]
    }
   ],
   "source": [
    "#Program on read()\n",
    "with open(\"test1.txt\",\"r\") as file:\n",
    "    print(file.read())"
   ]
  },
  {
   "cell_type": "markdown",
   "id": "3d24a3c8-6502-48d5-9d98-43db9f507f85",
   "metadata": {},
   "source": [
    "### **Q5. Explain why with statement is used with open(). What is the advantage of using with statement and open() together?** ###\n",
    "\n",
    "The `with` statement in Python is used to simplify the process of closing a resource like a file. It ensures that the file is properly closed after it has been used, without requiring you to manually call the `close()` method. This is advantageous because it helps in better resource management and avoids resource leaks.\n",
    "\n",
    "### Example\n",
    "\n",
    "```python\n",
    "with open(\"example.txt\", \"w\") as file:\n",
    "    file.write(\"This is a test.\")\n"
   ]
  },
  {
   "cell_type": "markdown",
   "id": "ddd59266-5d6a-402a-94ae-062315d9e7ee",
   "metadata": {},
   "source": [
    "### **Q6. Explain the write() and writelines() functions. Give a suitable example.** ###\n",
    "\n",
    "### `write()`\n",
    "\n",
    "The `write()` function is used to write a single string to a file. If the file does not exist, it is created. If the file exists, the function will overwrite the contents of the file with the new data.\n",
    "\n",
    "### `writelines()`\n",
    "\n",
    "The `writelines()` function is used to write a list of strings to a file. If the file does not exist, it is created. If the file exists, the function will overwrite the contents of the file with the new data.\n",
    "\n",
    "### Example"
   ]
  },
  {
   "cell_type": "code",
   "execution_count": 5,
   "id": "d81e6264-0a41-426f-8336-37cb3cd8993d",
   "metadata": {},
   "outputs": [],
   "source": [
    "#file in write mode\n",
    "file = open(\"example1.txt\", \"w\")\n",
    "file.write(\"Hello, world!\")\n",
    "file.close()"
   ]
  },
  {
   "cell_type": "code",
   "execution_count": 6,
   "id": "2512ed44-3bc5-4663-9698-d0f6fee01284",
   "metadata": {},
   "outputs": [],
   "source": [
    "#file in writelines\n",
    "file = open(\"example2.txt\", \"w\")\n",
    "lines = [\"\\nHello\\n\", \"World\\n\", \"Python\\n\"]\n",
    "file.writelines(lines)\n",
    "file.close()"
   ]
  }
 ],
 "metadata": {
  "kernelspec": {
   "display_name": "Python 3 (ipykernel)",
   "language": "python",
   "name": "python3"
  },
  "language_info": {
   "codemirror_mode": {
    "name": "ipython",
    "version": 3
   },
   "file_extension": ".py",
   "mimetype": "text/x-python",
   "name": "python",
   "nbconvert_exporter": "python",
   "pygments_lexer": "ipython3",
   "version": "3.10.8"
  }
 },
 "nbformat": 4,
 "nbformat_minor": 5
}
