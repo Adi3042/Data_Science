{
 "cells": [
  {
   "cell_type": "markdown",
   "id": "b5cb8549-bb09-4a29-a661-9ae96e8e0251",
   "metadata": {},
   "source": [
    "<div class=\"alert alert-block alert-info\" align=\"center\" style=\"padding: 10px;\">\n",
    "<h1><b><u>Exception handling-1</u></b></h1>\n",
    "</div>"
   ]
  },
  {
   "cell_type": "markdown",
   "id": "3ce97174-00f0-4345-bccb-12d7264a676d",
   "metadata": {},
   "source": [
    "### **Q1.  What is Exception in python? Write the difference between exception and syntax error?** ####\n",
    "\n",
    "An exception in Python is an error that occurs during program execution and interrupts the normal flow of instructions. It creates an exception containing information about the error type.\n",
    "\n",
    "A syntax error, on the other hand, is an error that occurs during the parsing stage of program execution when the Python interpreter cannot understand the code due to incorrect syntax.\n",
    "\n",
    "#### Example\n",
    "\n",
    "- **Exception Example:**\n",
    "\n",
    "```python\n",
    "# Attempting to divide by zero, which raises a ZeroDivisionError\n",
    "try:\n",
    "    result = 5 / 0\n",
    "except ZeroDivisionError as e:\n",
    "    print(f\"Exception occurred: {e}\")\n"
   ]
  },
  {
   "cell_type": "markdown",
   "id": "356b8296-866c-48bc-9fce-11dabfb65438",
   "metadata": {},
   "source": [
    "### **Q2. What happens when an exception is not handled? Explain with an example.** ###\n",
    "\n",
    "When an exception is not handled in a Python program, the program will terminate abruptly, and an error message will be displayed. The error message will indicate the type of the exception and the location in the code where it occurred.\n",
    "\n",
    "### Example\n",
    "\n",
    "```python\n",
    "# If the file does not exist, a FileNotFoundError exception will be raised. If we don't handle this exception, \n",
    "# the program will terminate abruptly, without reading the file, and display an error message\n",
    "with open(\"no_file.txt\",\"r\") as file:\n",
    "    file.read()\n"
   ]
  },
  {
   "cell_type": "code",
   "execution_count": 3,
   "id": "f63afdbe-bfd9-4516-a2b1-e48461df2749",
   "metadata": {},
   "outputs": [
    {
     "name": "stdout",
     "output_type": "stream",
     "text": [
      "Error: File not found\n"
     ]
    }
   ],
   "source": [
    "# To avoid unhandled exceptions, it's important to include exception handling code in the program that catches \n",
    "# and handles the exceptions appropriately\n",
    "try:\n",
    "    with open(\"no_file.txt\",\"r\") as file:\n",
    "        print(file.read)\n",
    "except FileNotFoundError:\n",
    "    print(\"Error: File not found\")"
   ]
  },
  {
   "cell_type": "markdown",
   "id": "8066f495-dfe6-452f-9c29-5c0a4af0cea0",
   "metadata": {},
   "source": [
    "### **Q3. Which python statements is used to catch and handle exceptions ? explain with an example.** ###\n",
    "\n",
    "The `try-except` statement is used to catch and handle exceptions in Python.\n",
    "\n",
    "The `try` block contains the code that may raise an exception, and the `except` block contains the code that handles the exception if it occurs.\n",
    "\n",
    "#### Example"
   ]
  },
  {
   "cell_type": "code",
   "execution_count": 4,
   "id": "2dc0ec52-44a6-4244-adc2-792ae91a0fd7",
   "metadata": {},
   "outputs": [
    {
     "name": "stdout",
     "output_type": "stream",
     "text": [
      "Error: division by zero\n"
     ]
    }
   ],
   "source": [
    "try:\n",
    "    a=10\n",
    "    b=0\n",
    "    result = a/b\n",
    "except ZeroDivisionError:\n",
    "    print(\"Error: division by zero\")"
   ]
  },
  {
   "cell_type": "code",
   "execution_count": null,
   "id": "b529d167-f723-4af7-bbc0-a9ab73251b7c",
   "metadata": {},
   "outputs": [
    {
     "name": "stdout",
     "output_type": "stream",
     "text": [
      "Error: division by zero\n"
     ]
    }
   ],
   "source": [
    "### **Q5. Explain with an example:** ###\n",
    "    (a) try and else \n",
    "    (b) finally \n",
    "    (c) raise\n",
    "    \n",
    "    \n",
    "        (a) try and else:---\n",
    "                The else block is used in conjunction with try-except statement to execute code that should run only if no exceptions were raised\n",
    "                in the try block.\n",
    "\n",
    "        (b) finally:---\n",
    "                The finally block is used to execute code that must run whether an exception occurred or not. \n",
    "                This is useful for closing files, or doing any necessary work.\n",
    "\n",
    "        (c) raise:\n",
    "                The raise keyword is used to explicitly raise an exception. \n",
    "                This can be useful in situations where you want to raise a specific exception based on certain conditions. "
   ]
  },
  {
   "cell_type": "code",
   "execution_count": 5,
   "id": "8bb2f869-5523-4f17-8aed-f80a802e08ed",
   "metadata": {},
   "outputs": [
    {
     "name": "stdout",
     "output_type": "stream",
     "text": [
      "Hello, world!\n",
      "File is closed succesfully\n"
     ]
    }
   ],
   "source": [
    "# try and else\n",
    "import logging\n",
    "logging.basicConfig(filename = \"log1.txt\", level = logging.INFO, format= \"%(asctime)s %(name)s  %(levelname)s %(message)s\")\n",
    "\n",
    "try:\n",
    "    logging.info(\"Inside the try block\")\n",
    "    f=open(\"example1.txt\",\"r\")\n",
    "    print(f.read())\n",
    "except Exception as e:\n",
    "    logging.info(\"Inside the except block\")\n",
    "    print(\"file is not readable due to \",e)\n",
    "else:\n",
    "    logging.info(\"Inside the else block\")\n",
    "    f.close()\n",
    "    print(\"File is closed succesfully\")\n",
    "    \n",
    "logging.shutdown()"
   ]
  },
  {
   "cell_type": "code",
   "execution_count": 6,
   "id": "33b0aed5-1386-4d05-891b-6b4e66c6fc7e",
   "metadata": {},
   "outputs": [
    {
     "name": "stdout",
     "output_type": "stream",
     "text": [
      "Finally is excuted succesfully eithier try block runs successfully or not\n"
     ]
    },
    {
     "ename": "FileNotFoundError",
     "evalue": "[Errno 2] No such file or directory: 'no_file.txt'",
     "output_type": "error",
     "traceback": [
      "\u001b[0;31m---------------------------------------------------------------------------\u001b[0m",
      "\u001b[0;31mFileNotFoundError\u001b[0m                         Traceback (most recent call last)",
      "Cell \u001b[0;32mIn[6], line 7\u001b[0m\n\u001b[1;32m      5\u001b[0m \u001b[38;5;28;01mtry\u001b[39;00m:\n\u001b[1;32m      6\u001b[0m     logging\u001b[38;5;241m.\u001b[39minfo(\u001b[38;5;124m\"\u001b[39m\u001b[38;5;124mInside the try block\u001b[39m\u001b[38;5;124m\"\u001b[39m)\n\u001b[0;32m----> 7\u001b[0m     f\u001b[38;5;241m=\u001b[39m\u001b[38;5;28;43mopen\u001b[39;49m\u001b[43m(\u001b[49m\u001b[38;5;124;43m\"\u001b[39;49m\u001b[38;5;124;43mno_file.txt\u001b[39;49m\u001b[38;5;124;43m\"\u001b[39;49m\u001b[43m,\u001b[49m\u001b[38;5;124;43m\"\u001b[39;49m\u001b[38;5;124;43mr\u001b[39;49m\u001b[38;5;124;43m\"\u001b[39;49m\u001b[43m)\u001b[49m\n\u001b[1;32m      8\u001b[0m     \u001b[38;5;28mprint\u001b[39m(f\u001b[38;5;241m.\u001b[39mread())\n\u001b[1;32m      9\u001b[0m     f\u001b[38;5;241m.\u001b[39mclose()\n",
      "File \u001b[0;32m/opt/conda/lib/python3.10/site-packages/IPython/core/interactiveshell.py:282\u001b[0m, in \u001b[0;36m_modified_open\u001b[0;34m(file, *args, **kwargs)\u001b[0m\n\u001b[1;32m    275\u001b[0m \u001b[38;5;28;01mif\u001b[39;00m file \u001b[38;5;129;01min\u001b[39;00m {\u001b[38;5;241m0\u001b[39m, \u001b[38;5;241m1\u001b[39m, \u001b[38;5;241m2\u001b[39m}:\n\u001b[1;32m    276\u001b[0m     \u001b[38;5;28;01mraise\u001b[39;00m \u001b[38;5;167;01mValueError\u001b[39;00m(\n\u001b[1;32m    277\u001b[0m         \u001b[38;5;124mf\u001b[39m\u001b[38;5;124m\"\u001b[39m\u001b[38;5;124mIPython won\u001b[39m\u001b[38;5;124m'\u001b[39m\u001b[38;5;124mt let you open fd=\u001b[39m\u001b[38;5;132;01m{\u001b[39;00mfile\u001b[38;5;132;01m}\u001b[39;00m\u001b[38;5;124m by default \u001b[39m\u001b[38;5;124m\"\u001b[39m\n\u001b[1;32m    278\u001b[0m         \u001b[38;5;124m\"\u001b[39m\u001b[38;5;124mas it is likely to crash IPython. If you know what you are doing, \u001b[39m\u001b[38;5;124m\"\u001b[39m\n\u001b[1;32m    279\u001b[0m         \u001b[38;5;124m\"\u001b[39m\u001b[38;5;124myou can use builtins\u001b[39m\u001b[38;5;124m'\u001b[39m\u001b[38;5;124m open.\u001b[39m\u001b[38;5;124m\"\u001b[39m\n\u001b[1;32m    280\u001b[0m     )\n\u001b[0;32m--> 282\u001b[0m \u001b[38;5;28;01mreturn\u001b[39;00m \u001b[43mio_open\u001b[49m\u001b[43m(\u001b[49m\u001b[43mfile\u001b[49m\u001b[43m,\u001b[49m\u001b[43m \u001b[49m\u001b[38;5;241;43m*\u001b[39;49m\u001b[43margs\u001b[49m\u001b[43m,\u001b[49m\u001b[43m \u001b[49m\u001b[38;5;241;43m*\u001b[39;49m\u001b[38;5;241;43m*\u001b[39;49m\u001b[43mkwargs\u001b[49m\u001b[43m)\u001b[49m\n",
      "\u001b[0;31mFileNotFoundError\u001b[0m: [Errno 2] No such file or directory: 'no_file.txt'"
     ]
    }
   ],
   "source": [
    "# finally\n",
    "import logging\n",
    "logging.basicConfig(filename = \"log2.txt\", level = logging.INFO, format= \"%(asctime)s %(name)s  %(levelname)s %(message)s\")\n",
    "\n",
    "try:\n",
    "    logging.info(\"Inside the try block\")\n",
    "    f=open(\"no_file.txt\",\"r\")\n",
    "    print(f.read())\n",
    "    f.close()\n",
    "finally:\n",
    "    logging.info(\"Inside the finally block\")\n",
    "    print(\"Finally is excuted succesfully eithier try block runs successfully or not\")\n",
    "    logging.shutdown()"
   ]
  },
  {
   "cell_type": "code",
   "execution_count": 7,
   "id": "0cc21bd7-2be4-435a-a225-998fa37dfb3a",
   "metadata": {},
   "outputs": [
    {
     "name": "stdout",
     "output_type": "stream",
     "text": [
      "Error: Cannot divide by zero\n"
     ]
    }
   ],
   "source": [
    "# raise\n",
    "import logging\n",
    "logging.basicConfig(filename = \"log3.txt\", level = logging.INFO, format= \"%(asctime)s %(name)s  %(levelname)s %(message)s\")\n",
    "\n",
    "def divide(num1, num2):\n",
    "    logging.info(\"Inside the divide function\")\n",
    "    if num2 == 0:\n",
    "        logging.error(\"raise error\")\n",
    "        raise ZeroDivisionError(\"Cannot divide by zero\")\n",
    "    else:\n",
    "        logging.info(\"Inside the else block which excute the whole code\")\n",
    "        return num1 / num2\n",
    "\n",
    "try:\n",
    "    logging.info(\"Inside the try block\")\n",
    "    result = divide(10, 0)\n",
    "    print(result)\n",
    "    logging.info(\"result generated is {}\").format(result)\n",
    "except ZeroDivisionError as e:\n",
    "    logging.info(\"Inside the except block\")\n",
    "    print(\"Error:\", e)\n",
    "\n",
    "logging.shutdown()"
   ]
  },
  {
   "cell_type": "code",
   "execution_count": null,
   "id": "3550b1cd-3b54-44bc-843b-396c00bab0d3",
   "metadata": {},
   "outputs": [],
   "source": [
    "Q5. What are the custom exceptions in Python? Why do we need custom exceptions? Explain with an example\n",
    "\n",
    "\n",
    "        Custom exceptions in Python are user-defined exceptions that extend the built-in Exception class. \n",
    "\n",
    "        We need custom exceptions because sometimes the built-in exceptions provided by Python may not accurately describe \n",
    "        the error that occurred or the situation that needs to be handled. \n",
    "        \n",
    "        Custom exceptions provide a more descriptive and meaningful way of indicating errors or unexpected behavior in our code."
   ]
  },
  {
   "cell_type": "code",
   "execution_count": 8,
   "id": "ac778460-76a5-45fd-af72-b592d5a420db",
   "metadata": {},
   "outputs": [
    {
     "name": "stdout",
     "output_type": "stream",
     "text": [
      "aditya.com\n"
     ]
    }
   ],
   "source": [
    "import logging\n",
    "logging.basicConfig(filename = \"log4.txt\", level = logging.INFO, format= \"%(asctime)s %(name)s  %(levelname)s %(message)s\")\n",
    "\n",
    "class InvalidEmailException(Exception):\n",
    "    logging.info(\"Inside the class\")\n",
    "    def __init__(self, email):\n",
    "        logging.info(\"Call the class constructor\")\n",
    "        self.email = email\n",
    "\n",
    "def send_email(to):\n",
    "    logging.info(\"Inside the function\")\n",
    "    if \"@\" not in to:\n",
    "        logging.error(\"Raise error\")\n",
    "        raise InvalidEmailException(to)\n",
    "    else:\n",
    "        logging.info(\"Email send successfully\")\n",
    "        print(\"Email sent to:\",to)\n",
    "\n",
    "try:\n",
    "    logging.info(\"Inside the try block\")\n",
    "    send_email(\"aditya.com\")\n",
    "except InvalidEmailException as e:\n",
    "    logging.error(\"Except block\")\n",
    "    print(e)\n",
    "\n",
    "logging.shutdown()"
   ]
  },
  {
   "cell_type": "markdown",
   "id": "f6aea509-bec1-4b59-9fd1-99ff722893ab",
   "metadata": {},
   "source": [
    "### **Q6. Create a custom exception class and use this class to handle the exception.** ###"
   ]
  },
  {
   "cell_type": "code",
   "execution_count": null,
   "id": "f309a389-208a-48ae-8ddc-b1e8447e4971",
   "metadata": {},
   "outputs": [],
   "source": [
    "import logging\n",
    "logging.basicConfig(filename = \"log5.txt\", level = logging.INFO, format= \"%(asctime)s %(name)s  %(levelname)s %(message)s\")\n",
    "\n",
    "class validateage(Exception):\n",
    "    logging.info(\"Class of validate age\")\n",
    "    def __init__(self,msg):\n",
    "        logging.info(\"Class constructor\")\n",
    "        self.msg = msg\n",
    "\n",
    "def validate(age):\n",
    "    logging.info(\"Validate function\")\n",
    "    if age<0:\n",
    "        logging.info(\"Inside the if block\")\n",
    "        raise validateage(\"Entered age is negative\")\n",
    "    elif age>200:\n",
    "        logging.info(\"Inside the elif block\")\n",
    "        raise validateage(\"Entered age is too high\")\n",
    "    else:\n",
    "        logging.info(\"Inside the else block\")\n",
    "        print(\"Age is valid\")\n",
    "\n",
    "try:\n",
    "    logging.info(\"Inside the try block\")\n",
    "    age=int(input(\"Enter the age\"))\n",
    "    logging.info(\"Calling validate function\")\n",
    "    validate(age)\n",
    "except validateage as e:\n",
    "    logging.info(\"Raise error\")\n",
    "    print(e)\n",
    "    \n",
    "logging.shutdown()"
   ]
  }
 ],
 "metadata": {
  "kernelspec": {
   "display_name": "Python 3 (ipykernel)",
   "language": "python",
   "name": "python3"
  },
  "language_info": {
   "codemirror_mode": {
    "name": "ipython",
    "version": 3
   },
   "file_extension": ".py",
   "mimetype": "text/x-python",
   "name": "python",
   "nbconvert_exporter": "python",
   "pygments_lexer": "ipython3",
   "version": "3.10.8"
  }
 },
 "nbformat": 4,
 "nbformat_minor": 5
}
