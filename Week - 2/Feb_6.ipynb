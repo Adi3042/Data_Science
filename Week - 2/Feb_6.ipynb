{
 "cells": [
  {
   "cell_type": "markdown",
   "id": "6e1b2288-ffdc-4202-8681-7e390e6a76fa",
   "metadata": {},
   "source": [
    "<div class=\"alert alert-block alert-info\" align=\"center\" style=\"padding: 10px;\">\n",
    "<h1><b><u>Task - 1</u></b></h1>\n",
    "</div>"
   ]
  },
  {
   "cell_type": "markdown",
   "id": "7c447e3e-6b75-469b-ae0a-0f26f903ce1e",
   "metadata": {},
   "source": [
    "### **Q1. Write a Python program for encrypting a message sent to you by your friend. The logic of encryption should be such that, for 'a', the output should be 'z'. For 'b', the output should be 'y'. For 'c', the output should be 'x', and so on. \n",
    "**Additionally, whitespace should be replaced with a dollar sign. Punctuation marks should remain unchanged.**\n",
    "\n",
    "\n",
    "\n",
    "**Input Sentence**\n",
    "\n",
    "Input Sentence: \"I want to become a Data Scientist.\"\n",
    "\n",
    "**Encryption Process**\n",
    "\n",
    "Encrypt the above input sentence using the program you just created. Be sure to convert the given input sentence into lowercase before encrypting. The final output should be in lowercase.\n"
   ]
  },
  {
   "cell_type": "code",
   "execution_count": 11,
   "id": "129cb063-00d8-47a1-878c-e801d9b932b6",
   "metadata": {},
   "outputs": [
    {
     "name": "stdout",
     "output_type": "stream",
     "text": [
      "$dzmg$gl$yvxlnv$z$zgz$xrvmgrhg.\n"
     ]
    }
   ],
   "source": [
    "# Solution\n",
    "def encrypt(message):\n",
    "    result = \"\"\n",
    "    for char in message:\n",
    "        if char.isalpha():\n",
    "            new_char = chr(219 - ord(char))\n",
    "            if char.islower():\n",
    "                result += new_char.lower()\n",
    "            else:\n",
    "                result += new_char.upper()\n",
    "        elif char.isspace():\n",
    "            result += \"$\"\n",
    "        else:\n",
    "            result += char\n",
    "    return result\n",
    "\n",
    "message=\"I want to become a Data Scientist.\"\n",
    "print(encrypt(message))"
   ]
  },
  {
   "cell_type": "markdown",
   "id": "ee1553c9-f4d0-4799-a354-7cabb8991ce4",
   "metadata": {},
   "source": [
    "### **Q1. Create a Python function that takes a list as an argument and returns the product of all the numbers after creating a flat list.** ###\n",
    "### Input List\n",
    "Use the below-given list as an argument for your function:\n",
    "\n",
    "```python\n",
    "list1 = [1, 2, 3, 4, [44, 55, 66, True], False, (34, 56, 78, 89, 34), {1, 2, 3, 3, 2, 1}, {1: 34, \"key2\": [55, 67, 78, 89], 4: (45, 22, 61, 34)},\n",
    "         [56, 'data science'], 'Machine Learning']\n"
   ]
  },
  {
   "cell_type": "code",
   "execution_count": 14,
   "id": "d36e4ef4-50d2-46a2-a04d-e6f836307eae",
   "metadata": {},
   "outputs": [
    {
     "name": "stdout",
     "output_type": "stream",
     "text": [
      "78718933113238978560\n"
     ]
    }
   ],
   "source": [
    "def multi_of_numbers(lst):\n",
    "    flat_list = []\n",
    "    for i in lst:\n",
    "        if type(i) == list or type(i) == tuple or type(i) == set:\n",
    "            flat_list.extend([j for j in i if type(j) in [int, float]])\n",
    "        elif type(i) == dict:\n",
    "            for key, value in i.items():\n",
    "                if type(key) in [int, float]:\n",
    "                    flat_list.append(key)\n",
    "                if type(value) in [int, float]:\n",
    "                    flat_list.append(value)\n",
    "        elif type(i) in [int, float]:\n",
    "            flat_list.append(i)\n",
    "\n",
    "    product = 1\n",
    "    for num in flat_list:\n",
    "        product *= num\n",
    "\n",
    "    return product\n",
    "\n",
    "list1 = [1, 2, 3, 4, [44, 55, 66, True], False, (34, 56, 78, 89, 34), {1, 2, 3, 3, 2, 1}, {1: 34, \"key2\": [55, 67, 78, 89], 4: (45, 22, 61, 34)},\n",
    "         [56, 'data science'], 'Machine Learning']\n",
    "\n",
    "result = multi_of_numbers(list1)\n",
    "print(result)"
   ]
  }
 ],
 "metadata": {
  "kernelspec": {
   "display_name": "Python 3 (ipykernel)",
   "language": "python",
   "name": "python3"
  },
  "language_info": {
   "codemirror_mode": {
    "name": "ipython",
    "version": 3
   },
   "file_extension": ".py",
   "mimetype": "text/x-python",
   "name": "python",
   "nbconvert_exporter": "python",
   "pygments_lexer": "ipython3",
   "version": "3.10.8"
  }
 },
 "nbformat": 4,
 "nbformat_minor": 5
}
