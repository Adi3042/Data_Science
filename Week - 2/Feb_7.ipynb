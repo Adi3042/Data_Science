{
 "cells": [
  {
   "cell_type": "markdown",
   "id": "ce135296-f9b9-4df8-ac19-d2f0079a8d06",
   "metadata": {},
   "source": [
    "<div class=\"alert alert-block alert-info\" align=\"center\" style=\"padding: 10px;\">\n",
    "<h1><b><u>Task - 2</u></b></h1>\n",
    "</div>"
   ]
  },
  {
   "cell_type": "markdown",
   "id": "df501682-e611-4045-a082-35980bacd3ab",
   "metadata": {},
   "source": [
    "### **Q1. You are writing code for a company that has a requirement for a Python function to check whether the password entered by the user is correct or not. The function should take the password as input and return the string “Valid Password” if the entered password follows the below-given password guidelines; otherwise, it should return “Invalid Password”.** ###\n",
    "\n",
    "### Password Guidelines\n",
    "\n",
    "1. The Password should contain at least two uppercase letters and at least two lowercase letters.\n",
    "2. The Password should contain at least a number and three special characters.\n",
    "3. The length of the password should be 10 characters long.\n",
    "\n",
    "### Solution\n",
    "\n",
    "Here's a Python function that validates the password according to the provided guidelines:\n",
    "\n",
    "```python\n",
    "def validate_password(password):\n",
    "    upper_count, lower_count, number_count, special_count = 0, 0, 0, 0\n",
    "    special_chars = ['!', '@', '#', '$', '%', '^', '&', '*', '(', ')', '-', '+', '=', '_', '{', '}', '[', ']', '|', ';', ':', \n",
    "                     '<', '>', ',', '.', '/', '?']\n",
    "    if len(password) < 10:\n",
    "        return \"Invalid Password\"\n",
    "    else:\n",
    "        for char in password:\n",
    "            if char.isupper():\n",
    "                upper_count += 1\n",
    "            elif char.islower():\n",
    "                lower_count += 1\n",
    "            elif char.isdigit():\n",
    "                number_count += 1\n",
    "            elif char in special_chars:\n",
    "                special_count += 1\n",
    "        if upper_count < 2 or lower_count < 2 or number_count < 1 or special_count < 3:\n",
    "            return \"Invalid Password\"\n",
    "    \n",
    "    return \"Valid Password\"\n",
    "\n",
    "password = \"ADitya@@@123\"\n",
    "print(validate_password(password))\n"
   ]
  },
  {
   "cell_type": "markdown",
   "id": "5dfed409-243c-42a1-9869-ff5061d106c2",
   "metadata": {},
   "source": [
    "### **Q2. Solve the below-given questions using at least one of the following:** ###\n",
    "    1. Lambda function\n",
    "    2. Filter function\n",
    "    3. Map function\n",
    "    4. List Comprehension"
   ]
  },
  {
   "cell_type": "code",
   "execution_count": 37,
   "id": "75da1a07-7c78-4409-ba9e-2218d8984ce5",
   "metadata": {},
   "outputs": [
    {
     "name": "stdout",
     "output_type": "stream",
     "text": [
      "['123', '78', '90']\n"
     ]
    }
   ],
   "source": [
    "# i. Check if the string starts with a particular letter\n",
    "\n",
    "strings = [\"123\", \"45.6\", \"78\", \"0.5\", \"90\"]\n",
    "result = list(filter(lambda s: s.isdigit(), strings))\n",
    "print(result)"
   ]
  },
  {
   "cell_type": "code",
   "execution_count": 38,
   "id": "0a393e58-4bb4-4570-a6f0-b32aea9af19e",
   "metadata": {},
   "outputs": [
    {
     "name": "stdout",
     "output_type": "stream",
     "text": [
      "True\n",
      "False\n",
      "False\n"
     ]
    }
   ],
   "source": [
    "# ii. Check if the string is numeric\n",
    "\n",
    "string1 = \"123\"\n",
    "string2 = \"45.6\"\n",
    "string3 = \"abc123\"\n",
    "\n",
    "print(string1.isdigit())\n",
    "print(string2.isdigit())\n",
    "print(string3.isdigit())"
   ]
  },
  {
   "cell_type": "code",
   "execution_count": 39,
   "id": "a0c25191-9ad6-49f6-a790-890c15266e59",
   "metadata": {},
   "outputs": [
    {
     "name": "stdout",
     "output_type": "stream",
     "text": [
      "[('orange', 80), ('mango', 99), ('grapes', 1000)]\n"
     ]
    }
   ],
   "source": [
    "# iii. Sort a list of tuples having fruit names and their quantity. [(\"mango\",99),(\"orange\",80), (\"grapes\", 1000)\n",
    "\n",
    "fruits = [(\"mango\", 99), (\"orange\", 80), (\"grapes\", 1000)]\n",
    "sorted_fruits = sorted(fruits, key=lambda f: f[1], reverse=False)\n",
    "print(sorted_fruits)"
   ]
  },
  {
   "cell_type": "code",
   "execution_count": 40,
   "id": "79d37e79-5c90-419a-a8e0-53b1a173aaf7",
   "metadata": {},
   "outputs": [
    {
     "name": "stdout",
     "output_type": "stream",
     "text": [
      "[1, 4, 9, 16, 25, 36, 49, 64, 81, 100]\n"
     ]
    }
   ],
   "source": [
    "# iv. Find the squares of numbers from 1 to 10\n",
    "\n",
    "squares = [i ** 2 for i in range(1, 11)]\n",
    "print(squares)"
   ]
  },
  {
   "cell_type": "code",
   "execution_count": 42,
   "id": "bb09f474-e64c-4b8f-89b6-38185e5493af",
   "metadata": {},
   "outputs": [
    {
     "name": "stdout",
     "output_type": "stream",
     "text": [
      "Cube roots: [1.0, 1.2599210498948732, 1.4422495703074083, 1.5874010519681994, 1.7099759466766968, 1.8171205928321397, 1.912931182772389, 2.0, 2.080083823051904, 2.154434690031884]\n"
     ]
    }
   ],
   "source": [
    "# v. Find the cube root of numbers from 1 to 10\n",
    "\n",
    "cube_roots = [x**(1/3) for x in range(1, 11)]\n",
    "print(\"Cube roots:\", cube_roots)\n"
   ]
  },
  {
   "cell_type": "code",
   "execution_count": 43,
   "id": "3f6ff24e-c16e-4ca9-9862-186ccf637281",
   "metadata": {},
   "outputs": [
    {
     "name": "stdout",
     "output_type": "stream",
     "text": [
      "Even numbers: [2, 4, 6, 8, 10]\n"
     ]
    }
   ],
   "source": [
    "# vi. Check if a given number is even\n",
    "\n",
    "nums = [1, 2, 3, 4, 5, 6, 7, 8, 9, 10]\n",
    "even_nums = list(filter(lambda x: x % 2 == 0, nums))\n",
    "print(\"Even numbers:\", even_nums)\n"
   ]
  },
  {
   "cell_type": "code",
   "execution_count": 44,
   "id": "548efdad-1c95-4f78-a0df-ecab557f54da",
   "metadata": {},
   "outputs": [
    {
     "name": "stdout",
     "output_type": "stream",
     "text": [
      "Odd numbers: [1, 3, 5, 7, 9]\n"
     ]
    }
   ],
   "source": [
    "# vii. Filter odd numbers from the given list. [1,2,3,4,5,6,7,8,9,10]\n",
    "\n",
    "nums = [1, 2, 3, 4, 5, 6, 7, 8, 9, 10]\n",
    "odd_nums = list(filter(lambda x: x % 2 != 0, nums))\n",
    "print(\"Odd numbers:\", odd_nums)"
   ]
  },
  {
   "cell_type": "code",
   "execution_count": 45,
   "id": "9c66af2d-9e6c-4221-a8cd-23903c703e8a",
   "metadata": {},
   "outputs": [
    {
     "name": "stdout",
     "output_type": "stream",
     "text": [
      "Positive numbers: [1, 2, 3, 4, 5, 6]\n",
      "Negative numbers: [-1, -2, -3, -4, -5]\n"
     ]
    }
   ],
   "source": [
    "# vii. Sort a list of integers into positive and negative integers lists  [1,2,3,4,5,6,-1,-2,-3,-4,-5,0]\n",
    "\n",
    "nums = [1, 2, 3, 4, 5, 6, -1, -2, -3, -4, -5, 0]\n",
    "positive_nums = [x for x in nums if x > 0]\n",
    "negative_nums = [x for x in nums if x < 0]\n",
    "print(\"Positive numbers:\", positive_nums)\n",
    "print(\"Negative numbers:\", negative_nums)"
   ]
  }
 ],
 "metadata": {
  "kernelspec": {
   "display_name": "Python 3 (ipykernel)",
   "language": "python",
   "name": "python3"
  },
  "language_info": {
   "codemirror_mode": {
    "name": "ipython",
    "version": 3
   },
   "file_extension": ".py",
   "mimetype": "text/x-python",
   "name": "python",
   "nbconvert_exporter": "python",
   "pygments_lexer": "ipython3",
   "version": "3.10.8"
  }
 },
 "nbformat": 4,
 "nbformat_minor": 5
}
