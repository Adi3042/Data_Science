{
 "cells": [
  {
   "cell_type": "markdown",
   "id": "774dd301-09f8-4120-81df-f4a73be6ba9e",
   "metadata": {},
   "source": [
    "<div class=\"alert alert-block alert-info\" align=\"center\" style=\"padding: 10px;\">\n",
    "<h1><b><u>Abstraction and Encapsulation</u></b></h1>\n",
    "</div>"
   ]
  },
  {
   "cell_type": "markdown",
   "id": "baa5e3e9-0085-436a-a305-8d69cf46c5c5",
   "metadata": {},
   "source": [
    "## Q1. Abstraction in Object-Oriented Programming\n",
    "\n",
    "**Abstraction** in Object-Oriented Programming (OOPs) is a concept of showing only essential information and hiding implementation details of an object from the user. It is a way to reduce complexity by breaking down a large system into smaller, more manageable components, and focuses on the essential features of an object that are relevant to the problem being solved.\n",
    "\n",
    "### Example\n",
    "\n",
    "Let's consider an example of a `Car` object. The user of the `Car` class doesn't need to know how the engine, transmission, or other internal components work. They are abstracted away, and the user interacts with the `Car` object using methods like `start()` and `stop()` without worrying about the internal complexities.\n",
    "\n",
    "---\n",
    "\n",
    "## Q2. Abstraction vs. Encapsulation\n",
    "\n",
    "**Abstraction** and **Encapsulation** are two important concepts in object-oriented programming, and although they are related, they are not the same thing.\n",
    "\n",
    "**Abstraction** is the process of hiding implementation details and only exposing essential features of an object to the user. Abstraction is achieved using abstract classes, interfaces, and methods. The user does not need to know how the object works internally, only how to use it.\n",
    "\n",
    "**Encapsulation**, on the other hand, is the process of bundling data and methods that operate on that data within a single unit, i.e., a class. Encapsulation allows the data to be protected from unauthorized access from outside the class. The user can only interact with the object through its public methods.\n",
    "\n",
    "### Example\n",
    "\n",
    "Consider a `BankAccount` class. Abstraction focuses on providing essential operations like `deposit()`, `withdraw()`, and `get_balance()`, while hiding the implementation details of how the bank manages the accounts. Encapsulation ensures that the account balance and transaction history are kept private and can only be accessed and modified through the class's methods.\n",
    "\n"
   ]
  },
  {
   "cell_type": "code",
   "execution_count": 1,
   "id": "e6210bff-e2dc-4af9-9d1d-8645099ad976",
   "metadata": {},
   "outputs": [
    {
     "name": "stdout",
     "output_type": "stream",
     "text": [
      "Circle area: 78.5\n",
      "Circle perimeter: 31.400000000000002\n"
     ]
    }
   ],
   "source": [
    "# Example : Abstraction\n",
    "\n",
    "from abc import ABC, abstractmethod\n",
    "\n",
    "class Shape(ABC):\n",
    "    @abstractmethod\n",
    "    def area(self):\n",
    "        pass\n",
    "\n",
    "    @abstractmethod\n",
    "    def perimeter(self):\n",
    "        pass\n",
    "\n",
    "class Circle(Shape):\n",
    "    def __init__(self, radius):\n",
    "        self.radius = radius\n",
    "\n",
    "    def area(self):\n",
    "        return 3.14 * (self.radius ** 2)\n",
    "\n",
    "    def perimeter(self):\n",
    "        return 2 * 3.14 * self.radius\n",
    "\n",
    "my_circle = Circle(5)\n",
    "print(\"Circle area:\", my_circle.area())\n",
    "print(\"Circle perimeter:\", my_circle.perimeter())"
   ]
  },
  {
   "cell_type": "code",
   "execution_count": 6,
   "id": "514ca43f-34df-4c81-85b1-73ba6960b206",
   "metadata": {},
   "outputs": [],
   "source": [
    "# Example : Encapsulation\n",
    "\n",
    "class BankAccount:\n",
    "    def __init__(self, account_number, balance):\n",
    "        self.__account_number = account_number\n",
    "        self.__balance = balance\n",
    "\n",
    "    def deposit(self, amount):\n",
    "        self.__balance += amount\n",
    "\n",
    "    def withdraw(self, amount):\n",
    "        if self.__balance >= amount:\n",
    "            self.__balance -= amount\n",
    "\n",
    "    def get_balance(self):\n",
    "        return self.__balance"
   ]
  },
  {
   "cell_type": "code",
   "execution_count": 7,
   "id": "bf2033dc-0125-40c8-b460-9688e372091d",
   "metadata": {},
   "outputs": [
    {
     "ename": "AttributeError",
     "evalue": "'BankAccount' object has no attribute '__account_number'",
     "output_type": "error",
     "traceback": [
      "\u001b[0;31m---------------------------------------------------------------------------\u001b[0m",
      "\u001b[0;31mAttributeError\u001b[0m                            Traceback (most recent call last)",
      "Cell \u001b[0;32mIn[7], line 3\u001b[0m\n\u001b[1;32m      1\u001b[0m my_account \u001b[38;5;241m=\u001b[39m BankAccount(\u001b[38;5;124m\"\u001b[39m\u001b[38;5;124m123456789\u001b[39m\u001b[38;5;124m\"\u001b[39m, \u001b[38;5;241m10000\u001b[39m)\n\u001b[1;32m      2\u001b[0m \u001b[38;5;66;03m# try to access the account number directly (will result in an error)\u001b[39;00m\n\u001b[0;32m----> 3\u001b[0m \u001b[38;5;28mprint\u001b[39m(\u001b[38;5;124m\"\u001b[39m\u001b[38;5;124mAccount number:\u001b[39m\u001b[38;5;124m\"\u001b[39m, \u001b[43mmy_account\u001b[49m\u001b[38;5;241;43m.\u001b[39;49m\u001b[43m__account_number\u001b[49m)\n",
      "\u001b[0;31mAttributeError\u001b[0m: 'BankAccount' object has no attribute '__account_number'"
     ]
    }
   ],
   "source": [
    "my_account = BankAccount(\"123456789\", 10000)\n",
    "# try to access the account number directly (will result in an error)\n",
    "print(\"Account number:\", my_account.__account_number)"
   ]
  },
  {
   "cell_type": "code",
   "execution_count": 8,
   "id": "ce8a72c3-2985-4ace-9ad5-11846554e66c",
   "metadata": {},
   "outputs": [
    {
     "name": "stdout",
     "output_type": "stream",
     "text": [
      "Account balance: 6500\n"
     ]
    }
   ],
   "source": [
    "my_account.withdraw(3500)\n",
    "print(\"Account balance:\", my_account.get_balance())"
   ]
  },
  {
   "cell_type": "markdown",
   "id": "3a63cfad-3a7c-448d-8496-9b107553aa2b",
   "metadata": {},
   "source": [
    "### **Q3. What is abc module in python? Why is it used?** ###\n",
    "\n",
    "In Python, the `abc` (abstract base classes) module provides the infrastructure for defining abstract base classes. An abstract base class is a class that cannot be instantiated and is used to define a common interface for its subclasses.\n",
    "\n",
    "The `abc` module provides the `ABC` class, which is a base class for defining abstract base classes. To define an abstract method, you can use the `@abstractmethod` decorator. When a subclass inherits from an abstract base class, it must implement all of the abstract methods defined in the base class.\n",
    "\n",
    "It is used when there is no need to point because it has already been established what thing or person is being talked about.\n",
    "\n",
    "#### Example\n",
    "\n",
    "Suppose you want to define a common interface for different types of geometric shapes. You can create an abstract base class `Shape` with abstract methods like `area()` and `perimeter()`. Subclasses like `Circle` and `Rectangle` can then implement these methods to calculate the area and perimeter specific to their shape.\n",
    "\n",
    "---\n",
    "\n",
    "### **Q4. How can we achieve data abstraction?** ###\n",
    "\n",
    "In Python, we can achieve data abstraction through the use of access modifiers and abstract classes.\n",
    "\n",
    "#### Access Modifiers\n",
    "\n",
    "In Python, there are no true access modifiers like public, private, and protected, but we can use naming conventions to indicate the intended visibility of an attribute or method. By convention, attributes or methods that begin with an underscore (`_attribute`) are considered private and should not be accessed directly by users of the class.\n",
    "\n",
    "#### Abstract Classes\n",
    "\n",
    "Python supports abstract classes through the use of the `abc` (abstract base classes) module. An abstract class is a class that cannot be instantiated and is used to define a common interface for its subclasses. To define an abstract method, we can use the `@abstractmethod` decorator. When a subclass inherits from an abstract base class, it must implement all of the abstract methods defined in the base class.\n",
    "\n",
    "#### Example\n",
    "\n",
    "Consider a scenario where you want to create a data structure to represent different types of vehicles. You can define an abstract base class `Vehicle` with abstract methods like `start()`, `stop()`, and `get_speed()`. Subclasses such as `Car`, `Bicycle`, and `Boat` can then implement these methods to provide specific behavior for each type of vehicle.\n",
    "\n",
    "---\n",
    "\n",
    "\n",
    "### **Q5. Can we create an instance of an abstract class? Explain your answer.** ###\n",
    "\n",
    "**No**, we cannot create an instance of an abstract class in Python or any other object-oriented programming language. An abstract class is a class that contains one or more abstract methods, which are methods without any implementation. Abstract classes are meant to be used as base classes for concrete subclasses, and they cannot be instantiated directly.\n",
    "\n",
    "#### Example\n",
    "\n",
    "```python\n",
    "from abc import ABC, abstractmethod\n",
    "\n",
    "class AbstractClass(ABC):\n",
    "    @abstractmethod\n",
    "    def my_method(self):\n",
    "        pass\n",
    "\n",
    "my_instance = AbstractClass()  # This will raise a TypeError since you cannot create an instance of an abstract class.\n"
   ]
  }
 ],
 "metadata": {
  "kernelspec": {
   "display_name": "Python 3 (ipykernel)",
   "language": "python",
   "name": "python3"
  },
  "language_info": {
   "codemirror_mode": {
    "name": "ipython",
    "version": 3
   },
   "file_extension": ".py",
   "mimetype": "text/x-python",
   "name": "python",
   "nbconvert_exporter": "python",
   "pygments_lexer": "ipython3",
   "version": "3.10.8"
  }
 },
 "nbformat": 4,
 "nbformat_minor": 5
}
