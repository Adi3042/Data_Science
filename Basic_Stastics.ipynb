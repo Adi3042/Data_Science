{
 "cells": [
  {
   "cell_type": "code",
   "execution_count": null,
   "id": "06ba231f-9f8a-427a-b785-bcb8b998f21a",
   "metadata": {},
   "outputs": [],
   "source": [
    "Q1. What are the three measures of central tendency?"
   ]
  },
  {
   "cell_type": "code",
   "execution_count": null,
   "id": "a3958381-cbec-442a-aae6-bcbd785f6b40",
   "metadata": {},
   "outputs": [],
   "source": [
    "The three measures of central tendency are:-\n",
    "\n",
    "1. Mean\n",
    "2. Median\n",
    "3. Mode"
   ]
  },
  {
   "cell_type": "code",
   "execution_count": null,
   "id": "327ad955-a562-41c8-b971-fb02602f3d8a",
   "metadata": {},
   "outputs": [],
   "source": [
    "Q2. What is the difference between the mean, median, and mode? How are they used to measure the \n",
    "central tendency of a dataset?"
   ]
  },
  {
   "cell_type": "code",
   "execution_count": null,
   "id": "452dd67f-e9b9-4869-9c8e-f2fcd38e4789",
   "metadata": {},
   "outputs": [],
   "source": [
    "The mean is the average of all the values in a dataset. \n",
    "\n",
    "The median is the middle value when the data is arranged in order. \n",
    "\n",
    "The mode is the value that appears most frequently in the dataset. \n",
    "\n",
    "They are used to describe where the \"center\" of the data is located and provide insight into the \n",
    "typical or most representative value in the dataset."
   ]
  },
  {
   "cell_type": "code",
   "execution_count": null,
   "id": "e1aace12-71f6-4667-adcb-c42d49f486aa",
   "metadata": {},
   "outputs": [],
   "source": [
    "Q3. Measure the three measures of central tendency for the given height data:\n",
    "[178,177,176,177,178.2,178,175,179,180,175,178.9,176.2,177,172.5,178,176.5]"
   ]
  },
  {
   "cell_type": "code",
   "execution_count": null,
   "id": "3401f666-0a01-4d50-8216-91deb446dba1",
   "metadata": {},
   "outputs": [],
   "source": [
    "Mean = (sum of all values) / (number of values) \n",
    "     = (2828.3) / (16) \n",
    "     ≈ 176.769\n",
    "    \n",
    "Median = Middle value when arranged in order\n",
    "       = 177\n",
    "\n",
    "Mode = 178"
   ]
  },
  {
   "cell_type": "code",
   "execution_count": null,
   "id": "21eabdbf-2f2a-4c49-9c88-152bf7e596d0",
   "metadata": {},
   "outputs": [],
   "source": [
    "Q4. Find the standard deviation for the given data:\n",
    "[178,177,176,177,178.2,178,175,179,180,175,178.9,176.2,177,172.5,178,176.5]"
   ]
  },
  {
   "cell_type": "code",
   "execution_count": null,
   "id": "5d85492f-56f9-40d7-9e7f-7bc575d2ed10",
   "metadata": {},
   "outputs": [],
   "source": [
    "Data Value\t         Deviation from Mean\t            Squared Deviation\n",
    "178\t                 178 - 176.769 = 1.231\t            1.513961\n",
    "177\t                 177 - 176.769 = 0.231\t            0.053361\n",
    "176\t                 176 - 176.769 = -0.769\t            0.590881\n",
    "177\t                 177 - 176.769 = 0.231\t            0.053361\n",
    "178.2\t             178.2 - 176.769 = 1.431\t        2.046161\n",
    "178\t                 178 - 176.769 = 1.231\t            1.513961\n",
    "175\t                 175 - 176.769 = -1.769\t            3.132961\n",
    "179\t                 179 - 176.769 = 2.231\t            4.978561\n",
    "180\t                 180 - 176.769 = 3.231\t            10.468961\n",
    "175\t                 175 - 176.769 = -1.769\t            3.132961\n",
    "178.9\t             178.9 - 176.769 = 2.131\t        4.547561\n",
    "176.2\t             176.2 - 176.769 = -0.569\t        0.323761\n",
    "177\t                 177 - 176.769 = 0.231\t            0.053361\n",
    "172.5\t             172.5 - 176.769 = -4.269\t        18.218161\n",
    "178\t                 178 - 176.769 = 1.231\t            1.513961\n",
    "176.5\t             176.5 - 176.769 = -0.269\t        0.072361\n",
    "\n",
    "Sum of Squared Deviations = \n",
    "    1.513961 + 0.053361 + 0.590881 + 0.053361 + 2.046161 + 1.513961 + 3.132961 + 4.978561 \n",
    "    + 10.468961 + 3.132961 + 4.547561 + 0.323761 + 0.053361 + 18.218161 + 1.513961 + 0.072361\n",
    "    ≈ 51.577\n",
    "    \n",
    "Standard Deviation = \n",
    "            √(Sum of Squared Deviations / (Number of Data Points - 1)) \n",
    "            ≈ √(51.577 / 15) \n",
    "            ≈ √3.438 \n",
    "            ≈ 1.850\n",
    "            \n",
    "So, the standard deviation for the given data is approximately 1.850."
   ]
  },
  {
   "cell_type": "code",
   "execution_count": null,
   "id": "26c011c0-9316-4c86-8f15-30f4bf9bbdb9",
   "metadata": {},
   "outputs": [],
   "source": [
    "Q5. How are measures of dispersion such as range, variance, and standard deviation used to describe\n",
    "the spread of a dataset? Provide an example."
   ]
  },
  {
   "cell_type": "code",
   "execution_count": null,
   "id": "74aa1c2a-c9bb-4a24-b573-bd152a6ca258",
   "metadata": {},
   "outputs": [],
   "source": [
    "Range: The difference between the maximum and minimum values.\n",
    "\n",
    "Variance: The average of the squared differences from the mean.\n",
    "\n",
    "Standard Deviation: The square root of the variance.\n",
    "\n",
    "Example: \n",
    "    Consider two datasets - \n",
    "    \n",
    "    Dataset A: \n",
    "        [5, 10, 15, 20, 25] \n",
    "        \n",
    "    Dataset B: \n",
    "        [5, 5, 15, 25, 25]\n",
    "    \n",
    "Both datasets have the same mean (15), but Dataset A has a larger standard deviation (8.66) \n",
    "compared to Dataset B (10). \n",
    "    \n",
    "This indicates that the values in Dataset A are more spread out than in Dataset B."
   ]
  },
  {
   "cell_type": "code",
   "execution_count": null,
   "id": "d4e1b1d7-ac2d-42e2-866b-f9e3340d1fa3",
   "metadata": {},
   "outputs": [],
   "source": [
    "Q6. What is a Venn diagram?"
   ]
  },
  {
   "cell_type": "code",
   "execution_count": null,
   "id": "f7b11c3c-4e9c-4bdc-803d-6de3cc176410",
   "metadata": {},
   "outputs": [],
   "source": [
    "A Venn diagram is a graphical representation of set relationships. \n",
    "It uses overlapping circles to show the commonalities and differences between sets. \n",
    "Each circle represents a set, and the overlapping areas represent the elements that \n",
    "belong to both sets or to their intersection."
   ]
  },
  {
   "cell_type": "code",
   "execution_count": null,
   "id": "f834f041-331b-4cb2-bbe6-838c4fc645f4",
   "metadata": {},
   "outputs": [],
   "source": [
    "Q7. For the two given sets A = (2,3,4,5,6,7) & B = (0,2,6,8,10). Find:\n",
    "(i) A B\n",
    "(ii) A ⋃ B"
   ]
  },
  {
   "cell_type": "code",
   "execution_count": null,
   "id": "9c0da57b-687b-4e47-8273-0745e761998c",
   "metadata": {},
   "outputs": [],
   "source": [
    "(i) A ∩ B = {2, 6}\n",
    "(ii) A ⋃ B = {0, 2, 3, 4, 5, 6, 7, 8, 10}"
   ]
  },
  {
   "cell_type": "code",
   "execution_count": null,
   "id": "04bbe57d-95ad-48e8-ba2d-f9264379bc1e",
   "metadata": {},
   "outputs": [],
   "source": [
    "Q8. What do you understand about skewness in data?"
   ]
  },
  {
   "cell_type": "code",
   "execution_count": null,
   "id": "bc85daeb-6727-43d7-b9d3-1f60146ce768",
   "metadata": {},
   "outputs": [],
   "source": [
    "Skewness in data refers to the asymmetry in the distribution of data points. \n",
    "It indicates whether the data is skewed to one side or the other relative to the mean. \n",
    "\n",
    "Positive skewness means the data is skewed to the right, \n",
    "and negative skewness means the data is skewed to the left."
   ]
  },
  {
   "cell_type": "code",
   "execution_count": null,
   "id": "5047a754-5ce6-4fee-b2f3-1a60d8fd577e",
   "metadata": {},
   "outputs": [],
   "source": [
    "Q9. If a data is right skewed then what will be the position of median with respect to mean?"
   ]
  },
  {
   "cell_type": "code",
   "execution_count": null,
   "id": "3a1e05ad-98b6-40d7-b06a-524cd655e036",
   "metadata": {},
   "outputs": [],
   "source": [
    "In a right-skewed distribution, the median will be less than the mean. This is because the longer \n",
    "tail of the distribution pulls the mean in that direction, making it higher than the median."
   ]
  },
  {
   "cell_type": "code",
   "execution_count": null,
   "id": "c3693edb-3602-4d2b-b49b-cad9089af72f",
   "metadata": {},
   "outputs": [],
   "source": [
    "Q10. Explain the difference between covariance and correlation. How are these measures used in\n",
    "statistical analysis?"
   ]
  },
  {
   "cell_type": "code",
   "execution_count": null,
   "id": "af8d2f8e-1576-436e-8103-17cdc57808a7",
   "metadata": {},
   "outputs": [],
   "source": [
    "Covariance measures the degree to which two variables change together. It indicates the direction \n",
    "of the linear relationship between variables but does not provide a standardized measure. \n",
    "\n",
    "Correlation is a standardized measure that indicates both the strength and direction of the linear \n",
    "relationship between two variables. \n",
    "\n",
    "Covariance and correlation are used in statistical analysis to understand how variables are\n",
    "related and to make predictions or decisions based on their relationships."
   ]
  },
  {
   "cell_type": "code",
   "execution_count": null,
   "id": "bbd86984-a4b6-4d29-9604-213bcfaeaf27",
   "metadata": {},
   "outputs": [],
   "source": [
    "Q11. What is the formula for calculating the sample mean? Provide an example calculation for a\n",
    "dataset."
   ]
  },
  {
   "cell_type": "code",
   "execution_count": null,
   "id": "415af252-907a-4663-80b1-ae025f69fa5c",
   "metadata": {},
   "outputs": [],
   "source": [
    "sample mean (x̄):-\n",
    "    x̄ = (sum of all data points) / (number of data points)\n",
    "\n",
    "Example:\n",
    "    For a dataset [10, 15, 20, 25, 30], the sample mean:\n",
    "    x̄ = (10 + 15 + 20 + 25 + 30) / 5 \n",
    "    x̄ = 20"
   ]
  },
  {
   "cell_type": "code",
   "execution_count": null,
   "id": "55b3739d-6a91-4d3a-bdb8-0bb96c0f3fee",
   "metadata": {},
   "outputs": [],
   "source": [
    "Q12. For a normal distribution data what is the relationship between its measure of central tendency?"
   ]
  },
  {
   "cell_type": "code",
   "execution_count": null,
   "id": "3a7d5ba0-1bbc-4035-a1a4-eaf15dca0144",
   "metadata": {},
   "outputs": [],
   "source": [
    "For a normal distribution, the mean, median, and mode are all located at the same point, which is the center\n",
    "of the distribution."
   ]
  },
  {
   "cell_type": "code",
   "execution_count": null,
   "id": "08fee40e-5d3c-4b19-99f0-8b4f0ca5c84a",
   "metadata": {},
   "outputs": [],
   "source": [
    "Q13. How is covariance different from correlation?"
   ]
  },
  {
   "cell_type": "code",
   "execution_count": null,
   "id": "a1b8ea6d-3715-4f66-b89c-fe299340316c",
   "metadata": {},
   "outputs": [],
   "source": [
    "Covariance measures the extent to which two variables change together, while correlation measures the \n",
    "strength and direction of the linear relationship between two variables, standardized to a range \n",
    "between -1 and 1. "
   ]
  },
  {
   "cell_type": "code",
   "execution_count": null,
   "id": "2aa8d76d-9c25-4072-a281-7b10e1bd1cb6",
   "metadata": {},
   "outputs": [],
   "source": [
    "Q14. How do outliers affect measures of central tendency and dispersion? Provide an example."
   ]
  },
  {
   "cell_type": "code",
   "execution_count": null,
   "id": "85f1bb16-8e42-45ce-8f55-0bc8fd6f807b",
   "metadata": {},
   "outputs": [],
   "source": [
    "Outliers can significantly affect measures of central tendency and dispersion:-\n",
    "\n",
    "    Mean: \n",
    "        Outliers can pull the mean away from the center of the data.\n",
    "        \n",
    "    Median: \n",
    "        Outliers have less impact on the median since it is less sensitive to extreme values.\n",
    "        \n",
    "    Standard Deviation: \n",
    "        Outliers can increase the standard deviation, indicating higher variability.\n",
    "        \n",
    "    Example: \n",
    "        In a dataset [10, 15, 20, 25, 100], \n",
    "        the presence of the outlier 100 will increase the mean, but the median will remain relatively \n",
    "        unaffected, leading to a higher standard deviation."
   ]
  }
 ],
 "metadata": {
  "kernelspec": {
   "display_name": "Python 3 (ipykernel)",
   "language": "python",
   "name": "python3"
  },
  "language_info": {
   "codemirror_mode": {
    "name": "ipython",
    "version": 3
   },
   "file_extension": ".py",
   "mimetype": "text/x-python",
   "name": "python",
   "nbconvert_exporter": "python",
   "pygments_lexer": "ipython3",
   "version": "3.10.8"
  }
 },
 "nbformat": 4,
 "nbformat_minor": 5
}
