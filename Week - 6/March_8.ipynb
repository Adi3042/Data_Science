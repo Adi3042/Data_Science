{
 "cells": [
  {
   "cell_type": "markdown",
   "id": "a5df9cf3-bba9-4f7a-afd7-d4ab82fd6797",
   "metadata": {},
   "source": [
    "<div class=\"alert alert-block alert-info\" align=\"center\" style=\"padding: 10px;\">\n",
    "<h1><b><u>Statistics Advance-1</u></b></h1>\n",
    "</div>\n",
    "\n",
    "### **Q1. What is the Probability Density Function?**\n",
    "\n",
    "The Probability Density Function (PDF) describes the likelihood of a continuous random variable taking on a specific value.\n",
    "\n",
    "It gives the probability that the variable falls within a particular range of values.\n",
    "\n",
    "---\n",
    "### **Q2. What are the types of Probability Distributions?**\n",
    "\n",
    "There are several types of probability distributions. Some of the common ones include:\n",
    "\n",
    "- Uniform Distribution\n",
    "- Normal Distribution\n",
    "- Binomial Distribution\n",
    "- Poisson Distribution\n",
    "- Bernoulli Distribution\n",
    "- Log Normal Distribution\n",
    "\n",
    "---\n",
    "### **Q3. Write a Python function to calculate the probability density function of a normal distribution with a given mean and standard deviation at a given point.**\n",
    "**Suppose we have a normal distribution with a mean (μ) of 50 and a standard deviation (σ) of 10. Calculate the probability density function (PDF) of this distribution at the point x = 60.**"
   ]
  },
  {
   "cell_type": "code",
   "execution_count": 7,
   "id": "81afcdbe-da84-4516-b277-af7f2565e770",
   "metadata": {},
   "outputs": [
    {
     "name": "stdout",
     "output_type": "stream",
     "text": [
      "The PDF at x = 60 is 0.0242\n"
     ]
    }
   ],
   "source": [
    "import numpy as np\n",
    "import scipy.stats as stats\n",
    "\n",
    "def normal_pdf(x, mean, std):\n",
    "    return stats.norm.pdf(x, loc=mean, scale=std)\n",
    "\n",
    "mean = 50\n",
    "std = 10\n",
    "x = 60\n",
    "pdf_value = normal_pdf(x, mean, std)\n",
    "\n",
    "print(f\"The PDF at x = {x} is {pdf_value:.4f}\")"
   ]
  },
  {
   "cell_type": "markdown",
   "id": "927e2f1d-f3c6-4fe2-991c-25ca95ee5ce0",
   "metadata": {},
   "source": [
    "---\n",
    "### **Q4. What are the properties of Binomial distribution? Give two examples of events where binomial distribution can be applied.**\n",
    "\n",
    "**Properties:**\n",
    "- Discrete probability distribution.\n",
    "- Two possible outcomes (success or failure).\n",
    "- Fixed number of trials (n).\n",
    "- Probability of success (p) remains constant.\n",
    "- Trials are independent.\n",
    "\n",
    "**Examples of events where binomial distribution can be applied:**\n",
    "- Tossing a coin.\n",
    "- Pass/Fail outcomes in quality control.\n",
    "\n",
    "---\n",
    "### **Q5. Generate a random sample of size 1000 from a binomial distribution with a probability of success 0.4 and plot a histogram of the results using matplotlib.**"
   ]
  },
  {
   "cell_type": "code",
   "execution_count": 20,
   "id": "42a16234-165b-4ddc-8c1d-92a0c8115686",
   "metadata": {},
   "outputs": [
    {
     "data": {
      "image/png": "[encoded data removed]",
      "text/plain": [
       "<Figure size 640x480 with 1 Axes>"
      ]
     },
     "metadata": {},
     "output_type": "display_data"
    }
   ],
   "source": [
    "import numpy as np\n",
    "import matplotlib.pyplot as plt\n",
    "\n",
    "sample = np.random.binomial(n=1, p=0.4, size=1000)\n",
    "\n",
    "# Plot histogram\n",
    "plt.hist(sample, bins=[-0.5, 0.5, 1.5], rwidth=0.8)\n",
    "plt.title(\"Binomial Distribution\")\n",
    "plt.xlabel(\"Outcome\")\n",
    "plt.ylabel(\"Frequency\")\n",
    "plt.show()"
   ]
  },
  {
   "cell_type": "markdown",
   "id": "14c8bde1-4019-40f1-8a5a-99a6cecf6f39",
   "metadata": {},
   "source": [
    "---\n",
    "### **Q6. Write a Python function to calculate the cumulative distribution function of a Poisson distribution with given mean at a given point.**"
   ]
  },
  {
   "cell_type": "code",
   "execution_count": 21,
   "id": "36c75bce-dc9b-409e-98d6-6f7494420e1b",
   "metadata": {},
   "outputs": [
    {
     "name": "stdout",
     "output_type": "stream",
     "text": [
      "The CDF at x = 2 is 0.4232\n"
     ]
    }
   ],
   "source": [
    "import numpy as np\n",
    "import scipy.stats as stats\n",
    "\n",
    "def poisson_cdf(x, mean):\n",
    "    return stats.poisson.cdf(x, mu=mean)\n",
    "\n",
    "# Example usage\n",
    "mean = 3\n",
    "x_value = 2\n",
    "cdf_value = poisson_cdf(x_value, mean)\n",
    "print(f\"The CDF at x = {x_value} is {cdf_value:.4f}\")"
   ]
  },
  {
   "cell_type": "markdown",
   "id": "7e5d22fe-5f56-49d7-9fe3-6dab9ed0aca7",
   "metadata": {},
   "source": [
    "---\n",
    "### **Q7. How is Binomial distribution different from Poisson distribution?**\n",
    "\n",
    "(i) The Binomial distribution models the number of successes in a fixed number of trials, while the Poisson distribution models the number of events occurring in a fixed interval of time or space.\n",
    "\n",
    "(ii) The Binomial distribution deals with discrete outcomes, while the Poisson distribution deals with countable events that occur in a continuous fashion.\n",
    "\n",
    "---\n",
    "### **Q8. Generate a random sample of size 1000 from a Poisson distribution with mean 5 and calculate the sample mean and variance.**\n"
   ]
  },
  {
   "cell_type": "code",
   "execution_count": 22,
   "id": "affa278c-66e6-4963-b511-1f0dfc5b78c8",
   "metadata": {},
   "outputs": [
    {
     "name": "stdout",
     "output_type": "stream",
     "text": [
      "Sample Mean: 4.9660\n",
      "Sample Variance: 5.0948\n"
     ]
    }
   ],
   "source": [
    "import numpy as np\n",
    "sample = np.random.poisson(lam=5, size=1000)\n",
    "\n",
    "# Calculate sample mean and variance\n",
    "sample_mean = np.mean(sample)\n",
    "sample_variance = np.var(sample)\n",
    "\n",
    "print(f\"Sample Mean: {sample_mean:.4f}\")\n",
    "print(f\"Sample Variance: {sample_variance:.4f}\")"
   ]
  },
  {
   "cell_type": "markdown",
   "id": "b82c9097-dadf-4050-ba6b-7d8f50e4f3f9",
   "metadata": {},
   "source": [
    "---\n",
    "### **Q9. How are mean and variance related in Binomial distribution and Poisson distribution?**\n",
    "\n",
    "**Mean and Variance Relationship in Binomial and Poisson Distributions:**\n",
    "\n",
    "(i) In a Binomial distribution, \n",
    "\n",
    "    mean (μ) = n * p and variance (σ^2) = n * p * (1 - p), where n is the number of trials and p is the probability of success.\n",
    "\n",
    "(ii) In a Poisson distribution, both mean (μ) and variance (σ^2) are equal and are given by \n",
    "\n",
    "    μ = λ and σ^2 = λ, where λ is the average rate of occurrence.\n",
    "\n",
    "### **Q10. In a normal distribution with respect to mean position, where does the least frequent data appear?**\n",
    "\n",
    "In a normal distribution, the least frequent data points occur at the tails, farthest from the mean. These are the extreme values in both the positive and negative directions."
   ]
  }
 ],
 "metadata": {
  "kernelspec": {
   "display_name": "Python 3 (ipykernel)",
   "language": "python",
   "name": "python3"
  },
  "language_info": {
   "codemirror_mode": {
    "name": "ipython",
    "version": 3
   },
   "file_extension": ".py",
   "mimetype": "text/x-python",
   "name": "python",
   "nbconvert_exporter": "python",
   "pygments_lexer": "ipython3",
   "version": "3.10.8"
  }
 },
 "nbformat": 4,
 "nbformat_minor": 5
}
