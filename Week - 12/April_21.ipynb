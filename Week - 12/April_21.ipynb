{
 "cells": [
  {
   "cell_type": "markdown",
   "id": "72729126-91b4-4959-a253-f799808c6646",
   "metadata": {},
   "source": [
    "<div class=\"alert alert-block alert-info\" align=\"center\" style=\"padding: 10px;\">\n",
    "<h1><b><u>K-Nearest Neighbors-2</u></b></h1>\n",
    "</div>"
   ]
  },
  {
   "cell_type": "markdown",
   "id": "8d728d32-8d91-43e7-9f2d-c55e64cdbddd",
   "metadata": {},
   "source": [
    "**Q1. What is the main difference between the Euclidean distance metric and the Manhattan distance metric in KNN? How might this difference affect the performance of a KNN classifier or regressor?**\n",
    "\n",
    "The main difference is how distance is calculated:\n",
    "\n",
    "* Euclidean distance is the straight-line distance.\n",
    "* Manhattan distance is the sum of absolute differences.\n",
    "\n",
    "Euclidean distance is sensitive to magnitude differences, while Manhattan distance is robust. The choice can affect the algorithm's sensitivity to different feature scales.\n",
    "\n",
    "**Q2. How do you choose the optimal value of k for a KNN classifier or regressor? What techniques can be used to determine the optimal k value?**\n",
    "\n",
    "Techniques like cross-validation or grid search can help choose an optimal k value.\n",
    "\n",
    "* Cross-validation assesses performance for different k values on the validation set.\n",
    "* Grid search systematically tests multiple k values.\n",
    "\n",
    "**Q3. How does the choice of distance metric affect the performance of a KNN classifier or regressor? In what situations might you choose one distance metric over the other?**\n",
    "\n",
    "The choice of distance metric impacts how KNN interprets data.\n",
    "\n",
    "* Euclidean suits continuous data, while Manhattan is robust to outliers and works well with categorical data.\n",
    "\n",
    "The choice depends on the nature of the features and the problem.\n",
    "\n",
    "**Q4. What are some common hyperparameters in KNN classifiers and regressors, and how do they affect the performance of the model? How might you go about tuning these hyperparameters to improve model performance?**\n",
    "\n",
    "Common hyperparameters include:\n",
    "\n",
    "* k\n",
    "* Distance metric\n",
    "* Weighting scheme\n",
    "\n",
    "Tuning involves using techniques like cross-validation to assess different hyperparameter combinations and selecting the best-performing set.\n",
    "\n",
    "**Q5. How does the size of the training set affect the performance of a KNN classifier or regressor? What techniques can be used to optimize the size of the training set?**\n",
    "\n",
    "A larger training set can provide better generalization, but it increases computation.\n",
    "\n",
    "Techniques like learning curves can help assess the trade-off and determine the optimal training set size.\n",
    "\n",
    "**Q6. What are some potential drawbacks of using KNN as a classifier or regressor? How might you overcome these drawbacks to improve the performance of the model?**\n",
    "\n",
    "Drawbacks include:\n",
    "\n",
    "* Sensitivity to noisy data\n",
    "* Slow prediction on large datasets\n",
    "* The curse of dimensionality\n",
    "\n",
    "Solutions include:\n",
    "\n",
    "* Data preprocessing\n",
    "* Dimensionality reduction\n",
    "* Efficient data structures (e.g., KD-trees)"
   ]
  },
  {
   "cell_type": "code",
   "execution_count": null,
   "id": "97c6434f-bcf8-4445-9886-c3092569f264",
   "metadata": {},
   "outputs": [],
   "source": []
  }
 ],
 "metadata": {
  "kernelspec": {
   "display_name": "Python 3 (ipykernel)",
   "language": "python",
   "name": "python3"
  },
  "language_info": {
   "codemirror_mode": {
    "name": "ipython",
    "version": 3
   },
   "file_extension": ".py",
   "mimetype": "text/x-python",
   "name": "python",
   "nbconvert_exporter": "python",
   "pygments_lexer": "ipython3",
   "version": "3.10.8"
  }
 },
 "nbformat": 4,
 "nbformat_minor": 5
}
