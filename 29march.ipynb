{
 "cells": [
  {
   "cell_type": "code",
   "execution_count": null,
   "id": "0182ddf4-d88a-4c10-b94e-995813d643f5",
   "metadata": {},
   "outputs": [],
   "source": [
    "Q1. What is Lasso Regression, and how does it differ from other regression techniques?\n",
    "\n",
    "\n",
    "Lasso Regression (Least Absolute Shrinkage and Selection Operator):-\n",
    "    It is a linear regression technique used for both prediction and feature selection. \n",
    "    \n",
    "    It differs from other regression techniques, such as ordinary least squares (OLS) regression and Ridge Regression,\n",
    "    in its regularization method. \n",
    "    \n",
    "    Lasso adds a penalty term to the linear regression objective function, which is the sum of squared residuals.\n",
    "    \n",
    "    This penalty term is proportional to the absolute values of the regression coefficients, causing some coefficients \n",
    "    to become exactly zero. As a result, Lasso performs automatic feature selection by effectively eliminating less \n",
    "    important features from the model"
   ]
  },
  {
   "cell_type": "code",
   "execution_count": null,
   "id": "d84f00af-fbdd-40e7-ad15-f6230b914eb7",
   "metadata": {},
   "outputs": [],
   "source": [
    "Q2. What is the main advantage of using Lasso Regression in feature selection?\n",
    "\n",
    "\n",
    "Main advantage of using Lasso Regression in feature selection:-\n",
    "\n",
    "    (i). Automatic Feature Selection\n",
    "\n",
    "    (ii). Simplifies the Model \n",
    "\n",
    "    (iii). Reduces Overfitting\n",
    "\n",
    "    (iv). Handles Multicollinearity\n",
    "\n",
    "    (v). Improved Model Interpretability\n",
    "\n",
    "    (vi). Enhanced Computational Efficiency \n",
    "\n",
    "    (vii). Customizable Regularization Strength \n",
    "\n",
    "    (viii). Useful for High-Dimensional Data \n",
    "\n",
    "    (ix). Feature Ranking\n",
    "\n",
    "    (x). Robust to Outliers "
   ]
  },
  {
   "cell_type": "code",
   "execution_count": null,
   "id": "75459c3e-7bab-4fa4-b785-0f238d3b6b62",
   "metadata": {},
   "outputs": [],
   "source": [
    "Q3. How do you interpret the coefficients of a Lasso Regression model?\n",
    "\n",
    "\n",
    "\n",
    "Interpretation of the coefficients in a Lasso Regression model:-\n",
    "\n",
    "    (i). Non-Zero Coefficients Signify Importance\n",
    "\n",
    "    (ii). Linear Relationship\n",
    "\n",
    "    (iii). Feature Selection\n",
    "\n",
    "    (iv). Elimination of Irrelevant Features\n",
    "\n",
    "    (v). Enhanced Model Interpretability\n",
    "\n",
    "    (vi). Coefficient Magnitude Indicates Impact\n",
    "\n",
    "    (vii). Sparse Model\n",
    "\n",
    "    (viii). Facilitates Feature Ranking\n",
    "\n",
    "    (ix). Useful for Feature Engineering\n",
    "\n",
    "    (xi). Automatic Variable Importance Assessment\n",
    "    \n",
    "The interpretation of coefficients in Lasso Regression is straightforward: non-zero coefficients indicate the\n",
    "selected and important features, while zero coefficients represent the features that have been effectively\n",
    "removed from the model. \n",
    "This feature selection property makes Lasso Regression particularly useful for building simpler,\n",
    "more interpretable models while improving predictive performance."
   ]
  },
  {
   "cell_type": "code",
   "execution_count": null,
   "id": "bc7444fc-e0d1-4611-b716-0218c9d6f4a8",
   "metadata": {},
   "outputs": [],
   "source": [
    "Q4. What are the tuning parameters that can be adjusted in Lasso Regression, and how do they affect the\n",
    "model's performance?\n",
    "\n",
    "\n",
    "    (i). In Lasso Regression, the primary tuning parameter is the regularization strength, often denoted as lambda (λ).\n",
    "    (ii). Lambda controls the amount of penalty applied to the absolute values of the regression coefficients. \n",
    "    (iii). A larger λ results in more coefficients being pushed to zero, leading to stronger feature selection. \n",
    "    (iv). A smaller λ allows more coefficients to remain non-zero, potentially resulting in a model closer to OLS regression. \n",
    "\n",
    "Choosing the right value of λ is crucial, and it can be determined through techniques like cross-validation."
   ]
  },
  {
   "cell_type": "code",
   "execution_count": null,
   "id": "42741bf4-52c6-4deb-a235-48344f05648e",
   "metadata": {},
   "outputs": [],
   "source": [
    "Q5. Can Lasso Regression be used for non-linear regression problems? If yes, how?\n",
    "\n",
    "\n",
    "Lasso Regression is primarily designed for linear regression problems, which means it models linear relationships between\n",
    "features and the target variable. \n",
    "\n",
    "    However, it can be extended for non-linear regression by first transforming the input features or creating new features\n",
    "    that capture non-linear relationships. \n",
    "    For example,\n",
    "        you can include polynomial features, interaction terms, or apply other non-linear transformations to the input \n",
    "        features to make the problem amenable to Lasso Regression."
   ]
  },
  {
   "cell_type": "code",
   "execution_count": null,
   "id": "6d109d31-00ab-48af-a5b0-f0e0ea771a9c",
   "metadata": {},
   "outputs": [],
   "source": [
    "Q6. What is the difference between Ridge Regression and Lasso Regression?\n",
    "\n",
    "\n",
    "(i). Regularization Types:\n",
    "\n",
    "    Ridge Regression adds a penalty term based on the sum of squared coefficients (L2 regularization).\n",
    "    \n",
    "    Lasso Regression adds a penalty term based on the sum of absolute values of coefficients (L1 regularization).\n",
    "\n",
    "(ii). Coefficient Shrinkage:\n",
    "\n",
    "    Ridge Regression tends to shrink coefficients towards zero, but it rarely makes them exactly zero.\n",
    "    \n",
    "    Lasso Regression can drive some coefficients to exactly zero, effectively performing feature selection.\n",
    "\n",
    "(iii). Feature Selection:\n",
    "\n",
    "    Ridge Regression retains all features but reduces their impact, making it less effective for feature selection.\n",
    "    \n",
    "    Lasso Regression automatically selects a subset of features by setting some coefficients to zero, facilitating feature selection.\n",
    "\n",
    "(iv). Multicollinearity Handling:\n",
    "\n",
    "    Ridge Regression is effective in mitigating multicollinearity by reducing the impact of correlated features.\n",
    "    \n",
    "    Lasso Regression not only reduces multicollinearity but also performs feature selection by eliminating some correlated features.\n",
    "\n",
    "(v). Complexity vs. Sparsity:\n",
    "\n",
    "    Ridge Regression typically results in a model with non-zero coefficients for all features, preserving model complexity.\n",
    "    \n",
    "    Lasso Regression often leads to a sparse model with only a subset of non-zero coefficients, promoting model simplicity."
   ]
  },
  {
   "cell_type": "code",
   "execution_count": null,
   "id": "2556fe34-e4aa-4dc2-83c4-c8d1de544fe0",
   "metadata": {},
   "outputs": [],
   "source": [
    "Q7. Can Lasso Regression handle multicollinearity in the input features? If yes, how?\n",
    "\n",
    "\n",
    "    Yes, Lasso Regression can handle multicollinearity in input features to some extent. \n",
    "    Lassos feature selection property helps mitigate multicollinearity by automatically selecting one of the correlated features\n",
    "    while setting others to zero. This simplifies the model and reduces multicollinearitys impact.\n",
    "\n",
    "    However, it is essential to note that Lasso may not completely eliminate multicollinearity but can address\n",
    "    it partially by selecting the most relevant features."
   ]
  },
  {
   "cell_type": "code",
   "execution_count": null,
   "id": "0cc39b18-1c02-438d-a741-222922c73ff8",
   "metadata": {},
   "outputs": [],
   "source": [
    "Q8. How do you choose the optimal value of the regularization parameter (lambda) in Lasso Regression?"
   ]
  },
  {
   "cell_type": "code",
   "execution_count": null,
   "id": "2374b2b1-d73f-4c99-baad-4dd06e066431",
   "metadata": {},
   "outputs": [],
   "source": [
    "We can use techniques like grid search or randomized search to efficiently explore a range of λ values.\n",
    "The goal is to find the λ that balances model complexity (number of non-zero coefficients) and predictive accuracy,\n",
    "which is typically determined by minimizing the validation set's error."
   ]
  }
 ],
 "metadata": {
  "kernelspec": {
   "display_name": "Python 3 (ipykernel)",
   "language": "python",
   "name": "python3"
  },
  "language_info": {
   "codemirror_mode": {
    "name": "ipython",
    "version": 3
   },
   "file_extension": ".py",
   "mimetype": "text/x-python",
   "name": "python",
   "nbconvert_exporter": "python",
   "pygments_lexer": "ipython3",
   "version": "3.10.8"
  }
 },
 "nbformat": 4,
 "nbformat_minor": 5
}
