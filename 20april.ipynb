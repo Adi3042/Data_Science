{
 "cells": [
  {
   "cell_type": "markdown",
   "id": "27443c18-0c30-4213-bd46-8624008263c2",
   "metadata": {},
   "source": [
    "<div class=\"alert alert-block alert-info\" align=\"center\" style=\"padding: 10px;\">\n",
    "<h1><b><u>K-Nearest Neighbors-1</u></b></h1>\n",
    "</div>"
   ]
  },
  {
   "cell_type": "markdown",
   "id": "514d3f13-ee4b-4d08-a50e-63b35ee4fe8a",
   "metadata": {},
   "source": [
    "**Q1. What is the KNN algorithm?**\n",
    "\n",
    "KNN, or k-Nearest Neighbors, is a supervised machine learning algorithm used for classification and regression tasks. It works by finding the k nearest data points in the training dataset to a given test data point and making predictions based on the majority class or the average of the nearest neighbors values.\n",
    "\n",
    "**Q2. How do you choose the value of K in KNN?**\n",
    "\n",
    "The value of K is typically chosen through techniques like cross-validation. Smaller values of K can be sensitive to noise, while larger values can smooth out decision boundaries. It's important to experiment and choose K based on the specific problem.\n",
    "\n",
    "**Q3. What is the difference between KNN classifier and KNN regressor?**\n",
    "\n",
    "KNN classifier is used for classification tasks, predicting the class label of a data point. KNN regressor is used for regression tasks, predicting a continuous value (e.g., a numerical quantity) based on the nearest neighbors.\n",
    "\n",
    "**Q4. How do you measure the performance of KNN?**\n",
    "\n",
    "Common performance metrics include accuracy, precision, recall, F1-score, mean squared error, and R-squared, depending on whether it's a classification or regression task.\n",
    "\n",
    "**Q5. What is the curse of dimensionality in KNN?**\n",
    "\n",
    "The curse of dimensionality refers to the challenge of KNN in high-dimensional spaces. As the number of dimensions increases, the density of data points decreases, making it difficult to find meaningful nearest neighbors.\n",
    "\n",
    "**Q6. How do you handle missing values in KNN?**\n",
    "\n",
    "Missing values can be handled by either imputing them with a reasonable value or using specialized distance metrics that account for missing values.\n",
    "\n",
    "**Q7. Compare and contrast the performance of the KNN classifier and regressor. Which one is better for which type of problem?**\n",
    "\n",
    "KNN classifier is suitable for problems where the output is categorical (classification), while KNN regressor is used for problems with continuous numerical output (regression).\n",
    "\n",
    "**Q8. What are the strengths and weaknesses of the KNN algorithm for classification and regression tasks, and how can these be addressed?**\n",
    "\n",
    "**Strengths:**\n",
    "\n",
    "* Simple\n",
    "* Easy to understand\n",
    "* No training required\n",
    "\n",
    "**Weaknesses:**\n",
    "\n",
    "* Sensitive to the choice of K\n",
    "* Computationally expensive for large datasets\n",
    "\n",
    "**Techniques to address the weaknesses of KNN:**\n",
    "\n",
    "* Cross-validation for choosing K\n",
    "* Dimensionality reduction for reducing the number of features\n",
    "* Imputation for handling missing values\n",
    "\n",
    "**Q9. What is the difference between Euclidean distance and Manhattan distance in KNN?**\n",
    "\n",
    "Euclidean distance is the straight-line distance between two points, while Manhattan distance is the sum of the absolute differences between their coordinates. They represent different ways of measuring distance.\n",
    "\n",
    "**Q10. What is the role of feature scaling in KNN?**\n",
    "\n",
    "Feature scaling ensures that all features contribute equally to distance calculations. It's important in KNN to prevent one feature from dominating the distance calculation. Common scaling methods include min-max scaling and z-score scaling.\n"
   ]
  }
 ],
 "metadata": {
  "kernelspec": {
   "display_name": "Python 3 (ipykernel)",
   "language": "python",
   "name": "python3"
  },
  "language_info": {
   "codemirror_mode": {
    "name": "ipython",
    "version": 3
   },
   "file_extension": ".py",
   "mimetype": "text/x-python",
   "name": "python",
   "nbconvert_exporter": "python",
   "pygments_lexer": "ipython3",
   "version": "3.10.8"
  }
 },
 "nbformat": 4,
 "nbformat_minor": 5
}
