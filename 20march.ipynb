{
 "cells": [
  {
   "cell_type": "code",
   "execution_count": null,
   "id": "0bf516a2-886f-410d-bd01-191db45a231e",
   "metadata": {},
   "outputs": [],
   "source": [
    "Q1. What is data encoding? How is it useful in data science?\n",
    "\n",
    "\n",
    "    Data encoding, refers to the process of converting categorical data into a numerical format. \n",
    "    This conversion is essential because many machine learning algorithms require numerical input.\n",
    "\n",
    "    Data encoding is useful in data science for the following reasons:-\n",
    "        (i). Algorithm Compatibility\n",
    "        (ii). Feature Engineering\n",
    "        (iii). Improved Model Performance"
   ]
  },
  {
   "cell_type": "code",
   "execution_count": null,
   "id": "d08ceb4e-3e49-4070-ac5c-c76e0b7484c3",
   "metadata": {},
   "outputs": [],
   "source": [
    "Q2. What is nominal encoding? Provide an example of how you would use it in a real-world scenario.\n",
    "\n",
    "\n",
    "    Nominal encoding, also known as label encoding, assigns a unique integer to each category in a categorical \n",
    "    feature. This encoding technique is suitable for nominal categorical data, where there is no inherent order or \n",
    "    ranking among the categories."
   ]
  },
  {
   "cell_type": "code",
   "execution_count": 2,
   "id": "152d68e0-4849-48d3-b6f7-e747b130e714",
   "metadata": {},
   "outputs": [],
   "source": [
    "import pandas as pd\n",
    "\n",
    "data = {'fruit': ['apple', 'banana', 'apple', 'orange', 'banana']}\n",
    "df = pd.DataFrame(data)\n",
    "\n",
    "# label encoding\n",
    "from sklearn.preprocessing import LabelEncoder\n",
    "label_encoder = LabelEncoder()\n",
    "df['fruit_encoded'] = label_encoder.fit_transform(df['fruit'])"
   ]
  },
  {
   "cell_type": "code",
   "execution_count": null,
   "id": "31b89654-6ad6-450a-8c24-2a581f292f6f",
   "metadata": {},
   "outputs": [],
   "source": [
    "Q3. In what situations is nominal encoding preferred over one-hot encoding? Provide a practical example.\n",
    "\n",
    "\n",
    "    Nominal encoding (label encoding) is preferred over one-hot encoding in situations where there is no inherent order\n",
    "    or ranking among the categories in a categorical feature. It is suitable for nominal categorical data.\n",
    "    Example:-"
   ]
  },
  {
   "cell_type": "code",
   "execution_count": 1,
   "id": "af13cabd-77a6-4f2c-9127-5f2b547063c7",
   "metadata": {},
   "outputs": [],
   "source": [
    "import pandas as pd\n",
    "from sklearn.preprocessing import LabelEncoder\n",
    "\n",
    "data = {'day_of_week': ['Monday', 'Tuesday', 'Wednesday', 'Thursday', 'Friday']}\n",
    "df = pd.DataFrame(data)\n",
    "\n",
    "# label encoding\n",
    "label_encoder = LabelEncoder()\n",
    "df['day_encoded'] = label_encoder.fit_transform(df['day_of_week'])"
   ]
  },
  {
   "cell_type": "code",
   "execution_count": null,
   "id": "26ccf6dd-c4b1-4191-9f77-920d3b90839a",
   "metadata": {},
   "outputs": [],
   "source": [
    "Q4. Suppose you have a dataset containing categorical data with 5 unique values. Which encoding\n",
    "technique would you use to transform this data into a format suitable for machine learning algorithms?\n",
    "Explain why you made this choice.\n",
    "\n",
    "\n",
    "    If you have a category that can take on 5 different values, you can use label encoding to make it work\n",
    "    for machine learning. Label encoding gives each value a unique number, which is handy for small categories.\n",
    "    It is a simpler and more efficient choice than one-hot encoding, which can make lots of new columns when you\n",
    "    have many categories."
   ]
  },
  {
   "cell_type": "code",
   "execution_count": null,
   "id": "c3a19aa3-a452-44ed-8281-fe914e630c6c",
   "metadata": {},
   "outputs": [],
   "source": [
    "Q5. In a machine learning project, you have a dataset with 1000 rows and 5 columns. Two of the columns\n",
    "are categorical, and the remaining three columns are numerical. If you were to use nominal encoding to\n",
    "transform the categorical data, how many new columns would be created? Show your calculations.\n",
    "\n",
    "\n",
    "When using nominal encoding (label encoding) for categorical data, each unique category is replaced by a unique integer.\n",
    "Therefore, for each categorical column, one new column is created to store these encoded values.\n",
    "\n",
    "In our scenario, we have 2 categorical columns, so using nominal encoding will create 2 new columns to store the encoded values."
   ]
  },
  {
   "cell_type": "code",
   "execution_count": null,
   "id": "44deb52d-0a1a-42c9-8d85-d3b53bbd87b1",
   "metadata": {},
   "outputs": [],
   "source": [
    "Q6. You are working with a dataset containing information about different types of animals, including their\n",
    "species, habitat, and diet. Which encoding technique would you use to transform the categorical data into\n",
    "a format suitable for machine learning algorithms? Justify your answer.\n",
    "\n",
    "\n",
    "The choice of encoding technique depends on the nature of the categorical data:-\n",
    "    Species:-\n",
    "        If \"species\" is a nominal categorical feature with distinct categories that have no natural order or ranking,\n",
    "        we can use nominal encoding to assign a unique integer to each species.\n",
    "\n",
    "    Habitat:-\n",
    "        If \"habitat\" represents different types of environments where animals live and there is no inherent order \n",
    "        among them nominal encoding is appropriate.\n",
    "\n",
    "    Diet:-\n",
    "        If \"diet\" represents different types of diets and there is no inherent order, you can use nominal encoding.\n",
    "\n",
    "In this case, all three categorical features appear to be nominal, so nominal encoding is justified for all of them."
   ]
  },
  {
   "cell_type": "code",
   "execution_count": null,
   "id": "5ad1e550-18e7-4dec-b2b6-78f89c49bddf",
   "metadata": {},
   "outputs": [],
   "source": [
    "Q7.You are working on a project that involves predicting customer churn for a telecommunications company. \n",
    "You have a dataset with 5 features, including the customer's gender, age, contract type, monthly charges, and tenure. \n",
    "Which encoding technique(s) would you use to transform the categorical data into numerical data? Provide a step-by-step\n",
    "explanation of how you would implement the encoding. \n",
    "\n",
    "\n",
    "In this scenario, we have a mix of categorical and numerical features.\n",
    "\n",
    "    Gender -> Categorical\n",
    "    Contract Type -> Categorical\n",
    "    Age, Monthly Charges, and Tenure -> Numerical\n",
    "    \n",
    "Since \"gender\" is a binary categorical feature, \"Contract type\" is likely to have multiple categories and\n",
    "Age, Monthly Charges, and Tenure features are already numerical, so no additional encoding is needed."
   ]
  },
  {
   "cell_type": "code",
   "execution_count": 3,
   "id": "403b361a-c498-4691-b491-9290d77c5626",
   "metadata": {},
   "outputs": [
    {
     "name": "stdout",
     "output_type": "stream",
     "text": [
      "   age  monthly_charges  tenure  is_male  is_month-to-month  is_one year  \\\n",
      "0   30             50.0      12        1                  1            0   \n",
      "1   25             60.0      24        0                  0            1   \n",
      "2   35             70.0      36        1                  0            0   \n",
      "3   40             55.0      48        0                  0            1   \n",
      "4   28             75.0      60        1                  1            0   \n",
      "\n",
      "   is_two years  \n",
      "0             0  \n",
      "1             0  \n",
      "2             1  \n",
      "3             0  \n",
      "4             0  \n"
     ]
    }
   ],
   "source": [
    "import pandas as pd\n",
    "\n",
    "# Sample dataset\n",
    "data = {\n",
    "    'gender': ['Male', 'Female', 'Male', 'Female', 'Male'],\n",
    "    'contract_type': ['month-to-month', 'one year', 'two years', 'one year', 'month-to-month'],\n",
    "    'age': [30, 25, 35, 40, 28],\n",
    "    'monthly_charges': [50.0, 60.0, 70.0, 55.0, 75.0],\n",
    "    'tenure': [12, 24, 36, 48, 60]\n",
    "}\n",
    "\n",
    "df = pd.DataFrame(data)\n",
    "\n",
    "# Binary encoding for 'gender'\n",
    "df['is_male'] = df['gender'].map({'Male': 1, 'Female': 0})\n",
    "\n",
    "# One-hot encoding for 'contract_type'\n",
    "df = pd.get_dummies(df, columns=['contract_type'], prefix='is')\n",
    "\n",
    "# Drop the original 'gender' and 'contract_type' columns if needed\n",
    "df = df.drop(['gender'], axis=1)\n",
    "\n",
    "# Now, you have a dataset with all numerical features\n",
    "print(df)\n"
   ]
  },
  {
   "cell_type": "code",
   "execution_count": null,
   "id": "1cc135aa-58f5-437f-90c9-22c836afc825",
   "metadata": {},
   "outputs": [],
   "source": []
  }
 ],
 "metadata": {
  "kernelspec": {
   "display_name": "Python 3 (ipykernel)",
   "language": "python",
   "name": "python3"
  },
  "language_info": {
   "codemirror_mode": {
    "name": "ipython",
    "version": 3
   },
   "file_extension": ".py",
   "mimetype": "text/x-python",
   "name": "python",
   "nbconvert_exporter": "python",
   "pygments_lexer": "ipython3",
   "version": "3.10.8"
  }
 },
 "nbformat": 4,
 "nbformat_minor": 5
}
