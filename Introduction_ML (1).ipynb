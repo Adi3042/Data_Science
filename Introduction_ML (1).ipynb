{
 "cells": [
  {
   "cell_type": "code",
   "execution_count": null,
   "id": "27ff5f11-95a4-41b3-9b1d-04e83a950205",
   "metadata": {},
   "outputs": [],
   "source": [
    "Q1: Define overfitting and underfitting in machine learning. What are the consequences of each, and how can\n",
    "they be mitigated?"
   ]
  },
  {
   "cell_type": "code",
   "execution_count": null,
   "id": "3054927b-8930-4006-94e2-db930c3b9b4d",
   "metadata": {},
   "outputs": [],
   "source": [
    "Overfitting:\n",
    "    Definition: \n",
    "        Model fits training data too closely, capturing noise and leading to poor generalization.\n",
    "    Consequences: \n",
    "        Poor performance on new data, high variance, unreliable predictions.\n",
    "    Mitigation: \n",
    "        More data, feature selection/engineering, regularization, cross-validation, ensemble methods, early \n",
    "        stopping, reducing model complexity.\n",
    "\n",
    "Underfitting:\n",
    "    Definition: \n",
    "        Model is too simple to capture underlying patterns, performs poorly on both training and new data.\n",
    "    Consequences: \n",
    "        Poor performance, low variance, misses important patterns.\n",
    "    Mitigation: \n",
    "        Feature engineering, increasing model complexity, hyperparameter tuning, collecting more data, ensemble \n",
    "        methods, feature transformation."
   ]
  },
  {
   "cell_type": "code",
   "execution_count": null,
   "id": "c667446c-05fb-4d79-ad3b-ee853d4a1f91",
   "metadata": {},
   "outputs": [],
   "source": [
    "Q2: How can we reduce overfitting? Explain in brief."
   ]
  },
  {
   "cell_type": "code",
   "execution_count": null,
   "id": "0459919f-9b73-43d0-b9ba-b78c42d74f99",
   "metadata": {},
   "outputs": [],
   "source": [
    "To reduce overfitting:\n",
    "\n",
    "1. Use more data to provide diversity and reduce noise impact.\n",
    "2. Select meaningful features and engineer new ones.\n",
    "3. Apply regularization (L1/L2) to discourage complex model behavior.\n",
    "4. Employ cross-validation to monitor and choose the best model.\n",
    "5. Combine predictions with ensemble methods."
   ]
  },
  {
   "cell_type": "code",
   "execution_count": null,
   "id": "6280b712-7518-49cc-9b8a-f81305b92954",
   "metadata": {},
   "outputs": [],
   "source": [
    "Q3: Explain underfitting. List scenarios where underfitting can occur in ML."
   ]
  },
  {
   "cell_type": "code",
   "execution_count": null,
   "id": "7d4a9001-7f51-4126-bd63-6b843d77cefb",
   "metadata": {},
   "outputs": [],
   "source": [
    "Underfitting is a concept that the model is unable to learn the relationships between the input features and \n",
    "the target variable, resulting in poor performance on both the training and validation datasets.\n",
    "\n",
    "Scenarios where underfitting can occur in ML:-\n",
    "\n",
    "    High Regularization: \n",
    "        Overly aggressive regularization techniques, such as strong L1 or L2 regularization, can lead to \n",
    "        underfitting by suppressing the models ability to fit the training data.\n",
    "    \n",
    "    Limited Training Data: \n",
    "        When the available training data is too limited, the model may not have enough examples to learn from,\n",
    "        leading to poor generalization.\n",
    "    \n",
    "    Early Stopping: \n",
    "        Stopping the training process too early, before the model has fully converged, can result in underfitting."
   ]
  },
  {
   "cell_type": "code",
   "execution_count": null,
   "id": "aa77732e-3e88-4616-b1ca-d899c6885442",
   "metadata": {},
   "outputs": [],
   "source": [
    "Q4: Explain the bias-variance tradeoff in machine learning. What is the relationship between bias and variance, \n",
    "and how do they affect model performance?"
   ]
  },
  {
   "cell_type": "code",
   "execution_count": null,
   "id": "00169b9a-5903-49a1-a11a-5c0b9d958946",
   "metadata": {},
   "outputs": [],
   "source": [
    "The bias-variance tradeoff is a fundamental concept in machine learning that refers to the balance between two \n",
    "sources of error that affect a models performance: bias and variance.\n",
    "\n",
    "Bias: \n",
    "    Bias is the error introduced by approximating a real-world problem, which may be complex, by a simplified model. \n",
    "    \n",
    "Variance: \n",
    "    Variance is the error introduced due to the models sensitivity to small fluctuations in the training data.\n",
    "    \n",
    "There is an inverse relationship between bias and variance. As you reduce bias variance tends to increase, and vice \n",
    "versa. \n",
    "The goal is to find the right balance that minimizes the overall error on both the training and test data."
   ]
  },
  {
   "cell_type": "code",
   "execution_count": null,
   "id": "216347fc-52aa-4177-bb39-82af88e4cdb1",
   "metadata": {},
   "outputs": [],
   "source": [
    "Q5: Discuss some common methods for detecting overfitting and underfitting in machine learning models. How can you \n",
    "determine whether your model \n",
    "is overfitting or underfitting?"
   ]
  },
  {
   "cell_type": "code",
   "execution_count": null,
   "id": "65b38aea-526d-48de-88aa-5b008f1b3541",
   "metadata": {},
   "outputs": [],
   "source": [
    "Common methods for detecting overfitting and underfitting include:-\n",
    "\n",
    "Visual Inspection: \n",
    "    Plotting the models learning curves for both the training and validation/test data can help identify overfitting\n",
    "    or underfitting.\n",
    "\n",
    "Cross-Validation: \n",
    "    Cross-validation involves dividing the dataset into multiple subsets for training and validation. \n",
    "    If the model performs well on one subset but poorly on others, it might be overfitting.\n",
    "\n",
    "Holdout Validation: \n",
    "    Splitting the data into a training set and a separate validation/test set allows you to evaluate the models performance\n",
    "    on unseen data."
   ]
  },
  {
   "cell_type": "code",
   "execution_count": null,
   "id": "c3c28104-3db8-4fc9-a8cc-3a5b9d80e4b5",
   "metadata": {},
   "outputs": [],
   "source": [
    "Q6: Compare and contrast bias and variance in machine learning. What are some examples of high bias and high variance models, \n",
    "and how do they differ in terms of their performance?"
   ]
  },
  {
   "cell_type": "code",
   "execution_count": null,
   "id": "bfd34498-2fbf-45c5-9ea3-4c4a1247c140",
   "metadata": {},
   "outputs": [],
   "source": [
    "High Bias Model: \n",
    "    A high bias model is too simplistic to capture the underlying patterns in the data. \n",
    "    It performs poorly on both training and test data due to its inability to learn complex relationships.\n",
    "\n",
    "High Variance Model: \n",
    "    A high variance model fits the training data very closely, including noise, but fails to generalize to new data. \n",
    "    It has low training error but high test error.\n",
    "\n",
    "Example: \n",
    "    For a regression problem predicting housing prices, a high bias model might use only a single variable \n",
    "    (e.g., square footage), resulting in poor predictions. A high variance model might use a large number of features,\n",
    "    including irrelevant ones, leading to highly variable predictions that don not generalize well."
   ]
  },
  {
   "cell_type": "code",
   "execution_count": null,
   "id": "5f78e898-4b74-41df-93ba-aff704a386fa",
   "metadata": {},
   "outputs": [],
   "source": [
    "Q7: What is regularization in machine learning, and how can it be used to prevent overfitting? Describe some common \n",
    "regularization techniques and how they work."
   ]
  },
  {
   "cell_type": "code",
   "execution_count": null,
   "id": "a06cfca9-2aa3-4296-9d73-8183c2465823",
   "metadata": {},
   "outputs": [],
   "source": [
    "Regularization is a technique used to prevent overfitting by adding a penalty term to the loss function during training.\n",
    "\n",
    "Common regularization techniques include:\n",
    "\n",
    "    L1 Regularization (Lasso): \n",
    "        Adds the absolute values of the models coefficients to the loss function. It encourages sparsity in the model, \n",
    "        leading to feature selection.\n",
    "\n",
    "    L2 Regularization (Ridge): \n",
    "        Adds the squared values of the models coefficients to the loss function. It discourages large coefficients and is \n",
    "        effective at reducing multicollinearity.\n",
    "\n",
    "    Elastic Net Regularization: \n",
    "        Combines L1 and L2 regularization, providing a balance between feature selection and coefficient size control.\n",
    "        \n",
    "Regularization helps to shrink the models parameters, making them less sensitive to the noise in the data. \n",
    "It encourages the model to generalize better to unseen data by reducing overfitting."
   ]
  }
 ],
 "metadata": {
  "kernelspec": {
   "display_name": "Python 3 (ipykernel)",
   "language": "python",
   "name": "python3"
  },
  "language_info": {
   "codemirror_mode": {
    "name": "ipython",
    "version": 3
   },
   "file_extension": ".py",
   "mimetype": "text/x-python",
   "name": "python",
   "nbconvert_exporter": "python",
   "pygments_lexer": "ipython3",
   "version": "3.10.8"
  }
 },
 "nbformat": 4,
 "nbformat_minor": 5
}
