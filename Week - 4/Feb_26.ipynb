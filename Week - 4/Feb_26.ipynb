{
 "cells": [
  {
   "cell_type": "markdown",
   "id": "5f4094d7-0822-42ca-8daf-2d1d66efe67e",
   "metadata": {},
   "source": [
    "<div class=\"alert alert-block alert-info\" align=\"center\" style=\"padding: 10px;\">\n",
    "<h1><b><u>Basic Numpy</u></b></h1>\n",
    "</div>"
   ]
  },
  {
   "cell_type": "markdown",
   "id": "8b5081e5-921b-44e1-b068-c1bf4b8603c9",
   "metadata": {},
   "source": [
    "#### **Consider the below code to answer further questions:** ####\n",
    "\n",
    "```python\n",
    "import numpy as np\n",
    "list_ = ['1', '2', '3', '4', '5']\n",
    "array_list = np.array(object=list_)\n",
    "```\n",
    "\n",
    "---\n",
    "#### **Q1. Is there any difference in the data type of variables list_ and array_list? If there is, then write code to print the data types of both the variables.** ####\n",
    "\n",
    "Yes, there is a difference in the data type of the `list_` and `array_list` variables."
   ]
  },
  {
   "cell_type": "code",
   "execution_count": 1,
   "id": "ca2df240-a849-400e-8321-93a3bee2a540",
   "metadata": {},
   "outputs": [
    {
     "name": "stdout",
     "output_type": "stream",
     "text": [
      "Data type of list_: <class 'list'>\n",
      "Data type of array_list: <class 'numpy.ndarray'>\n"
     ]
    }
   ],
   "source": [
    "import numpy as np\n",
    "\n",
    "list_ = ['1', '2', '3', '4', '5']\n",
    "array_list = np.array(object=list_)\n",
    "\n",
    "print(\"Data type of list_:\", type(list_))\n",
    "print(\"Data type of array_list:\", type(array_list))"
   ]
  },
  {
   "cell_type": "markdown",
   "id": "96100e1e-fe0f-4051-b31b-7f19cfe521d0",
   "metadata": {},
   "source": [
    "---\n",
    "#### **Q2. Write a code to print the data type of each and every element of both the variables list_ and arra_list.** ####"
   ]
  },
  {
   "cell_type": "code",
   "execution_count": 4,
   "id": "ed5b193f-823c-4c32-88a7-81edcb513eac",
   "metadata": {},
   "outputs": [
    {
     "name": "stdout",
     "output_type": "stream",
     "text": [
      "Data types of elements in list_:\n",
      "<class 'str'>\n",
      "<class 'str'>\n",
      "<class 'str'>\n",
      "<class 'str'>\n",
      "<class 'str'>\n",
      "\n",
      "Data types of elements in array_list:\n",
      "<class 'numpy.str_'>\n",
      "<class 'numpy.str_'>\n",
      "<class 'numpy.str_'>\n",
      "<class 'numpy.str_'>\n",
      "<class 'numpy.str_'>\n"
     ]
    }
   ],
   "source": [
    "import numpy as np\n",
    "\n",
    "list_ = ['1', '2', '3', '4', '5']\n",
    "array_list = np.array(object=list_)\n",
    "\n",
    "# Data types of elements in list_\n",
    "print(\"Data types of elements in list_:\")\n",
    "for i in list_:\n",
    "    print(type(i))\n",
    "\n",
    "# Data types of elements in array_list\n",
    "print(\"\\nData types of elements in array_list:\")\n",
    "for i in array_list:\n",
    "    print(type(i))"
   ]
  },
  {
   "cell_type": "markdown",
   "id": "0770e69e-e03b-41d8-bdc1-a56b38607138",
   "metadata": {},
   "source": [
    "---\n",
    "#### **Q3. Considering the following changes in the variable, array_list:** ####\n",
    "\n",
    "```python\n",
    "array_list = np.array(object=list_, dtype=int)\n",
    "```\n",
    "\n",
    "*Will there be any difference in the data type of the elements present in both the variables, `list_` and `array_list`? If so, then print the data types of each and every element present in both the variables, `list_` and `array_list`.*\n",
    "\n",
    "**Answer:** Yes, there will be a difference in the data type of the elements present in the variables list_ and  array_list after specifying the dtype parameter as int.**\n",
    "\n",
    "---\n",
    "---"
   ]
  },
  {
   "cell_type": "markdown",
   "id": "c216c048-eebb-4116-8bd9-28b66ab613f6",
   "metadata": {},
   "source": [
    "#### **Consider the below code to answer further questions:** ####\n",
    "```python\n",
    "import numpy as np\n",
    "num_list = [ [ 1 , 2 , 3 ] , [ 4 , 5 , 6 ] ]\n",
    "num_array = np.array(object = num_list)\n",
    "```\n",
    "---\n",
    "#### **Q4. Write a code to find the following characteristics of variable, num_array:** ####\n",
    "    \n",
    "- shape\n",
    "- size"
   ]
  },
  {
   "cell_type": "code",
   "execution_count": 5,
   "id": "8996e46b-3050-4905-a073-5bd20b657f6b",
   "metadata": {},
   "outputs": [
    {
     "name": "stdout",
     "output_type": "stream",
     "text": [
      "Shape of num_array: (2, 3)\n",
      "Size of num_array: 6\n"
     ]
    }
   ],
   "source": [
    "import numpy as np\n",
    "\n",
    "num_list = [[1, 2, 3], [4, 5, 6]]\n",
    "num_array = np.array(object=num_list)\n",
    "\n",
    "# (i) shape of num_array\n",
    "shape = num_array.shape\n",
    "\n",
    "# (ii) size of num_array\n",
    "size = num_array.size\n",
    "\n",
    "print(\"Shape of num_array:\", shape)\n",
    "print(\"Size of num_array:\", size)"
   ]
  },
  {
   "cell_type": "markdown",
   "id": "4813e364-fcf6-4d30-bc70-f26764bba89a",
   "metadata": {},
   "source": [
    "---\n",
    "#### **Q5. Write a code to create numpy array of 3*3 matrix containing zeros only, using a numpy array creation function.** ####"
   ]
  },
  {
   "cell_type": "code",
   "execution_count": 5,
   "id": "20e9a303-fb8e-4499-9e0d-c7fb05e13a68",
   "metadata": {},
   "outputs": [
    {
     "name": "stdout",
     "output_type": "stream",
     "text": [
      "Shape of zeros_array: (3, 3)\n",
      "Size of zeros_array: 9\n"
     ]
    }
   ],
   "source": [
    "import numpy as np\n",
    "\n",
    "# Create a 3x3 NumPy array with zeros\n",
    "zeros_array = np.zeros((3, 3))\n",
    "\n",
    "print(\"Shape of zeros_array:\", zeros_array.shape)\n",
    "print(\"Size of zeros_array:\", zeros_array.size)"
   ]
  },
  {
   "cell_type": "markdown",
   "id": "efb242e2-1f7f-4bc7-bf7a-f294bd1a6132",
   "metadata": {},
   "source": [
    "---\n",
    "#### **Q6. Create an identity matrix of shape (5,5) using numpy functions?** ####"
   ]
  },
  {
   "cell_type": "code",
   "execution_count": 6,
   "id": "76b703ae-5eea-4644-a732-5a45bcb7e50c",
   "metadata": {},
   "outputs": [
    {
     "name": "stdout",
     "output_type": "stream",
     "text": [
      "[[1. 0. 0. 0. 0.]\n",
      " [0. 1. 0. 0. 0.]\n",
      " [0. 0. 1. 0. 0.]\n",
      " [0. 0. 0. 1. 0.]\n",
      " [0. 0. 0. 0. 1.]]\n",
      "Shape of zeros_array: (5, 5)\n",
      "Size of zeros_array: 25\n"
     ]
    }
   ],
   "source": [
    "import numpy as np\n",
    "\n",
    "# Create a 5x5 NumPy array with zeros\n",
    "zeros_array = np.eye(5)\n",
    "print(zeros_array)\n",
    "print(\"Shape of zeros_array:\", zeros_array.shape)\n",
    "print(\"Size of zeros_array:\", zeros_array.size)"
   ]
  }
 ],
 "metadata": {
  "kernelspec": {
   "display_name": "Python 3 (ipykernel)",
   "language": "python",
   "name": "python3"
  },
  "language_info": {
   "codemirror_mode": {
    "name": "ipython",
    "version": 3
   },
   "file_extension": ".py",
   "mimetype": "text/x-python",
   "name": "python",
   "nbconvert_exporter": "python",
   "pygments_lexer": "ipython3",
   "version": "3.10.8"
  }
 },
 "nbformat": 4,
 "nbformat_minor": 5
}
