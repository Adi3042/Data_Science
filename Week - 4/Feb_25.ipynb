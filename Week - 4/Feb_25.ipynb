{
 "cells": [
  {
   "cell_type": "markdown",
   "id": "a0c3661f-42e7-4744-9efe-1d5efd9805b1",
   "metadata": {},
   "source": [
    "<div class=\"alert alert-block alert-success\" align=\"center\" style=\"padding: 10px;\">\n",
    "<h1><b><u>Pandas Advance-2</u></b></h1>\n",
    "</div>\n",
    "\n",
    "**Consider following code to answer further questions:**\n",
    "```python\n",
    "import pandas as pd\n",
    "course_name = ['Data Science', 'Machine Learning', 'Big Data', 'Data Engineer']\n",
    "duration = [2,3,6,4]\n",
    "df = pd.DataFrame(data = {'course_name' : course_name, 'duration' : duration})\n",
    "```\n",
    "---\n",
    "**Q1. Write a code to print the data present in the second row of the dataframe, df.**"
   ]
  },
  {
   "cell_type": "code",
   "execution_count": 6,
   "id": "d0ef60c7-c8cf-4714-a407-b29ab763b161",
   "metadata": {},
   "outputs": [
    {
     "name": "stdout",
     "output_type": "stream",
     "text": [
      "course_name    Machine Learning\n",
      "duration                      3\n",
      "Name: 1, dtype: object\n"
     ]
    }
   ],
   "source": [
    "import pandas as pd\n",
    "\n",
    "course_name = ['Data Science', 'Machine Learning', 'Big Data', 'Data Engineer']\n",
    "duration = [2,3,6,4]\n",
    "df = pd.DataFrame(data = {'course_name' : course_name, 'duration' : duration})\n",
    "\n",
    "print(df.iloc[1])"
   ]
  },
  {
   "cell_type": "markdown",
   "id": "b702d98b-35ea-4f1d-95b5-f0febc59d92c",
   "metadata": {},
   "source": [
    "---\n",
    "**Q2. What is the difference between the functions loc and iloc in pandas.DataFrame?**"
   ]
  },
  {
   "cell_type": "markdown",
   "id": "1311488e-6486-41ab-aedf-122a19363442",
   "metadata": {},
   "source": [
    "`loc:` This function is used for label-based indexing. It is primarily used when you want to access data based on the labels of rows and columns. You specify the row and column labels explicitly.\n",
    "\n",
    "`iloc:` This function is used for integer-based indexing. It is primarily used when you want to access data based on the integer position of rows and columns. You specify the row and column positions explicitly."
   ]
  },
  {
   "cell_type": "markdown",
   "id": "8b84326b-7ec5-4883-b71b-65aac3cabdcd",
   "metadata": {},
   "source": [
    "---\n",
    "**Q3. Reindex the given dataframe using a variable, reindex = [3,0,1,2] and store it in the variable, new_df then find the output for both new_df.loc[2] and new_df.iloc[2]. Did you observe any difference in both the outputs? If so then explain it.**"
   ]
  },
  {
   "cell_type": "code",
   "execution_count": 7,
   "id": "c2c36d8f-3c8f-4e96-a48f-d7e2d78b9deb",
   "metadata": {},
   "outputs": [
    {
     "name": "stdout",
     "output_type": "stream",
     "text": [
      "course_name    Big Data\n",
      "duration              6\n",
      "Name: 2, dtype: object\n",
      "course_name    Machine Learning\n",
      "duration                      3\n",
      "Name: 1, dtype: object\n"
     ]
    }
   ],
   "source": [
    "new_df = df.reindex([3, 0, 1, 2])\n",
    "\n",
    "# Access using loc\n",
    "print(new_df.loc[2])\n",
    "\n",
    "# Access using iloc\n",
    "print(new_df.iloc[2])"
   ]
  },
  {
   "cell_type": "markdown",
   "id": "28cc4e72-c793-4cc2-bae6-c74117b5d477",
   "metadata": {},
   "source": [
    "<br>\n",
    "The difference observed in the outputs of `new_df.loc[2]` and `new_df.iloc[2]` is because `loc` uses label-based indexing, so it accesses the row with label '2', while `iloc` uses integer-based indexing, so it accesses the row at position 2. Therefore, `loc[2]` returns the row with the label '2', while `iloc[2]` returns the third row based on integer position (since indexing starts from 0)."
   ]
  },
  {
   "cell_type": "markdown",
   "id": "9906e6d5-7991-46d6-bb84-d459e0c1218b",
   "metadata": {},
   "source": [
    "---\n",
    "**Consider the below code to answer further questions:**\n",
    "```python\n",
    "import pandas as pd\n",
    "import numpy as np\n",
    "columns = ['column_1', 'column_2', 'column_3', 'column_4', 'column_5', 'column_6']\n",
    "indices = [1,2,3,4,5,6]\n",
    "#Creating a dataframe:\n",
    "df1 = pd.DataFrame(np.random.rand(6,6), columns = columns, index = indices)\n",
    "```\n",
    "\n",
    "**Q4. Write a code to find the following statistical measurements for the above dataframe df1:**\n",
    "\n",
    " **1. mean of each and every column present in the dataframe.**\n",
    "\n",
    " **2. standard deviation of column, ‘column_2’**\n"
   ]
  },
  {
   "cell_type": "code",
   "execution_count": 10,
   "id": "74ffe3c0-a56c-429e-a135-32f1a4e6e907",
   "metadata": {},
   "outputs": [],
   "source": [
    "import pandas as pd\n",
    "import numpy as np\n",
    "columns = ['column_1', 'column_2', 'column_3', 'column_4', 'column_5', 'column_6']\n",
    "indices = [1,2,3,4,5,6]\n",
    "#Creating a dataframe:\n",
    "df1 = pd.DataFrame(np.random.rand(6,6), columns = columns, index = indices)"
   ]
  },
  {
   "cell_type": "code",
   "execution_count": 12,
   "id": "ceb26b13-686a-4450-9c4b-cf899bc9a3cb",
   "metadata": {},
   "outputs": [
    {
     "name": "stdout",
     "output_type": "stream",
     "text": [
      "Mean of each column:\n",
      "column_1    0.499997\n",
      "column_2    0.475717\n",
      "column_3    0.311929\n",
      "column_4    0.239827\n",
      "column_5    0.557993\n",
      "column_6    0.496636\n",
      "dtype: float64\n"
     ]
    }
   ],
   "source": [
    "# 1. Mean of each column\n",
    "column_means = df1.mean()\n",
    "print(\"Mean of each column:\")\n",
    "print(column_means)"
   ]
  },
  {
   "cell_type": "code",
   "execution_count": 13,
   "id": "7c7a5483-1061-4ef3-8200-02f0a24c8cb0",
   "metadata": {},
   "outputs": [
    {
     "name": "stdout",
     "output_type": "stream",
     "text": [
      "Standard deviation of column 'column_2': 0.4026357559950949\n"
     ]
    }
   ],
   "source": [
    "# 2. Standard deviation of column 'column_2'\n",
    "column_2_std = df1['column_2'].std()\n",
    "print(\"Standard deviation of column 'column_2':\", column_2_std)"
   ]
  },
  {
   "cell_type": "markdown",
   "id": "0e3af595-41aa-49f8-a2f8-a89259ef1d4a",
   "metadata": {},
   "source": [
    "---\n",
    "**Q5. Replace the data present in the second row of column, ‘column_2’ by a string variable then find the\n",
    "mean of column, column_2.**\n",
    "\n",
    "**If you are getting errors in executing it then explain why.**\n",
    "\n",
    "**[Hint: To replace the data use df1.loc[] and equate this to string data of your choice.]**"
   ]
  },
  {
   "cell_type": "code",
   "execution_count": 14,
   "id": "96bc6735-e401-4272-b85e-8b22c3c14209",
   "metadata": {},
   "outputs": [
    {
     "name": "stdout",
     "output_type": "stream",
     "text": [
      "Mean of column 'column_2' after replacing data: 1.1828697038423535\n"
     ]
    }
   ],
   "source": [
    "df1.loc[2, 'column_2'] = 5  # replacing with the value 5\n",
    "print(\"Mean of column 'column_2' after replacing data:\", df1['column_2'].mean())"
   ]
  },
  {
   "cell_type": "markdown",
   "id": "b8127b09-b404-4269-b9d1-1639c566f1d0",
   "metadata": {},
   "source": [
    "---\n",
    "**Q6. What do you understand about the windows function in pandas and list the types of windows functions?**\n",
    "\n",
    "In pandas, window functions are tools for performing calculations on subsets of data defined by a rolling or expanding window. These functions are particularly useful for time series data analysis and are applied to series or dataframes with a time-based index.\n",
    "\n",
    "Window functions allow you to compute various statistical metrics (e.g., mean, sum, standard deviation) over fixed-size windows of consecutive data points or over expanding windows that include all data points up to the current point in time.\n",
    "\n",
    "There are two main types of window functions in pandas:\n",
    "\n",
    "**1. Rolling window functions:** These functions compute statistics over a fixed-size window of consecutive data points. The window \"rolls\" along the index, processing each window in turn. Common rolling window functions include:\n",
    "\n",
    "   - `rolling.mean()`: Calculate the mean of values in the window.\n",
    "   - `rolling.sum()`: Calculate the sum of values in the window.\n",
    "   - `rolling.std()`: Calculate the standard deviation of values in the window.\n",
    "   - `rolling.min()`: Calculate the minimum value in the window.\n",
    "   - `rolling.max()`: Calculate the maximum value in the window.\n",
    "   - `rolling.median()`: Calculate the median of values in the window.\n",
    "   - `rolling.var()`: Calculate the variance of values in the window.\n",
    "\n",
    "**2. Expanding window functions:** These functions compute statistics over expanding windows that include all data points up to the current point in time. The window \"expands\" as more data becomes available. Common expanding window functions include:\n",
    "\n",
    "   - `expanding.mean()`: Calculate the mean of all values up to the current point.\n",
    "   - `expanding.sum()`: Calculate the sum of all values up to the current point.\n",
    "   - `expanding.std()`: Calculate the standard deviation of all values up to the current point.\n",
    "   - `expanding.min()`: Calculate the minimum value among all values up to the current point.\n",
    "   - `expanding.max()`: Calculate the maximum value among all values up to the current point.\n",
    "   - `expanding.median()`: Calculate the median of all values up to the current point.\n",
    "   - `expanding.var()`: Calculate the variance of all values up to the current point.\n",
    "\n",
    "These window functions are powerful tools for analyzing time series data and gaining insights into trends and patterns within the data. They allow for flexible and efficient computation of various statistics over different window sizes, making them widely used in data analysis and modeling tasks."
   ]
  },
  {
   "cell_type": "markdown",
   "id": "78e4b2ea-ed18-4a8b-8348-b0eced55fe60",
   "metadata": {},
   "source": [
    "---\n",
    "**Q7. Write a code to print only the current month and year at the time of answering this question.**\n",
    "\n",
    "**[Hint: Use pandas.datetime function]**"
   ]
  },
  {
   "cell_type": "code",
   "execution_count": 21,
   "id": "32a29771-5627-4a63-b67b-0b223b138854",
   "metadata": {},
   "outputs": [
    {
     "name": "stdout",
     "output_type": "stream",
     "text": [
      "Current month 2 \n",
      "Current year: 2024\n"
     ]
    }
   ],
   "source": [
    "from datetime import datetime\n",
    "\n",
    "current_datetime = datetime.now()\n",
    "\n",
    "current_month = current_datetime.month\n",
    "current_year = current_datetime.year\n",
    "\n",
    "print(\"Current month\", current_month, \"\\nCurrent year:\", current_year)"
   ]
  },
  {
   "cell_type": "markdown",
   "id": "bd1ef910-67c8-43cc-bd23-6f263136250e",
   "metadata": {},
   "source": [
    "---\n",
    "**Q8. Write a Python program that takes in two dates as input (in the format YYYY-MM-DD) and calculates the difference between them in days, hours, and minutes using Pandas time delta. The program should prompt the user to enter the dates and display the result.**"
   ]
  },
  {
   "cell_type": "code",
   "execution_count": 26,
   "id": "ceab412b-6b4a-4224-88fe-0be1d1df3206",
   "metadata": {},
   "outputs": [
    {
     "name": "stdin",
     "output_type": "stream",
     "text": [
      "Enter the first date (YYYY-MM-DD format):  2000-04-02\n",
      "Enter the second date (YYYY-MM-DD format):  2000-05-30\n"
     ]
    },
    {
     "name": "stdout",
     "output_type": "stream",
     "text": [
      "Time difference between 2000-04-02 and 2000-05-30 is:\n",
      "Days: 58\n",
      "Hours: 0\n",
      "Minutes: 0\n"
     ]
    }
   ],
   "source": [
    "import pandas as pd\n",
    "\n",
    "def calculate_time_difference(date1, date2):\n",
    "    \n",
    "    date1 = pd.to_datetime(date1)\n",
    "    date2 = pd.to_datetime(date2)\n",
    "    \n",
    "    time_difference = date2 - date1\n",
    "    days = time_difference.days\n",
    "    hours = time_difference.seconds // 3600\n",
    "    minutes = (time_difference.seconds % 3600) // 60\n",
    "    \n",
    "    return days, hours, minutes\n",
    "\n",
    "date1 = input(\"Enter the first date (YYYY-MM-DD format): \")\n",
    "date2 = input(\"Enter the second date (YYYY-MM-DD format): \")\n",
    "\n",
    "# Calculate time difference\n",
    "days, hours, minutes = calculate_time_difference(date1, date2)\n",
    "\n",
    "print(\"Time difference between\", date1, \"and\", date2, \"is:\")\n",
    "print(\"Days:\", days)\n",
    "print(\"Hours:\", hours)\n",
    "print(\"Minutes:\", minutes)"
   ]
  },
  {
   "cell_type": "markdown",
   "id": "15fef45c-edc9-45b9-af0a-45aece58aaed",
   "metadata": {},
   "source": [
    "---\n",
    "**Q9. Write a python program that reads a csv file containing categorical data and converts a specified column to a categorical data type the program should prompt the user to entered the file path column name and category order and then display the sorted data**"
   ]
  },
  {
   "cell_type": "code",
   "execution_count": 33,
   "id": "d8846528-1a65-4890-97b3-9e852d7a7a20",
   "metadata": {},
   "outputs": [
    {
     "name": "stdin",
     "output_type": "stream",
     "text": [
      "Enter the CSV file path:  sample_data.csv\n",
      "Enter the column name to convert:  City\n",
      "Enter the category order separated by commas (no spaces):  Los Angeles,New York,Chicago,Houston,Phoenix\n"
     ]
    },
    {
     "name": "stdout",
     "output_type": "stream",
     "text": [
      "      Name  Age         City\n",
      "1      Bob   30  Los Angeles\n",
      "0    Alice   25     New York\n",
      "2  Charlie   35      Chicago\n",
      "3    David   40      Houston\n",
      "4     Emma   45      Phoenix\n"
     ]
    }
   ],
   "source": [
    "import pandas as pd\n",
    "\n",
    "file_path = input(\"Enter the CSV file path: \")\n",
    "column_name = input(\"Enter the column name to convert: \")\n",
    "category_order = input(\"Enter the category order separated by commas (no spaces): \").split(\",\")\n",
    "\n",
    "# Read the CSV file\n",
    "df = pd.read_csv(file_path)\n",
    "\n",
    "# Convert the specified column to categorical data type\n",
    "df[column_name] = pd.Categorical(df[column_name], categories=category_order, ordered=True)\n",
    "\n",
    "# Sort the DataFrame by the categorical column\n",
    "df = df.sort_values(by=[column_name])\n",
    "\n",
    "print(df)"
   ]
  },
  {
   "cell_type": "markdown",
   "id": "1453b472-74f3-47ba-b0b6-555f5c919fba",
   "metadata": {},
   "source": [
    "---\n",
    "**Q10. write a Python program that reads a csv file containing sales data for different products and visualize the data using stack bar chart to show the cells of each product category over time the program should prom the user to enter the file path and display the chart.**"
   ]
  },
  {
   "cell_type": "code",
   "execution_count": 35,
   "id": "2d12c9a4-a1d2-4d0e-a025-adfb74dabeb1",
   "metadata": {},
   "outputs": [
    {
     "name": "stdin",
     "output_type": "stream",
     "text": [
      "Enter the file path of the CSV file:  sales_data.csv\n"
     ]
    },
    {
     "data": {
      "text/plain": [
       "<Figure size 1000x600 with 0 Axes>"
      ]
     },
     "metadata": {},
     "output_type": "display_data"
    },
    {
     "data": {
      "image/png": "[encoded data removed]",
      "text/plain": [
       "<Figure size 640x480 with 1 Axes>"
      ]
     },
     "metadata": {},
     "output_type": "display_data"
    }
   ],
   "source": [
    "import pandas as pd\n",
    "import matplotlib.pyplot as plt\n",
    "\n",
    "def main():\n",
    "    \n",
    "    file_path = input(\"Enter the file path of the CSV file: \")\n",
    "\n",
    "    try:\n",
    "        df = pd.read_csv(file_path)\n",
    "    except FileNotFoundError:\n",
    "        print(\"Error: File not found. Please enter a valid file path.\")\n",
    "        return\n",
    "    \n",
    "    required_columns = [\"Product\", \"Category\", \"Sales\", \"Month\"]\n",
    "    missing_cols = missing_columns(df, required_columns)\n",
    "    if missing_cols:\n",
    "        print(\"Error: File is missing required columns:\", missing_cols)\n",
    "        return\n",
    "    \n",
    "    df_pivot = df.pivot_table(index=\"Month\", columns=\"Category\", values=\"Sales\", aggfunc=\"sum\")\n",
    "\n",
    "    # Create stack bar chart\n",
    "    plt.figure(figsize=(10, 6))\n",
    "    df_pivot.plot(kind=\"bar\", stacked=True, colormap=\"Set2\")\n",
    "    plt.xlabel(\"Month\")\n",
    "    plt.ylabel(\"Total Sales\")\n",
    "    plt.title(\"Product Sales by Category over Time\")\n",
    "    plt.legend(title=\"Product Category\", loc=\"upper left\", bbox_to_anchor=(1.05, 1))\n",
    "    plt.xticks(rotation=0)\n",
    "    plt.tight_layout()\n",
    "    plt.show()\n",
    "\n",
    "def missing_columns(df, required_columns):\n",
    "    return \", \".join(set(required_columns) - set(df.columns))\n",
    "\n",
    "if __name__ == \"__main__\":\n",
    "    main()\n"
   ]
  },
  {
   "cell_type": "markdown",
   "id": "b9c09881-b71c-4eb5-860e-4f78e0b75cef",
   "metadata": {},
   "source": [
    "---\n",
    "**Q11. You are given a csv file containing Student data that includes the student id and their test score write a path on program that read file calculate the mean median and mode of the test scores and display the result in a table the program should do the following from the user to into the file path of the CSV file containing the Student data read the csv file into a panda state a frame calculate the main median mode of the text score using Pandas to display the mean median mode in a table assume the csv file containing the following column student id of the student test score of the student test  the program should calculate the mean median mode of the test score and display the result in a table.**\n",
    "\n",
    "| Student ID | Test Score |\n",
    "|------------|------------|\n",
    "| 1          | 85         |\n",
    "| 2          | 90         |\n",
    "| 3          | 80         |\n",
    "| 4          | 75         |\n",
    "| 5          | 85         |\n",
    "| 6          | 82         |\n",
    "| 7          | 78         |\n",
    "| 8          | 85         |\n",
    "| 9          | 90         |\n",
    "| 10         | 85         |\n"
   ]
  },
  {
   "cell_type": "code",
   "execution_count": 42,
   "id": "5fa5ba91-da87-443c-a0db-b650d2c9f17e",
   "metadata": {},
   "outputs": [
    {
     "name": "stdout",
     "output_type": "stream",
     "text": [
      "Statistic  Value\n",
      "     Mean   83.5\n",
      "   Median   85.0\n",
      "     Mode   85.0\n"
     ]
    }
   ],
   "source": [
    "import pandas as pd\n",
    "\n",
    "df=pd.read_csv(\"student_data.csv\")\n",
    "\n",
    "# Calculate mean, median, and mode of test scores\n",
    "mean = df[\"Test Score\"].mean()\n",
    "median = df[\"Test Score\"].median()\n",
    "mode = df[\"Test Score\"].mode()[0]\n",
    "\n",
    "results = pd.DataFrame({\n",
    "    \"Statistic\": [\"Mean\", \"Median\", \"Mode\"],\n",
    "    \"Value\": [mean, median, mode]\n",
    "})\n",
    "\n",
    "print(results.to_string(index=False))"
   ]
  }
 ],
 "metadata": {
  "kernelspec": {
   "display_name": "Python 3 (ipykernel)",
   "language": "python",
   "name": "python3"
  },
  "language_info": {
   "codemirror_mode": {
    "name": "ipython",
    "version": 3
   },
   "file_extension": ".py",
   "mimetype": "text/x-python",
   "name": "python",
   "nbconvert_exporter": "python",
   "pygments_lexer": "ipython3",
   "version": "3.10.8"
  }
 },
 "nbformat": 4,
 "nbformat_minor": 5
}
