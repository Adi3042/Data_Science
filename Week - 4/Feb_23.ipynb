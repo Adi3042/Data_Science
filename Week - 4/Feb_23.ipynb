{
 "cells": [
  {
   "cell_type": "markdown",
   "id": "9c22c348-a47d-40b7-8791-fe7c8d77d334",
   "metadata": {},
   "source": [
    "<div class=\"alert alert-block alert-info\" align=\"center\" style=\"padding: 10px;\">\n",
    "<h1><b><u>Pandas Basic</u></b></h1>\n",
    "</div>"
   ]
  },
  {
   "cell_type": "markdown",
   "id": "b17ac99d-d64a-4a04-b0ec-3875ed4f01f1",
   "metadata": {},
   "source": [
    "#### **Q1. Create a Pandas Series that contains the following data: 4, 8, 15, 16, 23, and 42. Then, print the series.** ####"
   ]
  },
  {
   "cell_type": "code",
   "execution_count": 8,
   "id": "884f03ed-ecba-4831-8502-fe7e94c2aa0e",
   "metadata": {},
   "outputs": [
    {
     "name": "stdout",
     "output_type": "stream",
     "text": [
      "0     4\n",
      "1     8\n",
      "2    15\n",
      "3    16\n",
      "4    23\n",
      "5    42\n",
      "dtype: int64\n"
     ]
    }
   ],
   "source": [
    "import pandas as pd\n",
    "\n",
    "data = [4, 8, 15, 16, 23, 42]\n",
    "series = pd.Series(data)\n",
    "\n",
    "print(series)\n"
   ]
  },
  {
   "cell_type": "markdown",
   "id": "acef0ddc-5c66-4f0a-8e46-6e29090601d5",
   "metadata": {},
   "source": [
    "#### **Q2. Create a variable of list type containing 10 elements in it, and apply pandas.Series function on the variable print it.** ####"
   ]
  },
  {
   "cell_type": "code",
   "execution_count": 9,
   "id": "07caa2f6-596b-44d7-a413-7e3fd135567b",
   "metadata": {},
   "outputs": [
    {
     "name": "stdout",
     "output_type": "stream",
     "text": [
      "0     1\n",
      "1     2\n",
      "2     3\n",
      "3     4\n",
      "4     5\n",
      "5     6\n",
      "6     7\n",
      "7     8\n",
      "8     9\n",
      "9    10\n",
      "dtype: int64\n"
     ]
    }
   ],
   "source": [
    "list = [1, 2, 3, 4, 5, 6, 7, 8, 9, 10]\n",
    "series = pd.Series(list)\n",
    "print(series)"
   ]
  },
  {
   "cell_type": "markdown",
   "id": "21eb8d7f-d38d-4cf1-8edd-270358668b98",
   "metadata": {},
   "source": [
    "#### **Q3. Create a Pandas DataFrame that contains the following data:** ####\n",
    "\n",
    "|   Name  |   Age  | Gender   |\n",
    "|:------: |:-----: |:-------: |\n",
    "|  Alice  |   25   | Female   |\n",
    "|   Bob   |   30   | Male     |\n",
    "|  Claire |   27   | Female   |\n",
    "\n",
    "    \n",
    "**Then, print the DataFrame.**"
   ]
  },
  {
   "cell_type": "code",
   "execution_count": 11,
   "id": "0436c659-e8c4-4140-a83a-67fb61bfb7df",
   "metadata": {},
   "outputs": [
    {
     "name": "stdout",
     "output_type": "stream",
     "text": [
      "     Name Age  Gender\n",
      "0   Alice  25  Female\n",
      "1     Bob  30    Male\n",
      "2  Claire  27  Female\n"
     ]
    }
   ],
   "source": [
    "data = {\"Name\" : [\"Alice\",\"Bob\",\"Claire\"],\n",
    "        \"Age\" : [\"25\",\"30\",\"27\"],\n",
    "        \"Gender\" : [\"Female\",\"Male\",\"Female\"]\n",
    "        }\n",
    "df = pd.DataFrame(data)\n",
    "print(df)"
   ]
  },
  {
   "cell_type": "markdown",
   "id": "9211b062-15ad-47dc-9256-3055e6252927",
   "metadata": {},
   "source": [
    "#### **Q4. What is ‘DataFrame’ in pandas and how is it different from pandas.series? Explain with an example.** ####\n",
    "A DataFrame is a two-dimensional labeled data structure in pandas. It consists of rows and columns, where each column can have a different data type. It is similar to a spreadsheet or SQL table, and can be thought of as a collection of Pandas Series objects.\n",
    "\n",
    "**Pandas Series:**\n",
    "A Series is a one-dimensional labeled data structure in pandas. It can hold data of any data type, including integers, floating-point numbers, strings, and more.\n",
    "\n",
    "**Example:**\n",
    "\n",
    "Let's create a simple example to illustrate the difference:\n",
    "\n",
    "```python\n",
    "import pandas as pd\n",
    "\n",
    "# Creating a Pandas Series\n",
    "series_data = pd.Series([25, 30, 27], name=\"Age\")\n",
    "print(\"Pandas Series:\")\n",
    "print(series_data)\n",
    "\n",
    "# Creating a Pandas DataFrame\n",
    "data = {\n",
    "    \"Name\": [\"Alice\", \"Bob\", \"Claire\"],\n",
    "    \"Age\": [25, 30, 27],\n",
    "    \"Gender\": [\"Female\", \"Male\", \"Female\"]\n",
    "}\n",
    "df = pd.DataFrame(data)\n",
    "print(\"\\nDataFrame:\")\n",
    "print(df)\n"
   ]
  },
  {
   "cell_type": "markdown",
   "id": "ed7c62f3-c3a8-4985-8d0f-7de3f66e2a2a",
   "metadata": {},
   "source": [
    "#### **Q5. What are some common functions you can use to manipulate data in a Pandas DataFrame?** ####\n",
    "#### **Can you give an example of when you might use one of these functions?** ####"
   ]
  },
  {
   "cell_type": "markdown",
   "id": "3111a91b-0e77-4eee-a1c9-bd9f6b5c1b65",
   "metadata": {},
   "source": [
    "**Some Common function i.e. used in Pandas Dataframe are:---**\n",
    "\n",
    "    1. head()\n",
    "    2. tail()\n",
    "    3. read_excel()\n",
    "    4. read_csv()\n",
    "    5. read_html()\n",
    "    6. to_csv()\n",
    "    7. info()\n",
    "    8. sort_values()\n",
    "    9. describe()\n",
    "    10. groupby()"
   ]
  },
  {
   "cell_type": "code",
   "execution_count": 4,
   "id": "2d7ea4f3-7862-43a1-ad97-d67288de64d3",
   "metadata": {},
   "outputs": [
    {
     "name": "stdout",
     "output_type": "stream",
     "text": [
      "         Quantity  Price\n",
      "Product                 \n",
      "A              17   5.00\n",
      "B              13   3.75\n"
     ]
    }
   ],
   "source": [
    "data = {'Date': ['2022-01-01', '2022-01-01', '2022-01-02', '2022-01-02'],\n",
    "              'Product': ['A', 'B', 'A', 'B'],\n",
    "              'Quantity': [10, 5, 7, 8],\n",
    "              'Price': [2.50, 1.75, 2.50, 2.00]\n",
    "             }\n",
    "df = pd.DataFrame(data)\n",
    "\n",
    "revenue_by_product = df.groupby(\"Product\")[[\"Quantity\", \"Price\"]].sum()\n",
    "print(revenue_by_product)\n"
   ]
  },
  {
   "cell_type": "markdown",
   "id": "087e62e5-f745-4c6e-9af2-9356d503764b",
   "metadata": {},
   "source": [
    "#### **Q6. Which of the following is mutable in nature Series, DataFrame, Panel?** ####"
   ]
  },
  {
   "cell_type": "markdown",
   "id": "23057cec-060d-45a7-a662-4f661f9ea2da",
   "metadata": {},
   "source": [
    "- In pandas, both Series and DataFrame are mutable.\n",
    "\n",
    "- Panel is also mutable in Pandas. \n",
    "\n",
    "- However, it is important to note that Panel is deprecated in Pandas 1.0 and beyond, and is not recommended for new code. "
   ]
  },
  {
   "cell_type": "markdown",
   "id": "9e73a5c3-1af1-4132-bd40-508997e716bf",
   "metadata": {},
   "source": [
    "#### **Q7. Create a DataFrame using multiple Series. Explain with an example.** ####"
   ]
  },
  {
   "cell_type": "code",
   "execution_count": 8,
   "id": "241c8bd0-894a-40f4-bf72-9ff01b99263b",
   "metadata": {},
   "outputs": [
    {
     "name": "stdout",
     "output_type": "stream",
     "text": [
      "     Name  Age  Gender\n",
      "0   Alice   25  Female\n",
      "1     Bob   30    Male\n",
      "2  Claire   27  Female\n"
     ]
    }
   ],
   "source": [
    "name = pd.Series([\"Alice\", \"Bob\", \"Claire\"])\n",
    "age = pd.Series([25, 30, 27])\n",
    "gender = pd.Series([\"Female\", \"Male\", \"Female\"])\n",
    "\n",
    "df = pd.DataFrame({\"Name\": name, \"Age\": age, \"Gender\": gender})\n",
    "print(df)\n"
   ]
  }
 ],
 "metadata": {
  "kernelspec": {
   "display_name": "Python 3 (ipykernel)",
   "language": "python",
   "name": "python3"
  },
  "language_info": {
   "codemirror_mode": {
    "name": "ipython",
    "version": 3
   },
   "file_extension": ".py",
   "mimetype": "text/x-python",
   "name": "python",
   "nbconvert_exporter": "python",
   "pygments_lexer": "ipython3",
   "version": "3.10.8"
  }
 },
 "nbformat": 4,
 "nbformat_minor": 5
}
