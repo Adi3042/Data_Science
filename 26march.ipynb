{
 "cells": [
  {
   "cell_type": "code",
   "execution_count": null,
   "id": "8c2ddfdb-21da-4a2b-ac10-6f6b81225528",
   "metadata": {},
   "outputs": [],
   "source": [
    "Q1. Explain the difference between simple linear regression and multiple linear regression. Provide an example of each.\n",
    "\n",
    "\n",
    "Difference between Simple Linear Regression and Multiple Linear Regression:-\n",
    "\n",
    "    Simple Linear Regression:-\n",
    "    \n",
    "        Simple Linear Regression involves modeling the relationship between a single independent variable (predictor)\n",
    "        and a dependent variable (target) using a linear equation. It assumes a linear relationship between the predictor and the target. \n",
    "        \n",
    "        For example,\n",
    "            predicting a students test score (target) based on the number of hours they studied (predictor).\n",
    "\n",
    "    Multiple Linear Regression:-\n",
    "    \n",
    "        Multiple Linear Regression extends simple linear regression to model the relationship between multiple independent variables \n",
    "        (predictors) and a dependent variable (target) using a linear equation. \n",
    "        \n",
    "        It assumes a linear relationship between all predictors and the target. \n",
    "        \n",
    "        For example, \n",
    "            predicting a houses price (target) based on factors like square footage, number of bedrooms, and neighborhood (predictors)."
   ]
  },
  {
   "cell_type": "code",
   "execution_count": null,
   "id": "2e9065ba-30ea-45ca-a53b-61ac5dfaaae4",
   "metadata": {},
   "outputs": [],
   "source": [
    "Q2. Discuss the assumptions of linear regression. How can you check whether these assumptions hold in a given dataset?\n",
    "\n",
    "\n",
    "Assumptions of Linear Regression:-\n",
    "\n",
    "    The key assumptions of linear regression are:-\n",
    "\n",
    "        (i). Linearity: \n",
    "                The relationship between predictors and the target is linear.\n",
    "            \n",
    "        (ii). Independence: \n",
    "                The errors (residuals) are independent of each other.\n",
    "            \n",
    "        (iii). Normality: \n",
    "                The errors follow a normal distribution.\n",
    "            \n",
    "        (iv). Multicollinearity: \n",
    "                Predictors are not highly correlated.\n",
    "            \n",
    "Check these assumptions by:-\n",
    "\n",
    "        (i). Visual inspection (scatter plots, residual plots, Q-Q plots).\n",
    "    \n",
    "        (ii). Statistical tests (Shapiro-Wilk test for normality, Durbin-Watson test for independence)."
   ]
  },
  {
   "cell_type": "code",
   "execution_count": null,
   "id": "c6615997-b36b-4f7f-9b24-b54d7f12cf89",
   "metadata": {},
   "outputs": [],
   "source": [
    "Q3. How do you interpret the slope and intercept in a linear regression model? Provide an example using a real-world scenario.\n",
    "\n",
    "\n",
    "Interpretation of Slope and Intercept in Linear Regression:-\n",
    "\n",
    "    Slope:- \n",
    "        It represents the change in the target variable for a one-unit change in the predictor variable, holding other predictors constant.\n",
    "        For example, \n",
    "        \n",
    "            In predicting test scores, a slope of 2 for hours studied means that for every additional hour studied,\n",
    "                the expected test score increases by 2 points.\n",
    "\n",
    "    Intercept:-\n",
    "        It represents the predicted value of the target variable when all predictor variables are set to zero.\n",
    "        \n",
    "        In some cases, it may not have a meaningful interpretation (e.g., predicting test scores with zero hours studied), \n",
    "            but it is part of the linear equation."
   ]
  },
  {
   "cell_type": "code",
   "execution_count": null,
   "id": "5aaebbb3-7bd0-4e15-a58e-5e3585cee8a2",
   "metadata": {},
   "outputs": [],
   "source": [
    "Q4. Explain the concept of gradient descent. How is it used in machine learning?\n",
    "\n",
    "\n",
    "\n",
    "    Gradient descent is an optimization algorithm used in machine learning to minimize the loss or cost function of a model.\n",
    "    \n",
    "    It involves iteratively adjusting model parameters (weights) to find the values that minimize the loss function.\n",
    "    \n",
    "    Used in machine learning:-\n",
    "    \n",
    "        Gradient descent is used to train various machine learning models, including linear regression, neural networks, and more."
   ]
  },
  {
   "cell_type": "code",
   "execution_count": null,
   "id": "46e4163e-ab46-4401-8920-4b2019af22a2",
   "metadata": {},
   "outputs": [],
   "source": [
    "Q5. Describe the multiple linear regression model. How does it differ from simple linear regression?\n",
    "\n",
    "\n",
    "    Multiple linear regression is a regression analysis method that models the relationship between multiple independent \n",
    "    variables (predictors) and a single dependent variable (target) using a linear equation. \n",
    "    \n",
    "    It extends simple linear regression to handle multiple predictors.\n",
    "    \n",
    "    It differs from simple linear regression by including multiple predictors to explain the variation in the target."
   ]
  },
  {
   "cell_type": "code",
   "execution_count": null,
   "id": "4bb13d7b-4f15-48dd-ab45-fd79d7deb1a7",
   "metadata": {},
   "outputs": [],
   "source": [
    "Q6. Explain the concept of multicollinearity in multiple linear regression. How can you detect and address this issue?\n",
    "\n",
    "\n",
    "    (i). Multicollinearity occurs when two or more predictors in a multiple linear regression model are highly correlated. \n",
    "    \n",
    "    (ii). It can lead to unstable coefficient estimates and difficulties in interpreting the impact of individual predictors. \n",
    "\n",
    "    To detect and address multicollinearity:\n",
    "\n",
    "        (i). Calculate the Variance Inflation Factor (VIF) for each predictor. High VIF values indicate high multicollinearity.\n",
    "        \n",
    "        (ii). Remove one of the highly correlated predictors or use techniques like principal component analysis (PCA) to reduce multicollinearity."
   ]
  },
  {
   "cell_type": "code",
   "execution_count": null,
   "id": "a44c4442-018f-4c97-b5fb-d02937593284",
   "metadata": {},
   "outputs": [],
   "source": [
    "Q7. Describe the polynomial regression model. How is it different from linear regression?\n",
    "\n",
    "\n",
    "    (i). Polynomial regression is an extension of linear regression that models the relationship \n",
    "         between the predictors and the target as an nth-degree polynomial equation.\n",
    "        \n",
    "    (ii). It allows the model to capture non-linear relationships between predictors and the target. \n",
    "    \n",
    "    (iii). Unlike linear regression, which is a straight line, polynomial regression fits a curve."
   ]
  },
  {
   "cell_type": "code",
   "execution_count": null,
   "id": "120619c6-ee72-4837-b562-5ecc81f27c67",
   "metadata": {},
   "outputs": [],
   "source": [
    "Q8. What are the advantages and disadvantages of polynomial regression compared to linear\n",
    "regression? In what situations would you prefer to use polynomial regression?\n",
    "\n",
    "\n",
    "    Advantages:-\n",
    "\n",
    "        (i). Captures non-linear relationships between predictors and target.\n",
    "        \n",
    "        (ii). Provides a more flexible model.\n",
    "\n",
    "    Disadvantages:-\n",
    "\n",
    "        (i). Can lead to overfitting if the degree of the polynomial is too high.\n",
    "        \n",
    "        (ii). Interpretability becomes challenging with higher-degree polynomials.\n",
    "\n",
    "    Polynomial regression is preferred when there is evidence of non-linear relationships between predictors and the target, \n",
    "    but it should be used cautiously to avoid overfitting."
   ]
  }
 ],
 "metadata": {
  "kernelspec": {
   "display_name": "Python 3 (ipykernel)",
   "language": "python",
   "name": "python3"
  },
  "language_info": {
   "codemirror_mode": {
    "name": "ipython",
    "version": 3
   },
   "file_extension": ".py",
   "mimetype": "text/x-python",
   "name": "python",
   "nbconvert_exporter": "python",
   "pygments_lexer": "ipython3",
   "version": "3.10.8"
  }
 },
 "nbformat": 4,
 "nbformat_minor": 5
}
