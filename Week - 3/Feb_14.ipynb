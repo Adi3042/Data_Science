{
 "cells": [
  {
   "cell_type": "markdown",
   "id": "c7ac9b8a-45c0-440d-a9b9-65db058a1dbe",
   "metadata": {},
   "source": [
    "<div class=\"alert alert-block alert-info\" align=\"center\" style=\"padding: 10px;\">\n",
    "<h1><b><u>Multithreading</u></b></h1>\n",
    "</div>"
   ]
  },
  {
   "cell_type": "markdown",
   "id": "e4762762-7d37-4e2d-8920-1d46aa5de65e",
   "metadata": {},
   "source": [
    "#### **Q1. What is multithreading in Python? Why is it used? Name the module used to handle threads in Python.**\n",
    "\n",
    "Multithreading in Python is a technique of creating multiple threads of execution within a single program. Each thread runs independently and can perform a separate task simultaneously. Multithreading is typically used in situations where a program needs to perform multiple tasks simultaneously, such as in network programming or GUI applications. The module used to handle threads in Python is called \"threading\".\n",
    "\n",
    "---\n",
    "\n",
    "#### **Q2. Why is the threading module used? Write the use of the following functions**\n",
    "1. `activeCount`\n",
    "2. `currentThread`\n",
    "3. `enumerate`\n",
    "\n",
    "The threading module is used in Python to create and manage threads of execution within a program. It provides a high-level interface for working with threads and includes functions for creating new threads, synchronizing access to shared resources, and managing the lifecycle of threads.\n",
    "\n",
    "- `activeCount()`: This function returns the number of active threads in the current process.\n",
    "- `currentThread()`: This function returns a reference to the current thread object.\n",
    "- `enumerate()`: This function returns a list of all active thread objects in the current process. Each thread object contains information about the thread, such as its name or ID.\n",
    "\n",
    "---\n",
    "\n",
    "#### **Q3. Explain the following functions**\n",
    "1. `run`\n",
    "2. `start`\n",
    "3. `join`\n",
    "4. `isAlive`\n",
    "\n",
    "- `run()`: The function that is executed when a new thread is started.\n",
    "- `start()`: Starts a new thread and calls the `run()` function in that thread.\n",
    "- `join()`: Blocks the current thread until the target thread completes its execution.\n",
    "- `isAlive()`: Returns `True` if the target thread is currently executing, and `False` otherwise.\n",
    "\n",
    "---\n",
    "\n",
    "#### **Q4. Write a Python program to create two threads. Thread one must print the list of squares, and thread two must print the list of cubes.**\n",
    "\n",
    "**Solution**"
   ]
  },
  {
   "cell_type": "code",
   "execution_count": 2,
   "id": "18d9cb2d-be76-4c89-88b4-2cb5184375f6",
   "metadata": {},
   "outputs": [],
   "source": [
    "import threading\n",
    "import logging\n",
    "logging.basicConfig(filename = \"thread.log\", level = logging.INFO, format = \"%(asctime)s %(name)s %(levelname)s %(message)s\")\n",
    "\n",
    "def square(i):\n",
    "    logging.info(\"%d square is %d \" % (i, i**2))\n",
    "    # print(\"%d square is %d\" % (i, i**2))\n",
    "\n",
    "def cube(i):\n",
    "    logging.info(\"%d cube is %d\" % (i, i**3))\n",
    "\n",
    "thread1 = [threading.Thread(target=square, args=(i,)) for i in range(1, 11)]\n",
    "thread2 = [threading.Thread(target=cube, args=(i,)) for i in range(1, 11)]\n",
    "\n",
    "for t in thread1 + thread2:\n",
    "    t.start()\n",
    "\n",
    "for t in thread1 + thread2:\n",
    "    t.join()"
   ]
  },
  {
   "cell_type": "markdown",
   "id": "4b0d095c-f568-4d16-b6bc-2f106665d3c4",
   "metadata": {},
   "source": [
    "---\n",
    "#### **Q5. State advantages and disadvantages of multithreading**\n",
    "\n",
    "**Advantages of Multithreading:**\n",
    "\n",
    "1. Increased responsiveness and interactivity: Multithreading allows a program to remain responsive even when some threads are performing time-consuming tasks. This is particularly important in applications like user interfaces.\n",
    "\n",
    "2. Improved performance: Multithreading can lead to better performance, especially on multi-core processors, as it allows multiple tasks to be executed in parallel, making better use of available CPU resources.\n",
    "\n",
    "3. Resource sharing: Threads within the same process can share data and resources, making it easier to coordinate and communicate between different parts of a program.\n",
    "\n",
    "**Disadvantages of Multithreading:**\n",
    "\n",
    "1. Complexity: Writing multithreaded code can be more complex and error-prone compared to single-threaded code. It introduces synchronization challenges and potential issues like deadlocks and race conditions.\n",
    "\n",
    "2. Overhead: Multithreading introduces overhead due to thread creation, management, and synchronization, which can impact performance. This overhead may outweigh the benefits in some cases.\n",
    "\n",
    "3. Difficulty in debugging: Debugging multithreaded programs can be challenging, as issues may not be easily reproducible and can depend on the timing of thread execution.\n",
    "\n",
    "---\n",
    "\n",
    "#### **Q6. Explain deadlocks and race conditions.**\n",
    "\n",
    "**Deadlocks** occur when two or more threads are blocked, waiting for each other to release resources they need to proceed. In a deadlock situation, none of the threads can make progress, and the program comes to a standstill.\n",
    "\n",
    "**Race conditions** occur when two or more threads access a shared resource concurrently and try to modify it simultaneously. This can lead to unpredictable and erroneous behavior since the outcome depends on the relative timing and execution order of the threads. Race conditions can result in data corruption, crashes, or unexpected results.\n",
    "\n",
    "Both deadlocks and race conditions are common pitfalls in multithreaded programming and need to be carefully managed through synchronization mechanisms and proper design.\n",
    "\n"
   ]
  }
 ],
 "metadata": {
  "kernelspec": {
   "display_name": "Python 3 (ipykernel)",
   "language": "python",
   "name": "python3"
  },
  "language_info": {
   "codemirror_mode": {
    "name": "ipython",
    "version": 3
   },
   "file_extension": ".py",
   "mimetype": "text/x-python",
   "name": "python",
   "nbconvert_exporter": "python",
   "pygments_lexer": "ipython3",
   "version": "3.10.8"
  }
 },
 "nbformat": 4,
 "nbformat_minor": 5
}
