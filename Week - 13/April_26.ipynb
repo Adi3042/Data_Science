{
 "cells": [
  {
   "cell_type": "markdown",
   "id": "5ed88da3-50db-4926-bb25-888392fc01e8",
   "metadata": {},
   "source": [
    "<div class=\"alert alert-block alert-info\" align=\"center\" style=\"padding: 10px;\">\n",
    "<h1><b><u>Dimensionality Reduction-4</u></b></h1>\n",
    "</div>"
   ]
  },
  {
   "cell_type": "markdown",
   "id": "e733b36c-019c-47ff-a5ad-8c0bf11881d7",
   "metadata": {},
   "source": [
    "# Objective:\n",
    "\n",
    "The objective of this assignment is to implement PCA on a given dataset and analyze the results.\n",
    "\n",
    "## Instructions:\n",
    "\n",
    "1. Download the wine dataset from the UCI Machine Learning Repository [Wine Dataset](https://archive.ics.uci.edu/ml/datasets/Wine).\n",
    "2. Load the dataset into a Pandas dataframe.\n",
    "3. Split the dataset into features and target variables.\n",
    "4. Perform data preprocessing (e.g., scaling, normalization, missing value imputation) as necessary.\n",
    "5. Implement PCA on the preprocessed dataset using the scikit-learn library.\n",
    "6. Determine the optimal number of principal components to retain based on the explained variance ratio.\n",
    "7. Visualize the results of PCA using a scatter plot.\n",
    "8. Perform clustering on the PCA-transformed data using the K-Means clustering algorithm.\n",
    "9. Interpret the results of PCA and clustering analysis.\n",
    "\n",
    "## Deliverables:\n",
    "\n",
    "- Jupyter notebook containing the code for the PCA implementation.\n",
    "- A report summarizing the results of PCA and clustering analysis.\n",
    "- Scatter plot showing the results of PCA.\n",
    "- A table showing the performance metrics for the clustering algorithm.\n",
    "\n",
    "## Additional Information:\n",
    "\n",
    "- You can use the Python programming language.\n",
    "- You can use any other machine learning libraries or tools as necessary.\n",
    "- You can use any visualization libraries or tools as necessary."
   ]
  },
  {
   "cell_type": "code",
   "execution_count": 78,
   "id": "c09a1bd9-3a44-4387-b479-ea218fda94c9",
   "metadata": {},
   "outputs": [
    {
     "data": {
      "text/html": [
       "<div>\n",
       "<style scoped>\n",
       "    .dataframe tbody tr th:only-of-type {\n",
       "        vertical-align: middle;\n",
       "    }\n",
       "\n",
       "    .dataframe tbody tr th {\n",
       "        vertical-align: top;\n",
       "    }\n",
       "\n",
       "    .dataframe thead th {\n",
       "        text-align: right;\n",
       "    }\n",
       "</style>\n",
       "<table border=\"1\" class=\"dataframe\">\n",
       "  <thead>\n",
       "    <tr style=\"text-align: right;\">\n",
       "      <th></th>\n",
       "      <th>Alcohol</th>\n",
       "      <th>Malic_acid</th>\n",
       "      <th>Ash</th>\n",
       "      <th>Alcalinity_of_ash</th>\n",
       "      <th>Magnesium</th>\n",
       "      <th>Total_phenols</th>\n",
       "      <th>Flavanoids</th>\n",
       "      <th>Nonflavanoid_phenols</th>\n",
       "      <th>Proanthocyanins</th>\n",
       "      <th>Color_intensity</th>\n",
       "      <th>Hue</th>\n",
       "      <th>OD280%2FOD315_of_diluted_wines</th>\n",
       "      <th>Proline</th>\n",
       "      <th>target</th>\n",
       "    </tr>\n",
       "  </thead>\n",
       "  <tbody>\n",
       "    <tr>\n",
       "      <th>0</th>\n",
       "      <td>14.23</td>\n",
       "      <td>1.71</td>\n",
       "      <td>2.43</td>\n",
       "      <td>15.6</td>\n",
       "      <td>127</td>\n",
       "      <td>2.80</td>\n",
       "      <td>3.06</td>\n",
       "      <td>0.28</td>\n",
       "      <td>2.29</td>\n",
       "      <td>5.64</td>\n",
       "      <td>1.04</td>\n",
       "      <td>3.92</td>\n",
       "      <td>1065</td>\n",
       "      <td>1</td>\n",
       "    </tr>\n",
       "    <tr>\n",
       "      <th>1</th>\n",
       "      <td>13.20</td>\n",
       "      <td>1.78</td>\n",
       "      <td>2.14</td>\n",
       "      <td>11.2</td>\n",
       "      <td>100</td>\n",
       "      <td>2.65</td>\n",
       "      <td>2.76</td>\n",
       "      <td>0.26</td>\n",
       "      <td>1.28</td>\n",
       "      <td>4.38</td>\n",
       "      <td>1.05</td>\n",
       "      <td>3.40</td>\n",
       "      <td>1050</td>\n",
       "      <td>1</td>\n",
       "    </tr>\n",
       "    <tr>\n",
       "      <th>2</th>\n",
       "      <td>13.16</td>\n",
       "      <td>2.36</td>\n",
       "      <td>2.67</td>\n",
       "      <td>18.6</td>\n",
       "      <td>101</td>\n",
       "      <td>2.80</td>\n",
       "      <td>3.24</td>\n",
       "      <td>0.30</td>\n",
       "      <td>2.81</td>\n",
       "      <td>5.68</td>\n",
       "      <td>1.03</td>\n",
       "      <td>3.17</td>\n",
       "      <td>1185</td>\n",
       "      <td>1</td>\n",
       "    </tr>\n",
       "    <tr>\n",
       "      <th>3</th>\n",
       "      <td>14.37</td>\n",
       "      <td>1.95</td>\n",
       "      <td>2.50</td>\n",
       "      <td>16.8</td>\n",
       "      <td>113</td>\n",
       "      <td>3.85</td>\n",
       "      <td>3.49</td>\n",
       "      <td>0.24</td>\n",
       "      <td>2.18</td>\n",
       "      <td>7.80</td>\n",
       "      <td>0.86</td>\n",
       "      <td>3.45</td>\n",
       "      <td>1480</td>\n",
       "      <td>1</td>\n",
       "    </tr>\n",
       "    <tr>\n",
       "      <th>4</th>\n",
       "      <td>13.24</td>\n",
       "      <td>2.59</td>\n",
       "      <td>2.87</td>\n",
       "      <td>21.0</td>\n",
       "      <td>118</td>\n",
       "      <td>2.80</td>\n",
       "      <td>2.69</td>\n",
       "      <td>0.39</td>\n",
       "      <td>1.82</td>\n",
       "      <td>4.32</td>\n",
       "      <td>1.04</td>\n",
       "      <td>2.93</td>\n",
       "      <td>735</td>\n",
       "      <td>1</td>\n",
       "    </tr>\n",
       "  </tbody>\n",
       "</table>\n",
       "</div>"
      ],
      "text/plain": [
       "   Alcohol  Malic_acid   Ash  Alcalinity_of_ash  Magnesium  Total_phenols  \\\n",
       "0    14.23        1.71  2.43               15.6        127           2.80   \n",
       "1    13.20        1.78  2.14               11.2        100           2.65   \n",
       "2    13.16        2.36  2.67               18.6        101           2.80   \n",
       "3    14.37        1.95  2.50               16.8        113           3.85   \n",
       "4    13.24        2.59  2.87               21.0        118           2.80   \n",
       "\n",
       "   Flavanoids  Nonflavanoid_phenols  Proanthocyanins  Color_intensity   Hue  \\\n",
       "0        3.06                  0.28             2.29             5.64  1.04   \n",
       "1        2.76                  0.26             1.28             4.38  1.05   \n",
       "2        3.24                  0.30             2.81             5.68  1.03   \n",
       "3        3.49                  0.24             2.18             7.80  0.86   \n",
       "4        2.69                  0.39             1.82             4.32  1.04   \n",
       "\n",
       "   OD280%2FOD315_of_diluted_wines  Proline target  \n",
       "0                            3.92     1065      1  \n",
       "1                            3.40     1050      1  \n",
       "2                            3.17     1185      1  \n",
       "3                            3.45     1480      1  \n",
       "4                            2.93      735      1  "
      ]
     },
     "execution_count": 78,
     "metadata": {},
     "output_type": "execute_result"
    }
   ],
   "source": [
    "import pandas as pd\n",
    "\n",
    "# Create a Pandas DataFrame using the data and feature names from the loaded dataset\n",
    "wine_df = pd.DataFrame(data=wine.data, columns=wine.feature_names)\n",
    "\n",
    "# Add the target variable to the DataFrame\n",
    "wine_df['target'] = wine.target\n",
    "\n",
    "wine_df.head()"
   ]
  },
  {
   "cell_type": "code",
   "execution_count": 79,
   "id": "b6c2ce0c-36b2-4e3c-a727-4947e369219e",
   "metadata": {},
   "outputs": [
    {
     "name": "stdout",
     "output_type": "stream",
     "text": [
      "<class 'pandas.core.frame.DataFrame'>\n",
      "RangeIndex: 178 entries, 0 to 177\n",
      "Data columns (total 14 columns):\n",
      " #   Column                          Non-Null Count  Dtype   \n",
      "---  ------                          --------------  -----   \n",
      " 0   Alcohol                         178 non-null    float64 \n",
      " 1   Malic_acid                      178 non-null    float64 \n",
      " 2   Ash                             178 non-null    float64 \n",
      " 3   Alcalinity_of_ash               178 non-null    float64 \n",
      " 4   Magnesium                       178 non-null    int64   \n",
      " 5   Total_phenols                   178 non-null    float64 \n",
      " 6   Flavanoids                      178 non-null    float64 \n",
      " 7   Nonflavanoid_phenols            178 non-null    float64 \n",
      " 8   Proanthocyanins                 178 non-null    float64 \n",
      " 9   Color_intensity                 178 non-null    float64 \n",
      " 10  Hue                             178 non-null    float64 \n",
      " 11  OD280%2FOD315_of_diluted_wines  178 non-null    float64 \n",
      " 12  Proline                         178 non-null    int64   \n",
      " 13  target                          178 non-null    category\n",
      "dtypes: category(1), float64(11), int64(2)\n",
      "memory usage: 18.5 KB\n"
     ]
    }
   ],
   "source": [
    "wine_df.info()"
   ]
  },
  {
   "cell_type": "code",
   "execution_count": 80,
   "id": "cd341ced-8a97-4436-a7cf-0dbd8d51d6c1",
   "metadata": {},
   "outputs": [
    {
     "data": {
      "text/plain": [
       "0"
      ]
     },
     "execution_count": 80,
     "metadata": {},
     "output_type": "execute_result"
    }
   ],
   "source": [
    "wine_df.duplicated().sum()"
   ]
  },
  {
   "cell_type": "code",
   "execution_count": 81,
   "id": "1fe7ae15-f6c8-48f9-b676-1edc97edf3c1",
   "metadata": {},
   "outputs": [
    {
     "data": {
      "text/plain": [
       "Alcohol                           0\n",
       "Malic_acid                        0\n",
       "Ash                               0\n",
       "Alcalinity_of_ash                 0\n",
       "Magnesium                         0\n",
       "Total_phenols                     0\n",
       "Flavanoids                        0\n",
       "Nonflavanoid_phenols              0\n",
       "Proanthocyanins                   0\n",
       "Color_intensity                   0\n",
       "Hue                               0\n",
       "OD280%2FOD315_of_diluted_wines    0\n",
       "Proline                           0\n",
       "target                            0\n",
       "dtype: int64"
      ]
     },
     "execution_count": 81,
     "metadata": {},
     "output_type": "execute_result"
    }
   ],
   "source": [
    "wine_df.isnull().sum()"
   ]
  },
  {
   "cell_type": "code",
   "execution_count": 82,
   "id": "a498ad0b-8af4-4cf5-a6ad-b0f55ab51144",
   "metadata": {},
   "outputs": [
    {
     "data": {
      "text/plain": [
       "(178, 14)"
      ]
     },
     "execution_count": 82,
     "metadata": {},
     "output_type": "execute_result"
    }
   ],
   "source": [
    "wine_df.shape"
   ]
  },
  {
   "cell_type": "code",
   "execution_count": 83,
   "id": "7f47336e-2281-494e-88de-124a96045cb4",
   "metadata": {},
   "outputs": [],
   "source": [
    "wine_df[\"target\"] = wine_df[\"target\"].astype(int)"
   ]
  },
  {
   "cell_type": "code",
   "execution_count": 84,
   "id": "3b7e171a-c2ce-4d82-837c-453e20bd9ffd",
   "metadata": {},
   "outputs": [
    {
     "name": "stdout",
     "output_type": "stream",
     "text": [
      "<class 'pandas.core.frame.DataFrame'>\n",
      "RangeIndex: 178 entries, 0 to 177\n",
      "Data columns (total 14 columns):\n",
      " #   Column                          Non-Null Count  Dtype  \n",
      "---  ------                          --------------  -----  \n",
      " 0   Alcohol                         178 non-null    float64\n",
      " 1   Malic_acid                      178 non-null    float64\n",
      " 2   Ash                             178 non-null    float64\n",
      " 3   Alcalinity_of_ash               178 non-null    float64\n",
      " 4   Magnesium                       178 non-null    int64  \n",
      " 5   Total_phenols                   178 non-null    float64\n",
      " 6   Flavanoids                      178 non-null    float64\n",
      " 7   Nonflavanoid_phenols            178 non-null    float64\n",
      " 8   Proanthocyanins                 178 non-null    float64\n",
      " 9   Color_intensity                 178 non-null    float64\n",
      " 10  Hue                             178 non-null    float64\n",
      " 11  OD280%2FOD315_of_diluted_wines  178 non-null    float64\n",
      " 12  Proline                         178 non-null    int64  \n",
      " 13  target                          178 non-null    int64  \n",
      "dtypes: float64(11), int64(3)\n",
      "memory usage: 19.6 KB\n"
     ]
    }
   ],
   "source": [
    "wine_df.info()"
   ]
  },
  {
   "cell_type": "code",
   "execution_count": 88,
   "id": "90bf35fb-e697-426f-8ef8-8592988c80e8",
   "metadata": {},
   "outputs": [
    {
     "data": {
      "image/png": "[encoded data removed]",
      "text/plain": [
       "<Figure size 1200x600 with 2 Axes>"
      ]
     },
     "metadata": {},
     "output_type": "display_data"
    }
   ],
   "source": [
    "import pandas as pd\n",
    "import matplotlib.pyplot as plt\n",
    "from sklearn.preprocessing import StandardScaler\n",
    "from sklearn.decomposition import PCA\n",
    "from sklearn.cluster import KMeans\n",
    "\n",
    "# Separate features (X) and target variable (y)\n",
    "X = wine_df.drop(columns=['target'])\n",
    "y = wine_df['target']\n",
    "\n",
    "pca = PCA(n_components=2)\n",
    "X_pca = pca.fit_transform(X_scaled)\n",
    "\n",
    "# Visualize the Results of PCA\n",
    "plt.figure(figsize=(12, 6))\n",
    "plt.scatter(X_pca[:, 0], X_pca[:, 1], c=y, cmap='viridis')\n",
    "plt.xlabel('Principal Component 1')\n",
    "plt.ylabel('Principal Component 2')\n",
    "plt.title('PCA of Wine Dataset')\n",
    "plt.colorbar(label='Target')\n",
    "plt.show()"
   ]
  },
  {
   "cell_type": "markdown",
   "id": "2b1ea91d-82d5-453c-8757-04fff921bf82",
   "metadata": {},
   "source": [
    "**Visualization of PCA Results:-**\n",
    "\n",
    "The scatter plot data is separated into three distinct clusters, which suggests that the PCA transformation has been able to capture the underlying structure of the data."
   ]
  },
  {
   "cell_type": "code",
   "execution_count": 93,
   "id": "6c3292ca-0c61-4a93-957b-dc7e1388480b",
   "metadata": {},
   "outputs": [
    {
     "name": "stdout",
     "output_type": "stream",
     "text": [
      "[0.36198848]\n"
     ]
    }
   ],
   "source": [
    "# Calculate the explained variance ratio\n",
    "explained_variance_ratio = pca.explained_variance_ratio_\n",
    "\n",
    "# Print the explained variance ratio\n",
    "print(explained_variance_ratio)"
   ]
  },
  {
   "cell_type": "code",
   "execution_count": 94,
   "id": "f1397adf-e46a-4e04-8e5f-85cdcb01c8e5",
   "metadata": {},
   "outputs": [
    {
     "name": "stdout",
     "output_type": "stream",
     "text": [
      "Cluster Labels:\n",
      "[2 2 2 2 0 2 2 2 2 2 2 2 2 2 2 2 2 2 2 2 2 0 2 2 2 0 2 2 2 2 2 2 2 2 2 2 2\n",
      " 0 2 2 2 0 2 0 2 0 2 2 2 2 2 2 2 2 2 2 2 2 2 0 1 1 0 2 0 0 2 0 0 2 1 2 0 2\n",
      " 2 0 0 1 2 0 0 0 0 1 0 0 0 0 0 0 1 1 1 0 0 2 0 0 2 2 0 0 0 0 0 1 0 1 0 2 2\n",
      " 0 1 0 0 0 0 0 1 0 0 2 0 0 0 0 0 1 0 1 1 1 1 1 1 1 1 1 1 1 1 1 1 1 1 1 1 1\n",
      " 1 1 1 1 1 1 1 1 1 1 0 1 1 1 1 1 1 1 1 1 1 1 1 1 1 1 1 1 1 1]\n"
     ]
    }
   ],
   "source": [
    "# Create a K-Means clustering model\n",
    "kmeans = KMeans(n_clusters=3, random_state=42, n_init=10)  \n",
    "\n",
    "# Fit the KMeans model to the data\n",
    "kmeans.fit(X_pca)\n",
    "\n",
    "# Predict the cluster labels for each data point\n",
    "y_pred = kmeans.predict(X_pca)\n",
    "\n",
    "cluster_labels = kmeans.fit_predict(X_pca)\n",
    "# Print cluster labels\n",
    "print(\"Cluster Labels:\")\n",
    "print(cluster_labels)"
   ]
  }
 ],
 "metadata": {
  "kernelspec": {
   "display_name": "Python 3 (ipykernel)",
   "language": "python",
   "name": "python3"
  },
  "language_info": {
   "codemirror_mode": {
    "name": "ipython",
    "version": 3
   },
   "file_extension": ".py",
   "mimetype": "text/x-python",
   "name": "python",
   "nbconvert_exporter": "python",
   "pygments_lexer": "ipython3",
   "version": "3.10.8"
  }
 },
 "nbformat": 4,
 "nbformat_minor": 5
}
