{
 "cells": [
  {
   "cell_type": "markdown",
   "id": "22e07021-4b3c-4e4a-8356-810a272e4231",
   "metadata": {},
   "source": [
    "<div class=\"alert alert-block alert-info\" style=\"font-size: 50px;\">\n",
    "    <b><center>Feature Engineering-2</center></b> \n",
    "</div>"
   ]
  },
  {
   "cell_type": "markdown",
   "id": "caddd9da-6d3e-482a-ad94-573caff275be",
   "metadata": {},
   "source": [
    "***\n",
    "***\n",
    "### Q1. What is the Filter method in feature selection, and how does it work?\n",
    "* The Filter method in feature selection is a technique used to select relevant features from a dataset based on their statistical properties or some other measure of importance. It works by independently evaluating each feature and assigning a score or ranking to them. Features are then selected or ranked based on these scores, and a subset of the most relevant features is chosen for model training."
   ]
  },
  {
   "cell_type": "markdown",
   "id": "838b209f-7abc-4ec7-9a5d-b125eb6d000e",
   "metadata": {},
   "source": [
    "### Q2. How does the Wrapper method differ from the Filter method in feature selection?\n",
    "\n",
    "* It evaluates feature subsets by considering the performance of a machine learning model. It involves creating multiple subsets of features and training a model with each subset. The performance of the model (e.g., accuracy, F1 score) is then used to determine which feature subset is the best. This method is computationally more intensive compared to the Filter method"
   ]
  },
  {
   "cell_type": "markdown",
   "id": "f63b4f62-b514-449f-8794-18058b0c848d",
   "metadata": {},
   "source": [
    "### Q3. What are some common techniques used in Embedded feature selection methods?\n",
    "\n",
    "* Embedded feature selection methods include techniques such as: \n",
    "    1. L1 regularization (Lasso regression) \n",
    "    1. Decision tree-based algorithms like Random Forest or XGBoost"
   ]
  },
  {
   "cell_type": "markdown",
   "id": "e9e455f0-216d-435d-9d61-c34702bfff91",
   "metadata": {},
   "source": [
    "### Q4. What are some drawbacks of using the Filter method for feature selection?\n",
    "\n",
    "* Drawbacks of using the Filter method for feature selection:\n",
    "    1. Ignores feature interactions.\n",
    "    1. May select redundant features.\n",
    "    1. Scoring metric choice can be subjective.\n",
    "    1. Doesn't consider the specific model's needs."
   ]
  },
  {
   "cell_type": "markdown",
   "id": "daa0f2b4-950b-4453-95c7-69c5414b7d0e",
   "metadata": {},
   "source": [
    "### Q5. In which situations would you prefer using the Filter method over the Wrapper method for feature selection?\n",
    "\n",
    "* We used Filter method over the Wrapper method for feature selection in situations where:-\n",
    "    1. Computational resources are limited.\n",
    "    1. You need a rapid and efficient feature selection process.\n",
    "    1. You want to get an initial understanding of feature relevance without exhaustively testing feature subsets."
   ]
  },
  {
   "cell_type": "markdown",
   "id": "07aad804-d391-4265-8c9a-01dfcccd13a9",
   "metadata": {},
   "source": [
    "### Q6. In a telecom company, you are working on a project to develop a predictive model for customer churn.You are unsure of which features to include in the model because the dataset contains several differentones. Describe how you would choose the most pertinent attributes for the model using the Filter Method.\n",
    "\n",
    "* You would follow these steps:\n",
    "    1. Calculate a relevance score for each feature using a suitable metric with the target variable.\n",
    "    1. Rank features based on their relevance scores.\n",
    "    1. Select the top N features with the highest scores.\n",
    "    1. Use the selected features to train your predictive model for customer churn."
   ]
  },
  {
   "cell_type": "markdown",
   "id": "14afcbdf-3842-4f51-8665-4f2f29dea5d2",
   "metadata": {},
   "source": [
    "### Q7. You are working on a project to predict the outcome of a soccer match. You have a large dataset withmany features, including player statistics and team rankings. Explain how you would use the Embedded method to select the most relevant features for the model.\n",
    "\n",
    "* To use the Embedded method to select the most relevant features for predicting the outcome of a soccer match, follow these steps:\n",
    "    1. Choose a machine learning algorithm suitable for the prediction task, such as a random forest or gradient boosting model.\n",
    "    1. Train the model on the entire dataset, including all features.\n",
    "    1. Extract feature importances from the trained model.\n",
    "    1. Rank or sort the features based on their importances.\n",
    "    1. Select the top N features.\n",
    "    1. Use this selected subset of features to build your predictive model for soccer match outcomes."
   ]
  },
  {
   "cell_type": "markdown",
   "id": "7c5fa6a4-8d3b-4659-92f6-0f88b6f43334",
   "metadata": {},
   "source": [
    "### Q8. You are working on a project to predict the price of a house based on its features, such as size, location,and age. You have a limited number of features, and you want to ensure that you select the most importantones for the model. Explain how you would use the Wrapper method to select the best set of features for the predictor.\n",
    "\n",
    "*  Follow these steps:\n",
    "\n",
    "    1. Start with an initial feature subset.\n",
    "    1. Train a machine learning model using this feature subset and evaluate its performance using a suitable metric.\n",
    "    1. Iteratively add or remove features from the subset and retrain the model performance at each step.\n",
    "    1. Use a search strategy to explore different feature combinations.\n",
    "    1. Stop the search when you find the best-performing feature subset based on the chosen evaluation metric.\n",
    "    1. Use the selected subset of features to build your final predictive model for house prices."
   ]
  }
 ],
 "metadata": {
  "kernelspec": {
   "display_name": "Python 3 (ipykernel)",
   "language": "python",
   "name": "python3"
  },
  "language_info": {
   "codemirror_mode": {
    "name": "ipython",
    "version": 3
   },
   "file_extension": ".py",
   "mimetype": "text/x-python",
   "name": "python",
   "nbconvert_exporter": "python",
   "pygments_lexer": "ipython3",
   "version": "3.10.8"
  }
 },
 "nbformat": 4,
 "nbformat_minor": 5
}
