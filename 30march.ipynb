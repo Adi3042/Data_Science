{
 "cells": [
  {
   "cell_type": "code",
   "execution_count": null,
   "id": "33a52c5b-f2c8-40ce-b328-27ebacec4948",
   "metadata": {},
   "outputs": [],
   "source": [
    "Q1. What is Elastic Net Regression and how does it differ from other regression techniques?\n",
    "\n",
    "\n",
    "    Elastic Net Regression is a linear regression technique that combines L1 (Lasso) and L2 (Ridge) regularization penalties.\n",
    "\n",
    "    It differs from other regression techniques by providing a weighted combination of both penalties in the objective function. \n",
    "    This allows Elastic Net to address the limitations of Lasso and Ridge by promoting feature selection (like Lasso) while also \n",
    "    handling multicollinearity (like Ridge)."
   ]
  },
  {
   "cell_type": "code",
   "execution_count": null,
   "id": "290b345d-8dcd-4f6b-9a10-89f1ec8f3caa",
   "metadata": {},
   "outputs": [],
   "source": [
    "Q2. How do you choose the optimal values of the regularization parameters for Elastic Net Regression?\n",
    "\n",
    "\n",
    "    The optimal values of the regularization parameters (alpha and lambda) in Elastic Net can be chosen through techniques\n",
    "    like cross-validation. Grid search or randomized search can be employed to explore a range of alpha and lambda values\n",
    "    and select the combination that results in the best model performance on a validation dataset."
   ]
  },
  {
   "cell_type": "code",
   "execution_count": null,
   "id": "da5cd0ec-1f86-4c4d-9f0d-c0086573af27",
   "metadata": {},
   "outputs": [],
   "source": [
    "Q3. What are the advantages and disadvantages of Elastic Net Regression?\n",
    "\n",
    "\n",
    "    Advantages:-\n",
    "\n",
    "        (i). Handles multicollinearity effectively due to the Ridge component.\n",
    "        \n",
    "        (ii). Performs feature selection like Lasso, reducing model complexity.\n",
    "        \n",
    "        (iii). Allows fine-tuning of the balance between L1 and L2 regularization.\n",
    "        \n",
    "        (iv). Robust to situations with a large number of features and potential multicollinearity.\n",
    "        \n",
    "    Disadvantages:-\n",
    "\n",
    "        (i). Requires tuning of two hyperparameters (alpha and lambda).\n",
    "        \n",
    "        (ii). The optimal balance between L1 and L2 regularization may not always be straightforward to determine.\n",
    "        \n",
    "        (iii). Computationally more intensive than ordinary linear regression."
   ]
  },
  {
   "cell_type": "code",
   "execution_count": null,
   "id": "8fd51a75-36f3-47b7-89fb-97b80ac5672f",
   "metadata": {},
   "outputs": [],
   "source": [
    "Q4. What are some common use cases for Elastic Net Regression?\n",
    "\n",
    "\n",
    "Elastic Net Regression is commonly used in scenarios where feature selection, multicollinearity, \n",
    "and linear regression are important. \n",
    "\n",
    "Some common use cases include:-\n",
    "\n",
    "    (i). Predictive modeling in economics and finance.\n",
    "    \n",
    "    (ii). Analyzing healthcare data to predict patient outcomes.\n",
    "    \n",
    "    (iii). Real estate price prediction.\n",
    "    \n",
    "    (iv). Image analysis with linear regression."
   ]
  },
  {
   "cell_type": "code",
   "execution_count": null,
   "id": "f23bbb88-a1ba-4c7f-b0e6-7516126ec275",
   "metadata": {},
   "outputs": [],
   "source": [
    "Q5. How do you interpret the coefficients in Elastic Net Regression?\n",
    "\n",
    "\n",
    "    (i). The interpretation of coefficients in Elastic Net Regression is similar to that in linear regression.\n",
    "    \n",
    "    (ii). Non-zero coefficients indicate the selected features and their impact on the target variable. \n",
    "    \n",
    "    (iii). The magnitude of the coefficients represents the strength of the linear relationship between the feature and the\n",
    "           target, and their sign (positive or negative) indicates the direction of that relationship."
   ]
  },
  {
   "cell_type": "code",
   "execution_count": null,
   "id": "7778a863-1e1c-4b98-af18-edf03328b617",
   "metadata": {},
   "outputs": [],
   "source": [
    "Q6. How do you handle missing values when using Elastic Net Regression?\n",
    "\n",
    "\n",
    "    Handling missing values in Elastic Net Regression involves strategies like imputation (replacing missing values\n",
    "    with estimated values) or feature engineering to create indicators for missingness. \n",
    "    The choice depends on the nature of the data and the extent of missingness."
   ]
  },
  {
   "cell_type": "code",
   "execution_count": null,
   "id": "1e2f6451-1d29-47a1-975f-e3660868bf5d",
   "metadata": {},
   "outputs": [],
   "source": [
    "Q7. How do you use Elastic Net Regression for feature selection?\n",
    "\n",
    "\n",
    "    Elastic Net automatically performs feature selection by setting some coefficients to zero during model training. \n",
    "    To use Elastic Net for feature selection, we can examine the non-zero coefficients, which correspond to the selected features.\n",
    "    Features with zero coefficients are effectively eliminated from the model."
   ]
  },
  {
   "cell_type": "code",
   "execution_count": null,
   "id": "378ba9ec-cbb9-4bc0-9881-ef5038a1c1c1",
   "metadata": {},
   "outputs": [],
   "source": [
    "Q8. How do you pickle and unpickle a trained Elastic Net Regression model in Python?\n",
    "\n",
    "\n",
    "    import pickle\n",
    "\n",
    "    # Train and save the model\n",
    "    model = ElasticNet()\n",
    "    model.fit(X_train, y_train)\n",
    "    with open('elastic_net_model.pkl', 'wb') as file:\n",
    "        pickle.dump(model, file)\n",
    "\n",
    "    # Load the model\n",
    "    with open('elastic_net_model.pkl', 'rb') as file:\n",
    "        loaded_model = pickle.load(file)\n",
    "\n",
    "    # Use the loaded model for predictions\n",
    "    predictions = loaded_model.predict(X_test)"
   ]
  },
  {
   "cell_type": "code",
   "execution_count": null,
   "id": "a8231160-e55b-4f23-b7c2-a0c81ea7224c",
   "metadata": {},
   "outputs": [],
   "source": [
    "Q9. What is the purpose of pickling a model in machine learning?\n",
    "\n",
    "\n",
    "    Pickling a model in machine learning serves the purpose of serializing (saving) the trained model to a file. \n",
    "    \n",
    "    This allows you to:-\n",
    "    \n",
    "        (i). Reuse the model for making predictions on new data without retraining.\n",
    "        \n",
    "        (ii). Share the model with others or deploy it in production environments.\n",
    "        \n",
    "        (iii). Maintain a record of the model for reproducibility and auditing purposes.\n",
    "        \n",
    "        (iv). Save time and computational resources by avoiding repeated model training.\n",
    "        \n",
    "        (v). Facilitate integration with other software or platforms for deployment."
   ]
  }
 ],
 "metadata": {
  "kernelspec": {
   "display_name": "Python 3 (ipykernel)",
   "language": "python",
   "name": "python3"
  },
  "language_info": {
   "codemirror_mode": {
    "name": "ipython",
    "version": 3
   },
   "file_extension": ".py",
   "mimetype": "text/x-python",
   "name": "python",
   "nbconvert_exporter": "python",
   "pygments_lexer": "ipython3",
   "version": "3.10.8"
  }
 },
 "nbformat": 4,
 "nbformat_minor": 5
}
